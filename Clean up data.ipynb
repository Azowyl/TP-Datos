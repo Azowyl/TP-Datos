{
 "cells": [
  {
   "cell_type": "markdown",
   "metadata": {
    "deletable": true,
    "editable": true
   },
   "source": [
    "# Clean up\n",
    "\n",
    "Lo que se pretende es aplicar los conceptos vistos de \"Análisis Exploratorio\" para limpiar los distintos set de datos proporcionados.\n",
    "\n",
    "Archivos en: https://www.kaggle.com/benhamner/sf-bay-area-bike-share\n",
    "\n",
    "Los archivos disponibles son 4:\n",
    "    * station.csv (8 KB)\n",
    "    * weather.csv (428 KB)\n",
    "    * trip.csv    (77 M)\n",
    "    * status.csv  (1,9 GB)"
   ]
  },
  {
   "cell_type": "code",
   "execution_count": 2,
   "metadata": {
    "collapsed": true,
    "deletable": true,
    "editable": true
   },
   "outputs": [],
   "source": [
    "import pandas as pd"
   ]
  },
  {
   "cell_type": "markdown",
   "metadata": {
    "deletable": true,
    "editable": true
   },
   "source": [
    "## Station.csv"
   ]
  },
  {
   "cell_type": "code",
   "execution_count": 3,
   "metadata": {
    "collapsed": false,
    "deletable": true,
    "editable": true
   },
   "outputs": [],
   "source": [
    "station = pd.read_csv('station.csv', sep=',', parse_dates=['installation_date'],\n",
    "                      infer_datetime_format=True,low_memory=False)"
   ]
  },
  {
   "cell_type": "markdown",
   "metadata": {
    "deletable": true,
    "editable": true
   },
   "source": [
    "### Types"
   ]
  },
  {
   "cell_type": "code",
   "execution_count": 4,
   "metadata": {
    "collapsed": false,
    "deletable": true,
    "editable": true
   },
   "outputs": [
    {
     "data": {
      "text/plain": [
       "id                            int64\n",
       "name                         object\n",
       "lat                         float64\n",
       "long                        float64\n",
       "dock_count                    int64\n",
       "city                         object\n",
       "installation_date    datetime64[ns]\n",
       "dtype: object"
      ]
     },
     "execution_count": 4,
     "metadata": {},
     "output_type": "execute_result"
    }
   ],
   "source": [
    "station.dtypes"
   ]
  },
  {
   "cell_type": "markdown",
   "metadata": {
    "deletable": true,
    "editable": true
   },
   "source": [
    "### Null values"
   ]
  },
  {
   "cell_type": "code",
   "execution_count": 5,
   "metadata": {
    "collapsed": false,
    "deletable": true,
    "editable": true
   },
   "outputs": [
    {
     "data": {
      "text/plain": [
       "id                   False\n",
       "name                 False\n",
       "lat                  False\n",
       "long                 False\n",
       "dock_count           False\n",
       "city                 False\n",
       "installation_date    False\n",
       "dtype: bool"
      ]
     },
     "execution_count": 5,
     "metadata": {},
     "output_type": "execute_result"
    }
   ],
   "source": [
    "station.isnull().any()"
   ]
  },
  {
   "cell_type": "markdown",
   "metadata": {
    "deletable": true,
    "editable": true
   },
   "source": [
    "### Size"
   ]
  },
  {
   "cell_type": "code",
   "execution_count": 6,
   "metadata": {
    "collapsed": false,
    "deletable": true,
    "editable": true
   },
   "outputs": [
    {
     "data": {
      "text/plain": [
       "(70, 7)"
      ]
     },
     "execution_count": 6,
     "metadata": {},
     "output_type": "execute_result"
    }
   ],
   "source": [
    "station.shape"
   ]
  },
  {
   "cell_type": "markdown",
   "metadata": {
    "deletable": true,
    "editable": true
   },
   "source": [
    "### Sample"
   ]
  },
  {
   "cell_type": "code",
   "execution_count": 7,
   "metadata": {
    "collapsed": false,
    "deletable": true,
    "editable": true
   },
   "outputs": [
    {
     "data": {
      "text/html": [
       "<div>\n",
       "<table border=\"1\" class=\"dataframe\">\n",
       "  <thead>\n",
       "    <tr style=\"text-align: right;\">\n",
       "      <th></th>\n",
       "      <th>id</th>\n",
       "      <th>name</th>\n",
       "      <th>lat</th>\n",
       "      <th>long</th>\n",
       "      <th>dock_count</th>\n",
       "      <th>city</th>\n",
       "      <th>installation_date</th>\n",
       "    </tr>\n",
       "  </thead>\n",
       "  <tbody>\n",
       "    <tr>\n",
       "      <th>0</th>\n",
       "      <td>2</td>\n",
       "      <td>San Jose Diridon Caltrain Station</td>\n",
       "      <td>37.329732</td>\n",
       "      <td>-121.901782</td>\n",
       "      <td>27</td>\n",
       "      <td>San Jose</td>\n",
       "      <td>2013-08-06</td>\n",
       "    </tr>\n",
       "    <tr>\n",
       "      <th>1</th>\n",
       "      <td>3</td>\n",
       "      <td>San Jose Civic Center</td>\n",
       "      <td>37.330698</td>\n",
       "      <td>-121.888979</td>\n",
       "      <td>15</td>\n",
       "      <td>San Jose</td>\n",
       "      <td>2013-08-05</td>\n",
       "    </tr>\n",
       "    <tr>\n",
       "      <th>2</th>\n",
       "      <td>4</td>\n",
       "      <td>Santa Clara at Almaden</td>\n",
       "      <td>37.333988</td>\n",
       "      <td>-121.894902</td>\n",
       "      <td>11</td>\n",
       "      <td>San Jose</td>\n",
       "      <td>2013-08-06</td>\n",
       "    </tr>\n",
       "    <tr>\n",
       "      <th>3</th>\n",
       "      <td>5</td>\n",
       "      <td>Adobe on Almaden</td>\n",
       "      <td>37.331415</td>\n",
       "      <td>-121.893200</td>\n",
       "      <td>19</td>\n",
       "      <td>San Jose</td>\n",
       "      <td>2013-08-05</td>\n",
       "    </tr>\n",
       "    <tr>\n",
       "      <th>4</th>\n",
       "      <td>6</td>\n",
       "      <td>San Pedro Square</td>\n",
       "      <td>37.336721</td>\n",
       "      <td>-121.894074</td>\n",
       "      <td>15</td>\n",
       "      <td>San Jose</td>\n",
       "      <td>2013-08-07</td>\n",
       "    </tr>\n",
       "  </tbody>\n",
       "</table>\n",
       "</div>"
      ],
      "text/plain": [
       "   id                               name        lat        long  dock_count  \\\n",
       "0   2  San Jose Diridon Caltrain Station  37.329732 -121.901782          27   \n",
       "1   3              San Jose Civic Center  37.330698 -121.888979          15   \n",
       "2   4             Santa Clara at Almaden  37.333988 -121.894902          11   \n",
       "3   5                   Adobe on Almaden  37.331415 -121.893200          19   \n",
       "4   6                   San Pedro Square  37.336721 -121.894074          15   \n",
       "\n",
       "       city installation_date  \n",
       "0  San Jose        2013-08-06  \n",
       "1  San Jose        2013-08-05  \n",
       "2  San Jose        2013-08-06  \n",
       "3  San Jose        2013-08-05  \n",
       "4  San Jose        2013-08-07  "
      ]
     },
     "execution_count": 7,
     "metadata": {},
     "output_type": "execute_result"
    }
   ],
   "source": [
    "station.head()"
   ]
  },
  {
   "cell_type": "markdown",
   "metadata": {
    "deletable": true,
    "editable": true
   },
   "source": [
    "## Weather.csv"
   ]
  },
  {
   "cell_type": "code",
   "execution_count": 8,
   "metadata": {
    "collapsed": false,
    "deletable": true,
    "editable": true
   },
   "outputs": [],
   "source": [
    "weather = pd.read_csv('weather.csv', sep=',', parse_dates=['date'],\n",
    "                      infer_datetime_format=True,low_memory=False)"
   ]
  },
  {
   "cell_type": "markdown",
   "metadata": {
    "deletable": true,
    "editable": true
   },
   "source": [
    "### Types"
   ]
  },
  {
   "cell_type": "code",
   "execution_count": 9,
   "metadata": {
    "collapsed": false,
    "deletable": true,
    "editable": true
   },
   "outputs": [
    {
     "data": {
      "text/plain": [
       "date                              datetime64[ns]\n",
       "max_temperature_f                        float64\n",
       "mean_temperature_f                       float64\n",
       "min_temperature_f                        float64\n",
       "max_dew_point_f                          float64\n",
       "mean_dew_point_f                         float64\n",
       "min_dew_point_f                          float64\n",
       "max_humidity                             float64\n",
       "mean_humidity                            float64\n",
       "min_humidity                             float64\n",
       "max_sea_level_pressure_inches            float64\n",
       "mean_sea_level_pressure_inches           float64\n",
       "min_sea_level_pressure_inches            float64\n",
       "max_visibility_miles                     float64\n",
       "mean_visibility_miles                    float64\n",
       "min_visibility_miles                     float64\n",
       "max_wind_Speed_mph                       float64\n",
       "mean_wind_speed_mph                      float64\n",
       "max_gust_speed_mph                       float64\n",
       "precipitation_inches                      object\n",
       "cloud_cover                              float64\n",
       "events                                    object\n",
       "wind_dir_degrees                         float64\n",
       "zip_code                                   int64\n",
       "dtype: object"
      ]
     },
     "execution_count": 9,
     "metadata": {},
     "output_type": "execute_result"
    }
   ],
   "source": [
    "weather.dtypes"
   ]
  },
  {
   "cell_type": "code",
   "execution_count": 10,
   "metadata": {
    "collapsed": false,
    "deletable": true,
    "editable": true
   },
   "outputs": [
    {
     "data": {
      "text/plain": [
       "array(['0', '0.23', 'T', '0.01', '0.28', '0.63', '0.29', '0.06', '0.85',\n",
       "       '0.09', '0.64', '0.42', '0.35', '0.43', '0.22', '0.74', '0.03',\n",
       "       '0.12', '0.16', '0.49', '0.17', '0.08', '0.04', '0.53', '0.07',\n",
       "       '0.02', '0.83', '1.06', '1.71', '0.37', '0.27', '0.45', '0.78',\n",
       "       '0.88', '0.66', '0.47', '0.1', '0.61', '0.14', '0.05', '0.68',\n",
       "       '0.97', '0.26', '0.15', '0.87', '0.57', '0.69', '0.32', '0.21',\n",
       "       '0.24', '0.52', '0.36', '0.33', '0.25', '0.11', '0.2', '1.18',\n",
       "       '1.43', '3.12', '0.48', '0.19', '1.09', '0.65', '0.13', '0.91',\n",
       "       '0.99', '0.18', '0.4', '1.07', nan, '0.41', '0.34', '1.25', '1.85',\n",
       "       '3.36', '0.71', '1.3', '0.72', '0.6', '0.51', '1.2', '1.28', '3.23',\n",
       "       '0.55', '1.26', '0.39'], dtype=object)"
      ]
     },
     "execution_count": 10,
     "metadata": {},
     "output_type": "execute_result"
    }
   ],
   "source": [
    "weather['precipitation_inches'].unique()"
   ]
  },
  {
   "cell_type": "markdown",
   "metadata": {
    "deletable": true,
    "editable": true
   },
   "source": [
    "Llamativamente, \"T\", es un dato válido, por \"trace\", significa que se detectó lluvia, pero no la suficiente para poder ser medida.\n",
    "\n",
    "[Fuente 1](http://help.wunderground.com/knowledgebase/articles/656875-what-does-t-stand-for-on-the-rain-precipitation)\n",
    "\n",
    "Aquí, [Fuente 2](http://www.experts123.com/q/what-does-the-t-mean-in-the-precipitation-column-of-the-data-listing.html) indica que la precipitación debe ser menor a 0,01 pulgadas\n",
    "\n",
    "En principio, opino que deberíamos mantener ese valor 'T', ya veremos si nos resulta de utilidad"
   ]
  },
  {
   "cell_type": "code",
   "execution_count": 11,
   "metadata": {
    "collapsed": false,
    "deletable": true,
    "editable": true
   },
   "outputs": [
    {
     "data": {
      "text/plain": [
       "array(['Fog', 'Rain', nan, 'Fog-Rain', 'Rain-Thunderstorm'], dtype=object)"
      ]
     },
     "execution_count": 11,
     "metadata": {},
     "output_type": "execute_result"
    }
   ],
   "source": [
    "weather[weather['precipitation_inches'] == 'T']['events'].unique()"
   ]
  },
  {
   "cell_type": "markdown",
   "metadata": {
    "deletable": true,
    "editable": true
   },
   "source": [
    "Efectivamente, los eventos muestran que fueron días de lluvia, o al menos de humedad debido a la presencia de niebla."
   ]
  },
  {
   "cell_type": "code",
   "execution_count": 12,
   "metadata": {
    "collapsed": false,
    "deletable": true,
    "editable": true
   },
   "outputs": [],
   "source": [
    "weather['min_dew_point_f'] = pd.to_numeric(weather['min_dew_point_f'], errors='coerce')"
   ]
  },
  {
   "cell_type": "code",
   "execution_count": 13,
   "metadata": {
    "collapsed": false,
    "deletable": true,
    "editable": true
   },
   "outputs": [
    {
     "data": {
      "text/plain": [
       "array([nan, 'Fog', 'Rain', 'Fog-Rain', 'rain', 'Rain-Thunderstorm'], dtype=object)"
      ]
     },
     "execution_count": 13,
     "metadata": {},
     "output_type": "execute_result"
    }
   ],
   "source": [
    "weather['events'].unique()"
   ]
  },
  {
   "cell_type": "code",
   "execution_count": 14,
   "metadata": {
    "collapsed": true,
    "deletable": true,
    "editable": true
   },
   "outputs": [],
   "source": [
    "# Uniformizando\n",
    "\n",
    "weather['events'] = weather['events'].apply(lambda x: 'Rain' if x == 'rain' else x)"
   ]
  },
  {
   "cell_type": "markdown",
   "metadata": {
    "deletable": true,
    "editable": true
   },
   "source": [
    "### Null values"
   ]
  },
  {
   "cell_type": "code",
   "execution_count": 15,
   "metadata": {
    "collapsed": false,
    "deletable": true,
    "editable": true
   },
   "outputs": [
    {
     "data": {
      "text/plain": [
       "date                              False\n",
       "max_temperature_f                  True\n",
       "mean_temperature_f                 True\n",
       "min_temperature_f                  True\n",
       "max_dew_point_f                    True\n",
       "mean_dew_point_f                   True\n",
       "min_dew_point_f                    True\n",
       "max_humidity                       True\n",
       "mean_humidity                      True\n",
       "min_humidity                       True\n",
       "max_sea_level_pressure_inches      True\n",
       "mean_sea_level_pressure_inches     True\n",
       "min_sea_level_pressure_inches      True\n",
       "max_visibility_miles               True\n",
       "mean_visibility_miles              True\n",
       "min_visibility_miles               True\n",
       "max_wind_Speed_mph                 True\n",
       "mean_wind_speed_mph                True\n",
       "max_gust_speed_mph                 True\n",
       "precipitation_inches               True\n",
       "cloud_cover                        True\n",
       "events                             True\n",
       "wind_dir_degrees                   True\n",
       "zip_code                          False\n",
       "dtype: bool"
      ]
     },
     "execution_count": 15,
     "metadata": {},
     "output_type": "execute_result"
    }
   ],
   "source": [
    "weather.isnull().any()"
   ]
  },
  {
   "cell_type": "markdown",
   "metadata": {
    "deletable": true,
    "editable": true
   },
   "source": [
    "### Size"
   ]
  },
  {
   "cell_type": "code",
   "execution_count": 16,
   "metadata": {
    "collapsed": false,
    "deletable": true,
    "editable": true
   },
   "outputs": [
    {
     "data": {
      "text/plain": [
       "(3665, 24)"
      ]
     },
     "execution_count": 16,
     "metadata": {},
     "output_type": "execute_result"
    }
   ],
   "source": [
    "weather.shape"
   ]
  },
  {
   "cell_type": "markdown",
   "metadata": {},
   "source": [
    "### Sample"
   ]
  },
  {
   "cell_type": "code",
   "execution_count": 40,
   "metadata": {
    "collapsed": false
   },
   "outputs": [
    {
     "data": {
      "text/html": [
       "<div>\n",
       "<table border=\"1\" class=\"dataframe\">\n",
       "  <thead>\n",
       "    <tr style=\"text-align: right;\">\n",
       "      <th></th>\n",
       "      <th>date</th>\n",
       "      <th>max_temperature_f</th>\n",
       "      <th>mean_temperature_f</th>\n",
       "      <th>min_temperature_f</th>\n",
       "      <th>max_dew_point_f</th>\n",
       "      <th>mean_dew_point_f</th>\n",
       "      <th>min_dew_point_f</th>\n",
       "      <th>max_humidity</th>\n",
       "      <th>mean_humidity</th>\n",
       "      <th>min_humidity</th>\n",
       "      <th>...</th>\n",
       "      <th>mean_visibility_miles</th>\n",
       "      <th>min_visibility_miles</th>\n",
       "      <th>max_wind_Speed_mph</th>\n",
       "      <th>mean_wind_speed_mph</th>\n",
       "      <th>max_gust_speed_mph</th>\n",
       "      <th>precipitation_inches</th>\n",
       "      <th>cloud_cover</th>\n",
       "      <th>events</th>\n",
       "      <th>wind_dir_degrees</th>\n",
       "      <th>zip_code</th>\n",
       "    </tr>\n",
       "  </thead>\n",
       "  <tbody>\n",
       "    <tr>\n",
       "      <th>0</th>\n",
       "      <td>2013-08-29</td>\n",
       "      <td>74.0</td>\n",
       "      <td>68.0</td>\n",
       "      <td>61.0</td>\n",
       "      <td>61.0</td>\n",
       "      <td>58.0</td>\n",
       "      <td>56.0</td>\n",
       "      <td>93.0</td>\n",
       "      <td>75.0</td>\n",
       "      <td>57.0</td>\n",
       "      <td>...</td>\n",
       "      <td>10.0</td>\n",
       "      <td>10.0</td>\n",
       "      <td>23.0</td>\n",
       "      <td>11.0</td>\n",
       "      <td>28.0</td>\n",
       "      <td>0</td>\n",
       "      <td>4.0</td>\n",
       "      <td>NaN</td>\n",
       "      <td>286.0</td>\n",
       "      <td>94107</td>\n",
       "    </tr>\n",
       "    <tr>\n",
       "      <th>1</th>\n",
       "      <td>2013-08-30</td>\n",
       "      <td>78.0</td>\n",
       "      <td>69.0</td>\n",
       "      <td>60.0</td>\n",
       "      <td>61.0</td>\n",
       "      <td>58.0</td>\n",
       "      <td>56.0</td>\n",
       "      <td>90.0</td>\n",
       "      <td>70.0</td>\n",
       "      <td>50.0</td>\n",
       "      <td>...</td>\n",
       "      <td>10.0</td>\n",
       "      <td>7.0</td>\n",
       "      <td>29.0</td>\n",
       "      <td>13.0</td>\n",
       "      <td>35.0</td>\n",
       "      <td>0</td>\n",
       "      <td>2.0</td>\n",
       "      <td>NaN</td>\n",
       "      <td>291.0</td>\n",
       "      <td>94107</td>\n",
       "    </tr>\n",
       "    <tr>\n",
       "      <th>2</th>\n",
       "      <td>2013-08-31</td>\n",
       "      <td>71.0</td>\n",
       "      <td>64.0</td>\n",
       "      <td>57.0</td>\n",
       "      <td>57.0</td>\n",
       "      <td>56.0</td>\n",
       "      <td>54.0</td>\n",
       "      <td>93.0</td>\n",
       "      <td>75.0</td>\n",
       "      <td>57.0</td>\n",
       "      <td>...</td>\n",
       "      <td>10.0</td>\n",
       "      <td>10.0</td>\n",
       "      <td>26.0</td>\n",
       "      <td>15.0</td>\n",
       "      <td>31.0</td>\n",
       "      <td>0</td>\n",
       "      <td>4.0</td>\n",
       "      <td>NaN</td>\n",
       "      <td>284.0</td>\n",
       "      <td>94107</td>\n",
       "    </tr>\n",
       "    <tr>\n",
       "      <th>3</th>\n",
       "      <td>2013-09-01</td>\n",
       "      <td>74.0</td>\n",
       "      <td>66.0</td>\n",
       "      <td>58.0</td>\n",
       "      <td>60.0</td>\n",
       "      <td>56.0</td>\n",
       "      <td>53.0</td>\n",
       "      <td>87.0</td>\n",
       "      <td>68.0</td>\n",
       "      <td>49.0</td>\n",
       "      <td>...</td>\n",
       "      <td>10.0</td>\n",
       "      <td>10.0</td>\n",
       "      <td>25.0</td>\n",
       "      <td>13.0</td>\n",
       "      <td>29.0</td>\n",
       "      <td>0</td>\n",
       "      <td>4.0</td>\n",
       "      <td>NaN</td>\n",
       "      <td>284.0</td>\n",
       "      <td>94107</td>\n",
       "    </tr>\n",
       "    <tr>\n",
       "      <th>4</th>\n",
       "      <td>2013-09-02</td>\n",
       "      <td>75.0</td>\n",
       "      <td>69.0</td>\n",
       "      <td>62.0</td>\n",
       "      <td>61.0</td>\n",
       "      <td>60.0</td>\n",
       "      <td>58.0</td>\n",
       "      <td>93.0</td>\n",
       "      <td>77.0</td>\n",
       "      <td>61.0</td>\n",
       "      <td>...</td>\n",
       "      <td>10.0</td>\n",
       "      <td>6.0</td>\n",
       "      <td>23.0</td>\n",
       "      <td>12.0</td>\n",
       "      <td>30.0</td>\n",
       "      <td>0</td>\n",
       "      <td>6.0</td>\n",
       "      <td>NaN</td>\n",
       "      <td>277.0</td>\n",
       "      <td>94107</td>\n",
       "    </tr>\n",
       "  </tbody>\n",
       "</table>\n",
       "<p>5 rows × 24 columns</p>\n",
       "</div>"
      ],
      "text/plain": [
       "        date  max_temperature_f  mean_temperature_f  min_temperature_f  \\\n",
       "0 2013-08-29               74.0                68.0               61.0   \n",
       "1 2013-08-30               78.0                69.0               60.0   \n",
       "2 2013-08-31               71.0                64.0               57.0   \n",
       "3 2013-09-01               74.0                66.0               58.0   \n",
       "4 2013-09-02               75.0                69.0               62.0   \n",
       "\n",
       "   max_dew_point_f  mean_dew_point_f  min_dew_point_f  max_humidity  \\\n",
       "0             61.0              58.0             56.0          93.0   \n",
       "1             61.0              58.0             56.0          90.0   \n",
       "2             57.0              56.0             54.0          93.0   \n",
       "3             60.0              56.0             53.0          87.0   \n",
       "4             61.0              60.0             58.0          93.0   \n",
       "\n",
       "   mean_humidity  min_humidity   ...     mean_visibility_miles  \\\n",
       "0           75.0          57.0   ...                      10.0   \n",
       "1           70.0          50.0   ...                      10.0   \n",
       "2           75.0          57.0   ...                      10.0   \n",
       "3           68.0          49.0   ...                      10.0   \n",
       "4           77.0          61.0   ...                      10.0   \n",
       "\n",
       "   min_visibility_miles  max_wind_Speed_mph  mean_wind_speed_mph  \\\n",
       "0                  10.0                23.0                 11.0   \n",
       "1                   7.0                29.0                 13.0   \n",
       "2                  10.0                26.0                 15.0   \n",
       "3                  10.0                25.0                 13.0   \n",
       "4                   6.0                23.0                 12.0   \n",
       "\n",
       "   max_gust_speed_mph  precipitation_inches  cloud_cover  events  \\\n",
       "0                28.0                     0          4.0     NaN   \n",
       "1                35.0                     0          2.0     NaN   \n",
       "2                31.0                     0          4.0     NaN   \n",
       "3                29.0                     0          4.0     NaN   \n",
       "4                30.0                     0          6.0     NaN   \n",
       "\n",
       "   wind_dir_degrees zip_code  \n",
       "0             286.0    94107  \n",
       "1             291.0    94107  \n",
       "2             284.0    94107  \n",
       "3             284.0    94107  \n",
       "4             277.0    94107  \n",
       "\n",
       "[5 rows x 24 columns]"
      ]
     },
     "execution_count": 40,
     "metadata": {},
     "output_type": "execute_result"
    }
   ],
   "source": [
    "weather.head()"
   ]
  },
  {
   "cell_type": "markdown",
   "metadata": {},
   "source": [
    "## Trip.csv"
   ]
  },
  {
   "cell_type": "code",
   "execution_count": 18,
   "metadata": {
    "collapsed": false,
    "deletable": true,
    "editable": true
   },
   "outputs": [],
   "source": [
    "trips = pd.read_csv('trip.csv', sep=',', parse_dates=['start_date','end_date'],\n",
    "                      infer_datetime_format=True,low_memory=False)"
   ]
  },
  {
   "cell_type": "markdown",
   "metadata": {
    "deletable": true,
    "editable": true
   },
   "source": [
    "### Types"
   ]
  },
  {
   "cell_type": "code",
   "execution_count": 19,
   "metadata": {
    "collapsed": false,
    "deletable": true,
    "editable": true
   },
   "outputs": [
    {
     "data": {
      "text/plain": [
       "id                             int64\n",
       "duration                       int64\n",
       "start_date            datetime64[ns]\n",
       "start_station_name            object\n",
       "start_station_id               int64\n",
       "end_date              datetime64[ns]\n",
       "end_station_name              object\n",
       "end_station_id                 int64\n",
       "bike_id                        int64\n",
       "subscription_type             object\n",
       "zip_code                      object\n",
       "dtype: object"
      ]
     },
     "execution_count": 19,
     "metadata": {},
     "output_type": "execute_result"
    }
   ],
   "source": [
    "trips.dtypes"
   ]
  },
  {
   "cell_type": "markdown",
   "metadata": {
    "deletable": true,
    "editable": true
   },
   "source": [
    "### Null values"
   ]
  },
  {
   "cell_type": "code",
   "execution_count": 20,
   "metadata": {
    "collapsed": false,
    "deletable": true,
    "editable": true
   },
   "outputs": [
    {
     "data": {
      "text/plain": [
       "id                    False\n",
       "duration              False\n",
       "start_date            False\n",
       "start_station_name    False\n",
       "start_station_id      False\n",
       "end_date              False\n",
       "end_station_name      False\n",
       "end_station_id        False\n",
       "bike_id               False\n",
       "subscription_type     False\n",
       "zip_code               True\n",
       "dtype: bool"
      ]
     },
     "execution_count": 20,
     "metadata": {},
     "output_type": "execute_result"
    }
   ],
   "source": [
    "trips.isnull().any()"
   ]
  },
  {
   "cell_type": "markdown",
   "metadata": {
    "deletable": true,
    "editable": true
   },
   "source": [
    "### Outliers"
   ]
  },
  {
   "cell_type": "code",
   "execution_count": 44,
   "metadata": {
    "collapsed": false
   },
   "outputs": [
    {
     "name": "stdout",
     "output_type": "stream",
     "text": [
      "set([nan, '35235', '110000', '11542', '11545', '5980', '8100003', '32506', '55343', '74012', '82225', '6790', '98311', '98312', '97150', '98641', '99999', '19971', '94847', '88022', '97333', '97331', '97330', '70866050', '60090', '17257', '10709', '10708', '10701', '26121', '63028', '10706', '10705', '84123', '84120', '84121', '84124', '84128', '84129', '45111', '45116', '85615', '44241', '44240', '81230170', '50219', '22877', '49306', '38501', '94155', '94153', '94150', '3513', '75050', '3510', '75056', '94158', '3514', '70663', '90640', '70665', '14624', '14627', '14620', '14623', '99', '68283', '38642', '91', '90', '92', '94', '18707', '95923', '78660', '18708', '78666', '78665', '94541', '94542', '94545', '94544', '94547', '94546', '94549', '17821', '87109', '87108', '20259', '20251', '87105', '87107', '87106', '83616', '23059', '23508', '23505', '1179', '27617', '27616', '27615', '27614', '27613', '27612', '941009', '38440', '560016', '29103', '7183', '88030300', '72704', '72701', '8545', '87571', '8540', '8010', '92262', '74016', '7452', '7450', '95945', '95948', '95949', '66502', '55331', '55330', '6794', '92084', '92083', '50678', '4843', '61239', '77025', '77024', '77027', '92882', '92883', '92880', '73071', '22015', '31909', '31904', '2300', '81501', '13617', '81504', '32224', '32225', '19707', '19702', '32223', '41066', '98109', '98108', '3748', '98105', '98104', '98107', '98106', '98101', '98103', '98102', '94309', '94303', '94302', '94301', '94300', '94307', '94306', '94305', '94304', '11757', '11755', '90813', '90815', '90814', '19565', '51100', '63900', '20886', '20885', '20732', '20882', '97456', '4400', '10512', '60015', '60016', '60010', '172', '80104', '80106', '80107', '80100', '80108', '80109', '46301', '21286', '9430893', '45305', '48226', '20083', '48220', '83860', '83864', '77802', '99507', '99504', '99502', '99503', '99501', '6212', '6210', '75300', '90104', '90107', '90100', '90102', '6811', '6810', '6812', '90109', '90108', '95160', '95161', '40883', '95164', '10579', '95166', '10577', '10570', '10573', '18938', '8848', '8840', '8844', '33024', '7661', '7666', '1080073', '89107', '37167', '37073', '1768', '89451', '1760', '89450', '40222', '67370', '30519', '442150', '28428', '1541', '11111', '14472', '30337', '94956', '94957', '94954', '94952', '94953', '94950', '94951', '55060', '13849', '22793261', '55102', '55103', '55101', '55106', '92606', '55104', '55105', '55108', '55109', '5616', '5617', '5614', '96793', '70117', '89205101', '91210', '91211', '91214', '35211', '96080', '11560', '11561', '11563', '11565', '11566', '10707', '98665', '97133', '98662', '6770', '4061001', '32073', '55812', '38002', '12037', '64610', '60302', '63043', '63044', '9503', '9500', '9501', '65520', '49546', '84108', '84109', '48362', '84101', '84102', '84103', '84104', '84105', '84106', '84107', '43147', '2517', '2512', '70118', '46517', '46511', '125466', '75070', '75074', '75075', '68116', '5054', '5055', '5057', '5052', '5053', '60466', '94178', '60462', '94170', '90660', '70130', '46311', '58231', '80112', '122011', '13078', '5269040', '44223', '45440', '33525', '87124', '87123', '87122', '87121', '94568', '91047', '94566', '94565', '94564', '94563', '91042', '91041', '91040', '10185', '83638', '40764', '941111', '97913', '30298', '302', '78641', '78132', '78645', '78130', '31210', '8035', '8030', '8033', '8032', '79518', '8038', '76209', '12589', '8523', '12582', '8520', '8527', '8525', '95969', '95219', '92240', '95961', '95215', '95212', '95966', '95967', '94154', '65060', '306', '10169', '90732', '22030', '22031', '22032', '22033', '22034', '22039', '65201', '61255', '77003', '77002', '77007', '77006', '77005', '77004', '77009', '77008', '10167', '34890115', '55317', '55316', '93118', '32246', '55311', '93111', '93110', '93117', '98122', '98121', '98120', '17603', '98126', '98125', '39308', '2186', '2184', '2189', '4603', '6451', '155', '20868', '20864', '20715', '8134', '25560', '60073', '60070', '60076', '60077', '60074', '48208', '90291', '90290', '90293', '90292', '48203', '45322', '48201', '7940', '454100', '83843', '248000', '97477', '95173', '12206', '90125', '95503', '6360', '96707', '95501', '53562', '53563', '10510', '10514', '37360', '21409', '8860', '8861', '21401', '21403', '818', '40516', '86401', '1701', '1708', '15853', '40203', '40200', '40207', '40206', '40205', '14456', '33957', '14450', '28409', '94977', '94973', '28403', '58553', '28401', '94978', '94979', '3020', '95821', '30350', '30605', '30606', '92832', '8736', '30609', '8734', '950003', '92831', '8731', '303', '31008', '31005', '31004', '31000', '32566', '18923', '5672', '5673', '92835', '95826', '89001', '55128', '55129', '91235', '55122', '55124', '55125', '55126', '55127', '34188', '33231', '11217', '66044', '66047', '11214', '66049', '47007', '6437', '48858', '6430', '27000', '82152', '92188', '30096', '98607', '98604', '97115', '92763', '91062', '39031', '91064', '32726', '95011', '234', '64630', '85388', '49525', '85381', '45400', '45409', '99958', '2536', '58039', '58038', '9075909419', '75098', '68138', '5071', '68132', '68131', '5075', '70115', '60441', '94119', '70112', '94112', '25219', '94110', '94111', '94116', '94117', '94114', '94115', '9568', '90603', '90600', '90601', '90606', '90604', '90605', '113299', '13090', '125445', '85126', '80440', '80443', '80442', '84025', '84526', '84523', '33540', '33541', '1820', '119192', '48076', '75226', '48073', '95645', '9387', '99770', '1170', '99775', '95648', '71573', '72074', '1135', '80521', '31763', '85006', '7143', '42203', '2148', '33898', '78112', '8053', '8500', '8503', '8502', '8057', '8504', '8055', '8054', '72211', '76226', '79576', '95236', '78261', '92518', '2882', '2886', '6060815', '2888', '50323', '28092', '2', '994901', '55033', '89218550', '77069', '77068', '1929', '77063', '81543', '77064', '73034', '77066', '11249', '11244', '65044', '19038', '65043', '55666', '19034', '19035', '19030', '15201', '94348', '94343', '687', '32343', '11793', '11791', '11790', '72122', '78239', '682', '60053', '60056', '80636', '80637', '80634', '80631', '98145', '98144', '70560', '2703', '33155', '7960', '33406', '53092', '95435', '95432', '33157', '9170', '33404', '6250', '10530', '53235', '53233', '53546', '10538', '8017', '8544', '9713', '9712', '9711', '75134', '24109', '8884', '18972', '8880', '18976', '8012', '41311', '41318', '68304', '5245', '1720', '1721', '40591', '9000', '3005', '14300', '3000', '14305', '3008', '91432', '91433', '91436', '94113', '94914', '3400034', '91438', '1581', '9454', '95446', '31537', '53066', '97070800', '2480005', '66062', '66061', '23228', '27023', '23222', '23223', '23220', '23226', '23225', '55359', '60178', '6419', '15300', '44106', '95391', '95390', '92169', '92166', '3912', '74077', '8311', '92709', '92708', '92701', '92703', '92705', '39057', '92707', '92706', '32701', '12730630', '32708', '218', '96099', '12078', '12076', '77477', '77470', '77478', '77479', '46226', '49509', '49507', '49506', '49505', '49503', '49050', '98082', '530560', '81739', '45424', '85365', '81669', '5013', '5014', '5017', '5018', '94130', '94131', '94132', '94133', '94134', '94135', '94137', '92081', '17412', '90620', '90621', '90623', '4416', '4415', '60424', '101300', '9546', '917', '84090', '14823', '45289', '20100', '80465', '80469', '41501', '99026', '95663', '95662', '44483', '95660', '95667', '6433621', '29708', '29707', '11443', '37087', '37086', '33706', '33701', '18507', '33703', '73045', '92886', '78681', '60864455', '92887', '85140', '37663', '37660', '33566', '73072', '29393', '30033', '30032', '30030', '30039', '8072', '95252', '92570', '92571', '44950', '66213', '1111', '13642', '68516', '68510', '28079', '47905', '47906', '2478', '26501', '26505', '96701', '91377', '15542', '77047', '77046', '73012', '73013', '77043', '77042', '77041', '77049', '92399', '23693', '32937', '19010', '19013', '93625', '93620', '93622', '61073', '1800', '27278', '95624', '10456', '25524', '86821', '194', '74246', '14546', '947111', '42420', '98168', '98166', '98164', '97702', '97701', '3745', '95410', '9150', '9158', '99567', '3740', '7901', '12245', '38125', '9731', '9733', '9735', '53219', '53214', '1660002', '53217', '32459', '53212', '53213', '49265', '37411', '854', '75110', '852', '29623', '6', '610', '98580', '44012', '37042', '54915', '37047', '1310031', '8902', '70212', '78543', '78542', '78541', '3062', '3060', '3066', '3065', '18330', '11758', '18337', '94939', '94930', '91147', '79762', '91413', '34677', '4817', '89044', '85937', '85935', '4816', '95043', '29063', '40241', '52101', '82110', '27040', '1040051', '1040052', '492', '6479', '6478', '3510011', '6473', '12400', '6470', '6477', '31040', '35010', '50827', '35014', '9240', '7751', '7753', '77581', '19465', '3934', '32541', '19460', '3933', '19462', '8330', '6715', '88310', '72555', '9904', '24466', '179', '22153', '22152', '22151', '22150', '22408', '175', '77459', '13753', '4043', '77454', '77450', '3660', '3663', '49073', '73200', '12144', '90422', '43123', '90425', '9496000', '2574', '2570', '93455', '96130', '93458', '98206', '83013', '98204', '98203', '5038', '5033', '98208', '60404', '60402', '972', '971', '1080', '979', '85340', '20124', '20120', '20129', '62802', '44718', '70605', '80401', '80403', '41071', '48033', '45002', '48035', '41075', '48038', '10471', '10473', '99004', '95608', '95603', '95602', '95605', '63179', '33761', '37068', '37064', '71201', '48221', '7102', '7105', '7109', '5411', '3526', '78155', '37601', '68161', '30058', '99508', '98296', '34000', '30054', '85298', '92550', '92554', '92557', '92591', '76005', '76002', '1460', '5414025', '77205', '91352', '91351', '91350', '91356', '91355', '91354', '91605', '91604', '91607', '91606', '91601', '38201', '91603', '91602', '92808', '92806', '92807', '92804', '92805', '50588', '92801', '11201', '89521', '11204', '89523', '11206', '11209', '19073', '19070', '32951', '32955', '2600822', '23410', '76915', '97006', '95340', '64500', '46385', '56601', '90540', '96069', '95472', '9132', '7922', '7920', '7921', '10310', '10312', '9138', '10314', '92130', '10640', '53051', '93015', '95162', '81675', '26122', '60091', '26120', '60093', '60098', '31', '7801', '96714', '7708', '96712', '94075', '38444', '94070', '94073', '3431', '94079', '3435', '2037', '2035', '2034', '2032', '2031', '2748', '2038', '8869', '5200', '14169', '14165', '58601', '36070', '53589', '95044', '18640', '78523', '78526', '3049', '675000', '94407', '94401', '94402', '94403', '958233', '3040', '3042', '3045', '3046', '27410', '87047', '1913', '40004', '95833', '83204', '83205', '83202', '73500', '83200', '83201', '1094', '1096', '73501', '1090', '1091', '1093', '1098', '1099', '36050', '73505', '408', '1326', '1325', '89504', '47711', '47712', '6907', '6903', '6902', '6901', '6459', '11225', '82130', '92121', '92120', '92123', '92122', '92124', '92127', '92126', '92129', '92128', '7738', '7733', '7731', '35037', '19440', '19447', '19446', '19444', '34747', '62139', '50118', '50111', '65616', '4066', '77433', '4068', '4069', '93291', '3601', '90408', '90409', '90401', '90402', '90403', '90404', '90405', '32746', '11432', '11436', '98228', '98225', '98221', '97577', '98223', '60173', '60172', '4450', '60175', '60174', '4458', '80799', '49015', '80241', '80247', '80246', '80797', '85364', '84098', '20147', '20145', '84092', '84093', '48638', '20149', '84097', '84094', '84095', '80045', '80512', '80424', '88113420', '94103-2585', '84030', '1765', '6338', '46590', '2670066', '41011', '41017', '10451', '129128', '75234', '95621', '95620', '10458', '10100', '95628', '21769', '2170', '43616', '11850', '8904', '33034', '37040', '8901', '54911', '30218', '30215', '1661', '591', '83014', '598', '59000', '80610010', '941080', '2820', '5415', '28031', '28036', '28037', '28034', '76063', '1409', '34242', '1406', '1405', '13905', '4217', '7743', '13901', '18104', '18109', '30077', '30076', '30075', '91331', '91335', '72904', '30079', '95838', '77083', '77082', '77081', '95831', '77087', '95834', '95835', '89503', '89502', '89501', '93662', '89507', '89506', '11229', '11228', '11226', '89509', '11224', '11223', '11222', '11221', '11220', '4017', '19053', '19055', '22302', '22303', '22301', '22306', '22307', '22304', '22305', '22309', '61705', '4561004', '25304', '23433', '23432', '31206', '30338', '72135', '92821', '1250053', '6109', '6107', '6103', '6102', '6100', '10930', '56377', '9110', '9112', '9115', '9441', '9440', '33410', '21158', '65428', '2900004', '33143', '81657', '81656', '81654', '81658', '64083', '26101', '64081', '81302', '8530', '75152', '75150', '46901', '94050', '58341', '94059', '984181', '90219', '70058', '70506', '90217', '2016', '90211', '90210', '90212', '33487', '33483', '96161', '50400', '30144', '55107', '60616', '60617', '60614', '60615', '60612', '60613', '60610', '60611', '20681', '60618', '60619', '10590', '10591', '10595', '36507', '1310021', '54701', '94180', '91102', '91103', '20355', '91101', '91106', '48170', '91104', '91105', '17901', '91108', '20359', '56001', '45254', '44500', '40023', '52078', '80528', '4635080', '9117', '22775060', '78050', '78052', '29027', '18963', '76548', '30542', '8117', '95338', '92109', '92108', '7719', '92106', '92105', '95336', '92103', '95330', '92101', '92100', '110847', '50132', '28773', '47089', '86305', '77414', '33115510', '4001', '43252', '32503', '32502', '19425', '19426', '952154', '93277', '93274', '93270', '807277', '97089', '98028', '98029', '98026', '98027', '98023', '98020', '97086', '11413', '11415', '11419', '93410', '94192', '98249', '52066', '52061', '60118', '77080', '60115', '80220', '80223', '80222', '80224', '85307', '85306', '80229', '80228', '42071', '2464', '2465', '2466', '45236', '2460', '2461', '45229', '45226', '45227', '48612', '2468', '20165', '48340', '45221', '45233', '97225', '97224', '97227', '97220', '97223', '97222', '97229', '97228', '90026', '90027', '90024', '90025', '90022', '90020', '90021', '45040', '90028', '90029', '10439', '91408', '10435', '10437', '9303', '33014', '33015', '33016', '33017', '33010', '37024', '33012', '63130', '33018', '33019', '53190', '80911', '80919', '80918', '380', '1640', '1649', '44720', '29492', '386', '641830', '571', '570', '577', '2803', '2806', '1208', '1420', '1425', '1424', '1426', '1428', '8536', '28015', '28017', '34222', '76049', '34220', '34221', '30274', '94709', '76040', '94852', '34228', '1207', '79064', '1201', '35171', '35173', '5555', '2017', '91316', '79245', '91311', '70503', '2010', '30097', '2012', '30092', '31320', '110100', '23185', '23188', '61761', '6550', '59718', '41006', '41007', '23453', '23456', '95632', '3104', '92840', '92841', '353', '39116', '351', '95817', '95818', '95819', '358', '10118', '94316', '10117', '3103', '10950', '10956', '64711', '20688', '98112', '65400', '65401', '90805', '4631', '43065', '43062', '81631', '2252', '46256', '46254', '46250', '13783', '2197', '63857', '75602', '75600', '75604', '250', '22911', '60586', '94038', '2780', '2783', '94030', '94035', '94034', '94037', '94036', '9465', '10600', '10601', '10606', '10607', '9462', '90232', '2071', '90230', '2076', '2074', '11959', '14127', '14125', '11950', '11953', '33462', '52722', '10598', '80215', '60638', '60637', '60630', '60631', '36527', '36037', '84660', '84663', '119034', '702850', '48152', '48154', '94440', '91122', '91125', '91126', '91127', '67000', '6570035', '99452', '44070', '44074', '44077', '19128', '59110', '14110000', '7080', '7083', '7082', '7087', '7086', '44824', '20354', '37922', '37923', '62618', '91107', '19123', '91789', '91784', '91786', '91787', '91780', '123154', '50019', '86753', '95310', '95315', '17906', '57000', '66608', '66604', '34786', '77380', '77381', '77382', '92782', '77386', '77388', '77389', '889503', '4390', '3195', '28750', '28209', '28208', '28205', '712456', '28203', '1369', '127018', '4025', '4022', '4020', '60060', '77165', '30240130', '64030', '8201', '11380', '93250', '11385', '89170', '93258', '89178', '32839', '32835', '19406', '32837', '32836', '19403', '19152', '94203', '96150', '96151', '93433', '96155', '93436', '32789', '51600', '32780', '292', '60137', '60134', '60133', '60131', '60130', '52003', '60139', '36202', '36207', '20871', '80209', '85327', '80206', '80205', '80204', '80203', '80202', '98004', '98005', '98006', '98007', '98000', '98001', '46000', '98008', '99203', '99202', '2446', '2445', '64297', '83001', '93926', '93924', '8094', '93922', '93923', '7860', '91423', '57186', '7869', '200093', '65806', '16816', '97203', '97202', '97201', '97200', '97207', '97206', '97205', '97204', '6371', '97209', '6373', '90008', '45869', '90004', '90005', '90006', '90007', '90000', '90002', '90003', '63110', '63112', '63445', '63115', '63116', '63117', '63118', '63119', '33070', '33071', '54956', '37001', '45205', '45206', '48360', '84058', '48237', '84057', '84054', '45208', '45209', '84050', '49417', '5404', '49413', '49418', '3207', '3205', '1430', '84583', '28008', '3208', '45066', '44333', '555', '556', '553', '5452', '5455', '1196', '34209', '34203', '78717', '4250', '3564', '98360', '72000', '92659', '364001', '132222222', '8702', '83720', '6280020', '97845', '29615', '29617', '3831', '3832', '3833', '455', '457', '78840', '2193', '92868', '92869', '92648', '92649', '92860', '92861', '92646', '92647', '92865', '92866', '92867', '32312', '19363', '94404', '10970', '10973', '709395', '77598', '64844', '21117', '22701', '2274', '81612', '81611', '92107', '11596', '11590', '7718', '11598', '92104', '49770', '92102', '94017', '94015', '94014', '94013', '94011', '94010', '94019', '94018', '90250', '2053', '2052', '90255', '90254', '2056', '4530', '7980', '9401', '9400', '9407', '9406', '9405', '9404', '9409', '9408', '52416', '21412', '33442', '33193', '33446', '33445', '33196', '52742', '60659', '37377', '60653', '60656', '60657', '60654', '85044', '85042', '85040', '85041', '85048', '62650', '84646', '48138', '48130', '48420', '95765', '95762', '60502', '18444', '68901', '20164', '63304', '63301', '7066', '29576', '29577', '33990', '37760', '78015', '12487', '8624', '76502', '76504', '95370', '95374', '95377', '95376', '11234', '89511', '89512', '77365', '9980', '11021', '11020', '11023', '415', '412', '28223', '28226', '95991', '94569', '95993', '87120', '43212', '43215', '43214', '43219', '77100', '96310', '91044', '11366', '11367', '11364', '11365', '11362', '91506', '91504', '91505', '61350', '94561', '91501', '32812', '32811', '94560', '32817', '32816', '32815', '32814', '94224', '333411', '75204', '64108', '60487', '60486', '60482', '60480', '74107', '8801', '74105', '74104', '52244', '52245', '98066', '21204', '98065', '80501', '2420', '2421', '99223', '80482', '93908', '80487', '93905', '93906', '93907', '93901', '12107', '6355', '61820', '61821', '61828', '6359', '56072', '97266', '9340', '90068', '90069', '9610', '9611', '90062', '95688', '10165', '90066', '90067', '90064', '90065', '21254', '21703', '21702', '21701', '84074', '81541', '1810', '48302', '48300', '48301', '48306', '48307', '48304', '48309', '85705', '85704', '44139', 'nil', '44135', '44136', '44131', '85708', '44133', '1609', '3228', '98934', '1602', '3221', '1604', '1606', '49287', '40300', '2840', '2841', '5473', '14261', '45883', '77096', '45889', '92673', '30501', '89701', '89703', '78738', '78739', '78734', '78737', '78730', '78731', '78733', '5519', '19428', '5511', '77098', '83702', '83706', '83705', '83704', '83709', '47304', '3030', '27701', '27703', '27705', '27704', '27707', '27708', '11105', '6518', '76179', '6510', '6511', '6512', '15025', '6516', '941244', '29631', '30342', '31100', '35134', '35137', '3620', '78133', '55487', '3810', '3818', '8450', '39157', '92335', '92336', '8708', '50052', '92628', '92629', '35864', '94520', '92620', '50501', '92627', '92624', '92625', '55262', '19348', '32669', '19344', '55269', '19341', '19342', '19343', '65193', '10994', '76201', '10990', '94526', '650000', '21131', '21136', '24941', '901433', '2211', '2210', '2216', '2215', '77640', '77642', '94524', '43023', '43026', '98545', '46218', '46210', '46217', '34531', '90278', '90277', '90907', '90274', '70033', '4517', '90270', '85280', '85281', '85282', '85283', '85284', '85286', '9424', '71645010', '9426', '58822', '5280', '5283', '7009', '63366', '45387', '80016', '80014', '80015', '80012', '80013', '20914', '20910', '20913', '20912', '48118', '7001', '92530', '95211', '7302', '7300', '7306', '7307', '7304', '7305', '95746', '95747', '9281', '54500', '78259', '78258', '78252', '63368', '78257', '78254', '12931', '7045', '7044', '7047', '7046', '7041', '7040', '7043', '7042', '7048', '95334', '37217', '37214', '37215', '37212', '8600', '8604', '50265', '50266', '50263', '95357', '95356', '95355', '95354', '95352', '95351', '95350', '1018', '1014', '1016', '1017', '1010', '1011', '1012', '1013', '77345', '77340', '85302', '11001', '11000', '80227', '28711', '80226', '94596', '94597', '94595', '94592', '94590', '94591', '434', '94598', '94599', '73118', '73116', '73112', '43235', '54806', '55014', '89138', '89139', '19115', '55011', '19116', '19119', '32878', '89130', '89131', '93215', '5702', '89135', '35475', '60318', '82718', '25403', '20169', '2467', '97068', '98040', '97062', '98042', '98043', '98047', '95510', '95519', '95518', '45223', '19803', '19802', '7828', '21093', '19806', '93960', '19808', '61800', '61801', '56093', '89508', '20166', '49630', '1832', '1833', '84010', '84014', '75254', '3510025', '75252', '48328', '2155', '81004', '2150', '2151', '2400', '65203', '45241', '45242', '48323', '45244', '48326', '45247', '44118', '44113', '44116', '44115', '44114', '1957', '4876', '1950', '1952', '3152', '14063', '14060', '49456', '41091', '94607', '94604', '94605', '94602', '94603', '94601', '3246', '94608', '94609', '90041', '90042', '90043', '90044', '90045', '90046', '90731', '90048', '90049', '94040', '60598', '14209', '1486', '3304', '14201', '3303', '3300', '3301', '94740', '20052', '36604', '36602', '5700016', '78759', '78752', '78750', '78751', '78756', '78757', '53008', '27516', '2790', '99601', '941003', '29928', '510', '90201', '514', '517', '626', '1220', '11040', '1229', '15005', '99043', '169370', '15009', '29651', '29650', '79407', '91950', '8470', '88451', '92602', '92603', '92604', '92354', '10128', '35803', '32608', '32603', '32601', '32606', '32605', '52960', '22299', '64800', '62442', '98433', '98387', '98382', '63139', '33011', '37027', '2230', '2233', '2232', '93551', '93555', '93004', '93001', '93003', '98563', '2097', '2090', '2093', '34120', '85268', '85262', '85260', '52788', '81925', '80030', '80031', '80033', '85008', '85009', '46234', '46236', '46237', '46239', '85000', '42206', '80526', '85007', '80524', '80525', '99163', '78230', '78233', '78232', '95722', '78238', '95726', '95724', '3', '11937', '33154', '33405', '33156', '33151', '33150', '33401', '15632', '30173', '7023', '7020', '9003', '7026', '9001', '7024', '7029', '7028', '37235', '78589', '84606', '84604', '84602', '84601', '47806', '47800', '1030', '94450', '32827', '4620001', '5372110', '14543', '28262', '28260', '8660', '91099', '38120', '91724', '91722', '38127', '77498', '4082', '32825', '4086', '1570063', '77494', '89117', '89119', '89448', '89449', '55076', '19139', '55075', '1430014', '19134', '19130', '95037', '47114', '65814', '8083', '8088', '22193', '22192', '44310', '98715', '97005', '97007', '98713', '97008', '92014', '92011', '93940', '96717', '7803', '93944', '53150', '95531', '53154', '21075', '16303', '15213', '2502', '69310', '60190', '60193', '60194', '86291', '21218', '2724', '15218', '21211', '21210', '21213', '21212', '21214', '75238', '75232', '1851', '1852', '75231', '1854', '79968', '84037', '43617', '2171', '2176', '43613', '48202', '4963', '85743', '85742', '85745', '80995', '3261', '1930', '99106', '1938', '5120', '94624', '94621', '75089', '90717', '90710', '90712', '90713', '14222', '14223', '14226', '14228', '5048', '94720', '32903', '20036', '20037', '1760011', '34224', '85817', '60477', '11231', '6883', '6880', '6888', '91390', '950140', '945500', '1400013', '29412', '29414', '604', '607', '600', '603', '1205', '1204', '47613', '53072336646', '95095', '79423', '55449', '91977', '79424', '55443', '55442', '55441', '55446', '55444', '12205', '8412', '50014', '50012', '50010', '92372', '92373', '92374', '92376', '66102', '66109', '61107', '61100', '895111', '86045', '4142', '3856', '28104', '28105', '28109', '22761', '22767', '98367', '82901', '27539', '12914475', '95326', '95327', '93023', '93022', '93021', '93535', '98501', '98503', '98502', '52411', '98506', '90940', '4558', '60504', '60505', '4552', '85248', '85249', '51899', '90160005', '15732', '45160', '634003', '85021', '85022', '80503', '80504', '85028', '6074', '6073', '6070', '42223', '42737', '6078', '2617', '10028', '10029', '10026', '10027', '10024', '10025', '10022', '10023', '10021', '865555', '78219', '0', '78217', '78216', '78212', '6500846', '33179', '33178', '62901', '33173', '33172', '33170', '33176', '33175', '70437', '63367', '7008', '9025', '7000', '7003', '7002', '7005', '7004', '7006', '24018', '24014', '22889', '742', '748', '50220', '50225', '1050', '1051', '1053', '1054', '1055', '1056', '1058', '30152', '30159', '4314', '77301', '77304', '33824', '54100', '54102', '48063', '91706', '38103', '91701', '91702', '38100', '3117', '91709', '38109', '3110', '111111', '8648', '34471', '64436', '93702', '93704', '93705', '11300', '89465', '91560', '91054', '55056', '25822', '15216', '15217', '15215', '87508', '15210', '15211', '87505', '87501', '12538', '22102', '16541', '97028', '97027', '6661', '97023', '92031', '92037', '7', '92034', '92038', '32164', '96734', '19518', '32168', '29307', '21050', '21054', '21236', '21234', '21231', '21230', '1876', '75211', '75214', '75215', '75218', '75219', '98198', '98199', '2118', '2119', '57106', '57100', '57103', '2110', '2111', '2112', '2113', '2114', '2115', '2116', '14020', '58102', '6044', '17055', '17050', '98999', '1911', '5100', '1915', '13210', '60714', '90089', '886', '33618', '33619', '33616', '33617', '888', '58103', '33611', '20010', '20011', '20012', '20015', '20016', '94708', '94707', '94706', '94705', '94704', '94703', '94702', '94700', '95811', '95812', '39110', '7500', '95815', '84414', '95816', '92845', '94976', '95115', '95114', '95117', '95116', '95111', '95110', '95113', '95112', '95119', '95118', '9581', '71110', '76462', '72145', '664', '1267', '8789', '9588', '95076', '77845', '95072', '95073', '95070', '77840', '37115', '34135', '8738', '33165', '91911', '91910', '91913', '30607', '91915', '91914', '9820', '86023', '77511', '4124', '55423', '55422', '55425', '55424', '55427', '55426', '8.61E+11', '93041', '96035', '93044', '93510', '11515', '93420', '60527', '60521', '60523', '94093', '94090', '25039', '30160032', '1540001', '85226', '85224', '85225', '46410', '135512', '46142', '46143', '46140', '2587', '99347', '69126', '1110023', '45140', '99349', '33613', '16046', '13459', '95223', '77021', '6057', '6051', '10004', '10005', '10006', '10007', '2639', '10001', '10002', '10003', '20017', '10008', '10009', '20018', '95225', '38732', '84176', '12354', '70458', '123423', '9043', '75005', '75004', '75007', '75006', '75001', '75000', '556699', '75002', '21550', '75009', '84317', '83339', '83333', '83330', '54295', '71854', '68239', '1075', '92833', '1073', '1070', '1071', '13007', '30131', '13000', '80230', '33803', '33800', '33805', '14586', '18000', '14580', '91762', '72801', '91761', '91766', '91767', '91764', '91765', '62035', '34416', '67601', '31401', '31405', '31406', '89408', '93720', '93721', '93726', '93727', '91587', '91582', '59068', '28806', '47450', '28803', '28801', '47150', '87529', '15238', '15235', '15236', '15237', '15232', '15233', '7424', '7423', '7422', '7421', '92584', '92234', '73175', '6604', '6605', '6606', '88200', '56560', '92058', '92055', '92054', '92057', '92056', '21030', '96753', '96754', '96755', '22046', '22041', '22043', '12188', '65721', '3112', '12180', '1425080', '2350', '2356', '43920', '99645', '49655', '13023011', '1894', '1890', '2136', '2134', '2135', '2132', '2130', '2131', '2138', '79925', '11724', '11725', '11722', '53117', '99801', '97405', '94039', '5162', '97401', '97403', '97402', '14000', '97408', '94662', '94663', '62550', '17070', '90755', '77019', '33328', '84780', '33322', '33323', '54601', '33326', '33327', '33324', '34800', '87327', '45805', '70079', '3214301', '80331', '80337', '41262', '98272', '41127', '80000000', '2072', '6840', '99669', '95133', '95132', '95131', '95130', '95136', '95135', '95134', '88058500', '95139', '95138', '620908', '33637', '81200100', '15533', '76118', '95054', '95056', '39402', '95050', '95051', '95052', '95053', '31675', '7632', '7630', '7631', '37135', '91770', '34110', '91773', '33460', '19025', '44864', '9845', '19027', '38117', '1240', '3090', '1242', '1245', '1532', '1247', '646', '23141', '4101', '4100', '77539', '4102', '4105', '4104', '4107', '4109', '86004', '86001', '86000', '55409', '55408', '32400', '55406', '55405', '55404', '55403', '55402', '55401', '8957', '95442', '5959', '93065', '11530', '93063', '88696', '49686', '60540', '11001000', '85209', '60260', '85200', '85201', '85202', '85203', '46168', '85205', '85207', '98321', '33407', '98325', '98329', '1457', '17267', '6033', '6032', '6037', '97361', '6035', '10060', '10061', '9201', '9200', '10065', '10069', '9208', '33139', '33138', '33137', '33136', '33134', '33133', '33132', '33131', '33130', '45120', '84158', '9061', '85012', '9069', '10282', '10280', '10281', '125363', '75023', '75025', '75024', '75028', '41468', '48198', '48197', '48192', '48191', '2903', '2900', '2906', '2905', '2904', '2909', '2908', '702', '91120', '14618', '5020881', '14617', '20191', '20190', '30115', '30117', '78613', '78610', '33868', '18069', '33860', '54143', '149', '18064', '91748', '27502', '94518', '94519', '94516', '91741', '91034', '94515', '94512', '94513', '94510', '94511', '83646', '83642', '29841', '83648', '23556', '89423', '96826', '59047', '59044', '48082', '23336', '23888', '72758', '87544', '123007', '12578', '12572', '12571', '12577', '35967', '95938', '7405', '7407', '92210', '7401', '95936', '19083', '55364', '32219', '16509', '16505', '32216', '55369', '84939', '92075', '92071', '92078', '562', '9990540', '21017', '21015', '19554', '2818', '22066', '119400', '2011', '2332', '77704', '2339', '77706', '49109', '12508', '21901', '49101', '46620', '49107', '21904', '79902', '79907', '99867', '4901', '4675', '2482', '2480', '2481', '93306', '93304', '93305', '93301', '96778', '96779', '11706', '11700', '11701', '93308', '93309', '97424', '96821', '96822', '96825', '5140', '60025', '123', '60020', '20769', '17013', '94682', '20763', '80138', '80134', '80131', '80130', '80132', '45822', '5420', '10400', '95482', '95488', '83814', '42104', '42101', '68130', '6820', '41100', '6824', '6825', '94118', '10547', '10546', '10543', '53532', '10549', '53538', '95159', '95158', '60445', '29303', '95153', '95155', '95154', '95156', '8817', '33301', '33304', '33305', '33306', '8810', '33308', '33309', '18901', '37330', '18902', '30309', '30308', '59901', '30305', '8210', '30307', '30306', '8215', '30303', '70119', '7650', '95033', '7652', '95031', '44080', '95035', '95038', '95388', '37150', '92688', '40509', '92683', '40502', '14424', '14425', '28300', '58502', '24502', '24501', '76131', '76132', '76133', '77550', '10524', '53220', '10520', '91266', '34683', '38330', '34689', '35226', '35223', '35222', '91650', '11552', '11557', '11559', '43081', '43082', '110032', '43085', '55282', '91306', '91307', '3330961', '22213', '995126', '120115', '60563', '60564', '60565', '66609', '263', '85086', '85087', '74394', '990685', '6010', '6012', '6014', '88011', '6019', '6018', '30080', '97302', '97303', '97301', '97306', '97304', '9267', '10040', '53707', '53704', '53705', '10044', '53703', '10046', '36854', '37350', '7657', '84133', '48216', '64912', '45102', '45101', '44209', '85621', '85122', '85629', '22041012', '46815', '94144', '94147', '94146', '94141', '94140', '94142', '68144', '75042', '5087', '75044', '5085', '44202', '90305', '90304', '90303', '90650', '90301', '77067', '2921', '2920', '82070', '5330', '58260', '79102', '38650', '4614001', '33510', '18049', '94534', '94535', '94536', '94537', '91010', '91011', '94533', '94538', '94539', '27560', '64145', '725', '95210', '67133', '1166', '10528', '75093', '1712', '8552', '8550', '34540', '8009', '8004', '8005', '8558', '8000', '8001', '8002', '8003', '39211', '95953', '95955', '95959', '50939', '3199', '35763', '50935', '55345', '19711', '55347', '19714', '52863', '60910', '60914', '92095', '92092', '640809', '22000', '22003', '2390822', '2314', '81243', '81247', '81401', '98466', '3770', '52398', '4650', '11735', '92420', '2109', '11768', '11762', '7882', '11767', '17033', '20740', '17036', '60001', '60007', '60005', '60004', '100', '2101', '105', '2100', '21921', '80113', '49168', '80111', '80110', '85435', '70180', '99515', '10000', '99517', '99516', '44647', '5112', '7260', '44640', '6204', '12237', '6200', '6202', '6807', '6804', '3018', '6800', '6801', '10562', '70808', '70809', '10567', '95172', '70800', '3591106', '49783', '18929', '4610000', '8837', '8836', '8831', '8830', '18925', '8832', '30329', '30322', '30327', '30326', '30324', '95018', '95019', '80807', '80806', '95010', '7677', '95012', '7675', '95014', '95015', '7670', '32653', '85308', '1757', '1754', '29585', '83120', '34996', '30363', '94492', '94949', '94945', '94947', '94941', '1576', '94942', '953238', '8052', '6016', '77573', '77571', '8050', '55110', '55113', '55112', '55115', '55114', '55117', '55116', '55119', '55118', '30012', '91209', '91208', '91201', '91203', '91202', '91205', '91204', '91207', '91206', '35203', '110017', '35205', '35209', '11577', '11576', '5999', '11572', '11570', '511356', '19382', '74008', '48312', '74001', '6783', '97140', '6787', '10245', '98674', '5303000', '33626', '55803', '55802', '55805', '55804', '32004', '32003', '97321', '97326', '12000', '100004', '50324', '50327', '26389', '63051', '9539', '9536', '57406', '65510', '84119', '84118', '84117', '84116', '84115', '84114', '84111', '45810', '90491', '24090', '44780', '125413', '85601', '22801', '22802', '75063', '75062', '75061', '75068', '94163', '75003', '94164', '36830', '53726', '36832', '70129', '70128', '70124', '70121', '70122', '54987', '9494499', '58201', '2130002', '44256', '94552', '94553', '94550', '94551', '94556', '91077', '94555', '94558', '94559', '27549', '17837', '87110', '87111', '80207', '44436', '85326', '29803', '83607', '1141', '1147', '23510', '85323', '23517', '27608', '27609', '59001', '23230', '27600', '27604', '27605', '27606', '27607', '78653', '945399', '31207', '5160011', '31201', '31200', '72712', '95403', '8022', '8534', '8535', '8024', '7440', '199053', '95209', '7446', '95205', '95204', '95207', '95206', '95973', '95203', '52803', '52800', '46260', '1350063', '99208', '22027', '95106', '3490115', '77036', '77035', '385', '77030', '13662', '8113213', '32250', '32257', '32256', '32258', '96403', '17630', '94310', '94311', '98118', '98119', '98116', '98117', '98446', '98115', '3755', '98110', '90804', '2191', '90806', '90807', '90802', '90803', '2199', '90808', '11740', '11741', '11743', '11746', '78418', '20723', '1620023', '20895', '3909', '60068', '60061', '90220', '166', '60062', '60067', '90221', '74211', '20099', '48236', '45645', '2738', '20097', '2048', '83858', '7203', '77065', '12211', '97462', '54401', '54403', '76107', '123543', '53578', '10502', '53575', '10506', '18940', '53024', '18944', '18947', '63263', '8859', '8851', '8850', '8857', '8854', '98632', '80829', '1775', '5277', '1770', '1773', '1772', '1778', '6310804', '9959', '40237', '40545', '91763', '14468', '11109', '27523', '11102', '11103', '11101', '11106', '3031', '11104', '3033', '30341', '30340', '8701', '8700', '30345', '32266', '8704', '94963', '94960', '91447', '94966', '94965', '32137', '3700701', '5601', '5602', '89015', '89014', '7600', '89012', '91224', '33076', '6422', '48843', '48842', '22254', '98611', '98612', '97127', '97124', '371', '6760', '91901', '45202', '12020', '19902', '1880001', '64625', '149110', '45410', '38112', '60160140', '90470', '2500', '85663', '68102', '68106', '75088', '68105', '5046', '75081', '75080', '75082', '94109', '94108', '94101', '94100', '94103', '94102', '94105', '94104', '94107', '94106', '2019', '9516', '9511', '9513', '9512', '70100', '9519', '9518', '14853', '14850', '14858', '62301', '83440', '83442', '44233', '28480', '44236', '94578', '94579', '48067', '94570', '94572', '94574', '94575', '94577', '99708', '99706', '941108', '1129', '1121', '1123', '15108', '15106', '15102', '30281', '78100', '8042', '8043', '12590', '8045', '8510', '8047', '8048', '8049', '61427', '12842', '92503', '92501', '92500', '92507', '92506', '92505', '92504', '23061', '66226', '66221', '66223', '61790', '21745', '82009', '77018', '31952', '77015', '77010', '93104', '93105', '93101', '93103', '43302', '93108', '93109', '2700', '55303', '55304', '55305', '55306', '32905', '32907', '32901', '19020', '19023', '98422', '56304', '56301', '4611', '13502', '4612', '12940', '65232', '65239', '60047', '147', '60045', '60044', '60043', '20878', '20879', '20877', '20874', '148', '60048', '68128', '42301', '85476', '53098', '98134', '98136', '98133', '98139', '90287', '2711', '90280', '52544', '53081', '53083', '9167', '9160', '95422', '63796', '53097', '6245', '53227', '53226', '53221', '10522', '53223', '53222', '70376', '53228', '90132', '53558', '21478', '8872', '8876', '18966', '37421', '37351', '18960', '41301', '45336', '829', '45333', '84706', '25189', '2631', '60453', '5253', '14199', '5255', '1719', '76240', '3095', '40215', '40211', '40213', '11120', '54022', '94901', '91420', '94903', '94904', '94907', '3013', '3011', '8723', '34997', '34990', '8724', '31011', '10536', '90141', '33712', '631390', '23231', '47070', '23233', '23237', '11', '13', '12', '15317', '6405', '19', '8180', '48864', '7764', '7760', '3900', '3901', '95814', '97109', '97103', '97104', '97105', '97107', '60559', '35244', '35243', '35242', '35240', '200', '32043', '32047', '12040', '77469', '100045', '22042', '85396', '85395', '98092', '18977', '2523', '45431', '11467', '201200', '90452', '200000', '5064', '5067', '5068', '94127', '94126', '38804', '94124', '94123', '94122', '94121', '94120', '68123', '68124', '94129', '94128', '90631', '90630', '60450', '4401', '60452', '90638', '53940', '1540014', '926', '97431', '85214', '33713', '14830', '33710', '33716', '20115', '902104', '20110', '20112', '1020013', '85643', '13275250', '44210', '44212', '1530051', '48009', '48001', '27587', '29732', '95655', '780', '95650', '67156', '195127', '76039', '76034', '76036', '76031', '39540', '26987', '78163', '30004', '30005', '30002', '12866', '88518', '72202', '8062', '72207', '30008', '30009', '95240', '92563', '92562', '95247', '2897', '1106', '47240', '66208', '1450', '1451', '1452', '1453', '66203', '66202', '47249', '66207', '66205', '22602', '22601', '77253', '10463', '28608', '38236', '844121', '28601', '28607', '95865', '95864', '73550', '73000', '4921', '73008', '77079', '10137', '77072', '77070', '35650', '77077', '19003', '19002', '19001', '19000', '61008', '75235', '19004', '60201', '60203', '60202', '56320', '56326', '11787', '11782', '34293', '2139', '11788', '82609', '61265', '2740064', '69004', '69005', '64566', '74523', '89147', '89146', '80602', '80601', '80600', '3006', '98404', '98405', '98406', '98407', '89149', '99577', '70570', '95409', '9490', '9491', '95401', '95407', '95405', '95404', '6268', '20854', '20850', '20851', '20852', '20853', '53203', '27455', '53201', '53207', '19148', '90153', '19146', '24133', '55024', '373', '22980', '37409', '372', '84720', '84721', '37403', '37402', '20782', '37405', '92313', '92310', '38017', '41321', '94919', '1680063', '40056', '40057', '430', '1730', '13126', '13124', '15800', '78572', '78573', '3070', '3072', '3073', '1590', '54000', '94928', '91407', '91406', '94925', '94924', '91403', '91402', '38000', '94920', '20470', '89052', '31522', '31523', '5641', '12900430', '143441', '8066', '40583', '47725', '47720', '28290', '23219', '82166', '489', '72205', '6468', '6460', '12413', '12414', '6008422', '7740', '95242', '7746', '7747', '92178', '50839', '7748', '7749', '95380', '95381', '95382', '95383', '74066', '8307', '82290', '8304', '34712', '8302', '77449', '93930', '49518', '49519', '5360001', '2543', '2542', '2540', '90435', '93445', '93444', '93446', '43113', '93449', '5003', '3582', '5000', '97520', '5009', '5008', '91309', '3554', '56045', '3552', '60439', '907', '70149', '3550', '2520317', '48642', '20136', '20135', '83402', '83403', '83404', '85119', '80477', '84579', '45014', '48025', '45011', '41040', '27870', '45019', '41048', '59752', '95678', '95677', '95670', '95673', '33770', '33773', '14814', '74133', '71236', '33778', '15143', '15140', '34275', '76011', '76017', '76016', '76015', '85335', '33594', '33596', '30028', '30024', '30022', '50310', '50312', '92545', '92543', '68506', '47269', '68504', '1471', '68503', '28043', '28041', '28040', '1350000', '1350001', '76262', '6410', '99216', '4226', '25', '27', '22', '91367', '91364', '91365', '91362', '91360', '575572', '95843', '95842', '77053', '77054', '77055', '77056', '77057', '2431000', '32940', '19063', '19064', '19067', '19066', '93636', '29458', '49720', '93631', '85023', '29454', '904608', '22085', '27262', '2050', '60083', '60081', '2283', '60085', '74500', '2055', '90256', '10901', '52317', '98177', '95460', '95462', '95465', '10309', '53045', '10306', '10305', '10301', '63755', '9403', '6284', '20832', '180', '53590', '53597', '53594', '84741', '3141', '22963', '2025', '2026', '2027', '944108', '2751', '98292', '71686', '44023', '44534', '44024', '9928', '4800', '71067', '14482', '78550', '38024', '33908', '33909', '3059', '3056', '33903', '3054', '3051', '27530', '87059', '91170', '94417', '94415', '92704', '62040', '94507', '94506', '89075', '89074', '41702', '94502', '8', '15425', '12435', '6443', '34480', '30900', '48823', '30909', '92154', '7728', '7722', '7726', '55082', '19473', '19470', '89434', '6700', '48310', '93740', '4534004', '1510053', '22145', '22147', '22142', '4056', '4055', '4054', '4052', '77420', '86336', '93280', '22793329', '3613', '400107', '99901', '90419', '43139', '2563', '90412', '90410', '93463', '93460', '93465', '93464', '11421', '11420', '11423', '11427', '4', '98231', '98230', '98236', '17110', '97504', '5020', '97501', '60145', '60143', '60140', '60417', '60148', '53901', '966', '960', '24811', '46703', '85350', '20151', '84088', '20152', '20154', '84081', '84084', '84087', '125252', '91720580', '44709', '200041', '42880', '45030', '49051', '45039', '27896', '10467', '10465', '10462', '99019', '10461', '7320', '10469', '95618', '33756', '1660015', '63146', '63144', '95612', '95610', '95616', '95617', '95614', '33029', '33028', '33025', '37077', '33027', '33026', '33021', '33020', '34253', '34250', '7111', '39507', '47160', '6040847', '1128001', '83022', '30043', '30040', '30041', '30046', '30047', '30044', '28020', '28022', '28027', '47933', '4103', '1419', '1410', '1414', '1417', '73770', '4203', '98403', '91344', '79215', '91340', '91342', '91343', '95828', '988110', '35342', '1004004', '31313', '300', '95820', '95823', '95822', '95825', '95824', '95827', '953770', '11213', '11210', '11211', '11216', '93611', '93612', '11215', '11218', '11219', '93619', '60950', '19047', '19046', '19041', '32960', '12561', '27798', '22312', '22315', '22314', '9350630', '1890012', '2770', '29472', '210001', '55407', '92227', '6119', '97756', '6117', '6110', '6113', '10923', '10920', '88053000', '7932', '9458', '9459', '95448', '9106', '9107', '9456', '9105', '9450', '9103', '95441', '9142', '7974', '21144', '21147', '7060', '9494', '20818', '81667', '481277', '20814', '20815', '20816', '20817', '63808', '22945', '22947', '49721', '21490', '94066', '94064', '94065', '94062', '94063', '94060', '94061', '38478', '94068', '2000', '2005', '2009', '70178', '71913', '96932', '96931', '60605', '60604', '60607', '60606', '60601', '60600', '60602', '60609', '60608', '36066', '10580', '10583', '10585', '53240', '90190', '54040', '31110', '37919', '37917', '37916', '91110', '91115', '94040-1724', '92410', '87031', '27403', '27401', '44042', '83233', '67071', '1086', '1085', '1084', '1082', '53202', '1089', '1337', '1331', '82120', '8691', '92133', '39', '92131', '7700', '33', '32', '92138', '92139', '36', '35', '34', '91803', '91801', '55710', '50126', '50125', '24450', '83730', '65606', '61568', '77407', '77406', '77401', '22124', '81479', '13769', '4075', '4074', '81475', '93265', '32578', '32579', '93263', '93262', '98039', '98038', '98034', '98037', '98036', '98031', '98030', '98033', '98032', '35405', '35401', '60385', '32750', '32751', '93401', '96160', '96162', '93405', '93404', '93406', '56006', '98258', '94183', '94182', '52074', '94188', '98252', '98257', '60169', '4463', '85374', '949', '85379', '940', '49007', '49008', '49009', '45239', '20176', '48356', '45220', '48350', '20171', '20170', '80434', '80435', '95582', '80439', '90035', '90034', '90037', '90036', '90031', '90033', '90032', '45050', '59715', '90039', '90038', '45056', '95630', '95631', '29200', '29201', '95635', '29204', '66085', '10115', '10110', '63129', '91411', '18800', '21771', '63123', '63122', '33009', '33000', '33776', '80923', '80920', '80921', '5720055', '49911', '1651', '40356', '580', '95661', '83002', '2831', '2830', '44141', '5403', '5401', '5400', '28007', '28005', '34231', '34230', '34233', '34236', '34239', '76726', '94862', '76051', '941234', '77230', '91637', '30060', '30062', '30064', '30066', '30067', '30068', '91320', '91321', '91326', '91324', '91325', '2121', '11238', '2122', '89519', '11230', '2125', '11232', '11233', '89510', '11235', '11236', '11237', '51400', '55387', '4665', '25314', '904133', '92675', '9895', '92677', '321', '92670', '77092', '92672', '92679', '92678', '73538', '11714', '93230', '55960', '10941', '9470', '32819', '81645', '64093', '2242', '2650', '46240', '4860839', '85521', '85525', '3401', '3400', '22926', '3404', '75146', '854796', '60596', '94049', '94044', '94045', '94046', '94047', '60599', '94041', '94042', '94043', '2068', '360', '2060', '2061', '2062', '90202', '91405', '2067', '33498', '71642', '5430013', '91401', '91400', '68390', '60623', '60622', '60626', '60625', '60624', '13148', '55555555', '37932', '18612', '48167', '87015', '94458', '87018', '40038', '40031', '44065', '44060', '76249', '7094', '7093', '7090', '8073', '78048', '91792', '91791', '91790', '8103', '8102', '466', '8109', '8108', '6488', '6489', '6483', '6480', '92118', '92119', '50725', '92110', '92111', '92112', '92113', '92114', '92115', '92116', '92117', '66636', '4037000', '241088', '67901', '77391', '3184', '3186', '3182', '22101', '22450', '22455', '22459', '4013', '4010', '89169', '19438', '93245', '94211', '94210', '94212', '94214', '98012', '98011', '98010', '98015', '93427', '96146', '96145', '93424', '93422', '1110', '64106', '4675100', '91502', '60103', '60107', '80232', '85310', '80231', '80237', '47901', '80238', '80239', '46038', '46037', '49022', '46032', '46033', '2476', '45219', '2474', '64289', '2472', '45213', '45212', '48377', '48374', '7871', '93933', '194021', '97540', '98275', '97232', '12159', '12150', '6300', '97239', '90013', '90012', '90011', '90010', '90017', '90016', '90015', '90014', '90019', '90018', '10138', '7700277', '63105', '63104', '63103', '63101', '9645', '9314', '29225', '63109', '63108', '33060', '33063', '33062', '33065', '33064', '33067', '8951', '33069', '21756', '6638141', '84049', '84045', '84044', '84047', '84041', '84040', '84043', '80906', '80907', '1984', '1985', '1982', '1983', '1636', '98902', '1638', '3218', '98908', '48081', '48083', '946-2', '48085', '48084', '41026', '4880884', '48089', '52240', '44304', '2810', '67220', '30339', '83064', '83065', '14706', '62275', '1184', '1182', '1183', '1180', '3370', '76708', '30268', '30269', '59236', '34210', '78705', '78704', '78701', '78703', '78702', '4240', '196600', '91301', '91302', '91303', '91304', '48', '49', '46', '47', '44', '45', '43', '40', '41', '30087', '30084', '30082', '430850', '93654', '93657', '87760', '92173', '80485', '92397', '95121', '92392', '78852', '7840', '92653', '92652', '92651', '33314', '92656', '92879', '343', '39104', '91776', '92307', '73084', '92300', '92870', '32304', '32303', '32301', '32308', '6151', '6155', '55902', '55901', '55906', '55904', '10965', '10960', '90245', '34715', '64701', '43055', '43054', '81623', '81620', '81621', '32934', '8205', '46268', '76126', '22900', '22901', '22902', '22903', '4813', '70065', '94028', '4810', '2042', '2043', '2040', '95020', '94022', '94023', '94020', '94026', '94027', '94024', '94025', '9410', '9411', '9412', '9413', '9414', '9415', '9418', '98281', '18458', '11949', '33477', '95683', '95682', '60649', '37831', '95687', '36532', '60641', '60640', '60643', '60642', '60645', '60647', '60646', '85054', '85051', '85050', '85053', '90063', '62645', '33186', '48141', '95776', '10098', '91740', '94517', '450000', '600031', '91744', '91745', '15668', '91030', '59106', '59105', '59102', '12946', '949004', '59101', '5679020', '7078', '7079', '7075', '7076', '7070', '37772', '8166', '95304', '95305', '95307', '95301', '84070', '47429', '50701', '66611', '66615', '135000000', '8383', '77379', '77375', '77377', '9460', '405', '403', '1409020', '2021000', '28211', '4038', '81435', '77112', '86351', '96301', '89141', '92270', '11379', '11378', '89145', '89144', '11375', '11374', '11377', '89148', '11370', '11373', '11372', '32828', '32826', '19147', '19144', '19145', '32822', '19143', '32821', '24240135', '94233', '472019', '85703', '32792', '92692', '61525', '60120', '60123', '60126', '64114', '56040', '64116', '64111', '64110', '64113', '84651', '25120', '80218', '80219', '46017', '46012', '46013', '80210', '80211', '80212', '80214', '74137', '98070', '98072', '98075', '98074', '98077', '2459', '2458', '2451', '2450', '2453', '2452', '93912', '7850', '95543', '91330430', '16802', '16803', '16801', '97218', '97219', '97214', '97215', '97217', '97210', '97211', '97212', '97213', '10152', '10150', '10156', '53340', '10407', '90071', '57319', '90077', '37013', '37015', '33040', '3225', '84068', '84062', '84060', '30180120', '84065', '14094', '49401', '1970', '3230', '98926', '3235', '1617', '92663', '1610', '1611', '59825', '2871', '2874', '92660', '2879', '54341', '3350', '22204', '45894', '94820', '45891', '20060', '94825', '5443', '11968', '5445', '30240', '8570', '30535', '78723', '78722', '78721', '78726', '78729', '78728', '2270055', '5503', '5500', '6737771', '67202', '67203', '67206', '23601', '23602', '66400', '76185', '61752', '98155', '29607', '29601', '29609', '97526', '23462', '23464', '3820', '97524', '34637', '72406', '34638', '50066', '92630', '7530', '92637', '92324', '19350', '19608', '19355', '2766', '6176', '92211', '6170', '94768', '77586', '77584', '64850', '28202', '10983', '1530043', '19087', '62226', '2200', '81601', '2203', '64587', '2206', '2207', '77630', '11580', '11581', '43035', '46208', '46203', '46202', '46205', '46204', '94000', '94001', '94002', '94003', '94004', '94005', '94006', '94007', '94008', '19732', '37207', '90243', '90240', '90241', '90247', '70005', '4526', '90249', '4523', '85296', '85295', '6278', '57072', '9430', '9431', '62400', '33189', '33183', '33180', '33181', '96954', '60661', '60660', '20650', '89704', '36007', '80552', '80005', '80000', '80003', '80002', '48430', '48439', '84653', '99403', '99400', '48120', '8630', '48126', '48127', '48124', '34957', '95757', '95758', '11964', '33455', '18433', '95361', '11963', '78266', '33458', '78260', '95367', '15601', '12920', '30189', '30188', '53406', '53403', '7059', '174758', '7052', '7050', '7054', '33982', '37752', '37209', '37208', '37754', '37205', '37204', '78000', '37206', '78006', '37203', '15935', '8633', '8144', '111141', '95363', '92400', '92401', '95366', '92407', '92404', '95368', '58', '55', '54', '57', '56', '51', '53', '52', '975030', '47521', '9999', '48390', '77355', '77354', '94585', '94584', '94587', '79604', '94581', '94580', '94583', '94582', '94589', '94588', '38179', '29907', '95988', '43202', '43201', '43206', '43207', '43204', '43205', '43209', '89129', '89128', '32806', '11358', '32801', '32803', '89121', '93206', '89123', '89122', '11357', '11355', '11354', '91533', '60329', '904549', '64138', '25147', '74114', '74115', '74117', '46077', '46074', '98059', '98058', '98057', '98056', '98054', '98053', '98052', '53181', '53186', '53189', '95568', '32114', '7834', '32118', '98332', '45013', '56063', '10178', '95690', '95691', '95695', '9609', '9608', '10172', '10174', '21714', '75243', '84000', '84003', '75240', '1803', '75246', '1801', '75244', '75248', '45255', '27355', '1500036', '85716', '85712', '85710', '85711', '44124', '44122', '44120', '85719', '46628', '14075', '49423', '94614', '94611', '94610', '94612', '1940', '3253', '94619', '94618', '1944', '1945', '90057', '90720', '90723', '59807', '59804', '59803', '59802', '59801', '90058', '79601', '2852', '5461', '5463', '5462', '1494', '14210', '14213', '14216', '20045', '94800', '94801', '94802', '94803', '94804', '94805', '94806', '94807', '426', '36619', '78749', '78748', '584521', '78741', '78745', '78744', '78747', '78746', '29910', '33772', '521', '83714', '83716', '83712', '83713', '23662', '6006', '23661', '1230', '1231', '23669', '27712', '27713', '6500', '6505', '31170', '2750011', '3801', '3800', '92617', '92614', '92612', '92346', '92618', '76013', '7551', '7550', '32804', '19333', '16100', '19335', '1430025', '92337', '11705', '11352', '11703', '1210061', '93203', '22750', '93752', '43017', '43016', '43015', '33912', '5618020', '2222', '2223', '2220', '81377', '1', '96047', '93561', '999', '10051', '4509', '90260', '92626', '90262', '2081', '70024', '90265', '90266', '17019', '94931', '94933', '60022', '64300', '85019', '85018', '46225', '46221', '46220', '80023', '80022', '80021', '80020', '80027', '85014', '80537', '85016', '20906', '48101', '20904', '48103', '48104', '48105', '45750', '20901', '48108', '78244', '78240', '78248', '7310', '95736', '33432', '33433', '33430', '11901', '33436', '33434', '12302', '12309', '76689', '30167', '12901', '12900', '7030', '7031', '7032', '7034', '7036', '9013', '7039', '123456', '49855', '78028', '63332', '68480', '37221', '37220', '95348', '50216', '7786', '92421', '95343', '4363040', '1009', '1008', '1004', '1003', '1002', '1001', '1000', '67433', '77336', '77339', '10163', '40451', '14534', '11011', '91739', '91737', '91731', '91730', '91733', '91732', '77489', '92284', '73107', '43228', '89104', '89103', '89102', '89101', '43220', '89109', '89108', '19102', '19103', '19106', '19107', '19104', '55068', '354', '92315', '35487', '60304', '60305', '93480', '25414', '28870', '28879', '27104', '27103', '27101', '76829', '97075', '97070', '97072', '45818000', '46055', '88279', '56267', '98704', '96704', '93955', '96706', '93953', '95504', '93950', '95509', '96708', '53211', '121353', '19810', '2667', '6539035', '64151', '64152', '64155', '64157', '69300', '906003', '49622', '81301', '75229', '81369', '1824', '75223', '1826', '75225', '75224', '84020', '2146', '2145', '2144', '2143', '2142', '2141', '2140', '81039', '45504', '412060', '3276', '1921', '1923', '14052', '49445', '90703', '90701', '90706', '70769', '90704', '58481', '14230', '54308', '38700', '38704', '3313', '5482', '20020', '20024', '40133', '44107', '44100', '60', '61', '62', '64', '65', '66', '67', '99615', '3599511', '506', '507', '505', '7758', '1210', '638', '91361', '59425', '6525', '48901', '8260', '87701', '95087', '77815', '97816', '12533', '95151', '79414', '91945', '91942', '91941', '3862', '3861', '32456', '8400', '8401', '8402', '8403', '8406', '8816', '9812', '7836', '50023', '50021', '8812', '52977', '4152', '4153', '4157', '4512', '28117', '28110', '90275', '98390', '98391', '150791', '90272', '400227', '43560', '5901', '19312', '93544', '93546', '96067', '93012', '93013', '96062', '97628', '97620', '60515', '60514', '60517', '60516', '60510', '60513', '95032', '93638', '11678', '95030', '93140', '85259', '85258', '85253', '85251', '85250', '85257', '85255', '85254', '987', '93635', '20619', '80516', '85035', '85034', '85033', '85032', '200123', '6065', '6067', '12093', '93010', '429581', '2602', '10039', '10038', '10035', '10034', '10037', '10036', '10031', '10030', '10033', '10032', '857066', '78225', '78229', '45385', '94523', '33149', '33146', '33411', '33144', '33145', '91001', '33140', '33141', '27517', '70401', '59160', '91007', '27511', '91005', '7018', '7016', '10250', '7015', '7012', '7011', '49870', '84342', '84341', '83340', '3783', '13995000', '758', '84004', '1025', '5029090', '1027', '5340', '1020', '1023', '1022', '84006', '1028', '76332', '40476', '18034', '18036', '28278', '45383', '3109', '28270', '3106', '3100', '3101', '3102', '28277', '38139', '38133', '91711', '91710', '4092', '66525', '95337', '93711', '93710', '5732', '63897', '91577', '19129', '300769', '19121', '19122', '55044', '19124', '19125', '19127', '48116', '3360021', '47121', '65802', '15206', '65804', '8092', '15203', '15202', '76804', '15208', '73127', '22180', '22181', '22182', '79254', '85024', '44690', '28307', '85718', '8910300852', '97015', '28303', '6651', '92007', '92004', '92003', '92000', '10804', '10805', '10801', '92008', '92009', '96720', '93402', '95521', '6385', '61853', '6382', '21060', '2124', '2381', '2280', '60181', '60186', '60185', '60188', '60189', '2282', '49601', '75207', '75206', '75205', '21209', '75751', '75202', '75201', '21202', '21200', '21201', '98188', '75209', '75208', '15120', '1847', '1845', '1844', '43606', '43607', '2169', '54751', '2166', '53149', '2163', '43609', '49464', '85750', '85756', '17046', '3299', '1908', '17042', '1907', '1904', '1905', '3290', '1900', '13203', '13202', '90095', '90094', '33609', '90051', '33607', '33606', '2046', '33603', '33602', '20007', '20006', '20005', '20004', '20003', '20002', '20001', '33428', '20009', '20008', '469972', '90059', '59800', '12542', '84405', '84404', '84403', '6897', '91381', '91384', '91387', '29407', '29401', '29403', '612', '1272', '1274', '617', '614', '30809', '97838', '1490', '29662', '95065', '95064', '95067', '95066', '95061', '95060', '95063', '95062', '5465', '31600', '88401', '34652', '941032835', '44087', '5468', '50000', '57560', '9835', '23112', '23113', '61114', '55454', '55455', '55456', '3842', 'M4S1P', '98374', '98371', '474454', '89316', '93035', '93036', '93030', '93033', '55605', '55987', '32207', '96002', '96003', '96001', '96007', '60431', '17543', '52402', '60532', '4543', '4542', '60537', '4544', '4546', '85233', '85234', '27317', '27312', '24937', '75052', '2594', '64343', '99352', '99354', '182', '80069', '97607', '6043', '6040', '6041', '97351', '97601', '10019', '10018', '6981', '10013', '10012', '10011', '10010', '10017', '10016', '10015', '10014', '78209', '33166', '33160', '33161', '33162', '78201', '78202', '12345', '12346', '118866', '10276', '95358', '9051', '9052', '24060', '24065', '776', '74', '411006', '1040', '30121', '76311', '79151', '4301', '4300', '4306', '77990', '11050', '18010', '18015', '18018', '38111', '72815', '91775', '72810', '3122', '3121', '75281', '50969', '5753', '197371', '93730', '61615', '61614', '1234', '74647', '1235', '72761', '72762', '22765005', '15221', '15228', '87510', '82031', '7436', '7430', '2020', '93190', '84965', '97031', '88230', '4700', '97034', '97035', '92028', '92029', '50613', '92024', '92025', '92026', '92020', '92021', '21044', '21045', '21047', '32174', '16335', '21042', '21043', '96740', '96743', '96744', '19508', '96746', '97293', '97298', '4801', '2368', '2360', '21224', '21226', '21228', '21229', '46368', '44026', '1860', '1867', '4930', '79938', '4683', '79930', '79933', '79932', '79935', '79936', '53122', '53120', '2108', '53126', '11733', '6760813', '53129', '2107', '2105', '96813', '96815', '96814', '96817', '96816', '96819', '96818', '10472', '90746', '90745', '90742', '90741', '90740', '60707', '9', '22208', '33629', '894', '84790', '14901', '33621', '33334', '33625', '33624', '94710', '94715', '80306', '80304', '80305', '80302', '80303', '80301', '44140', '44637', '44143', '44144', '44145', '80308', '11205', '6878', '6877', '40391', '95107', '95104', '95105', '29464', '95101', '99650', '95108', '95109', '71105', '78414', '78410', '78412', '8221', '76109', '674', '76104', '676', '76106', '670', '76100', '72150', '76102', '37067', '7607', '7605', '7604', '95046', '95045', '29681', '37100', '1910011', '34104', '91902', '34109', '34108', 'v6z2x', '95453', '44859', '86157', '1524', '1527', '1520', '1253', '95454', '19111', '22557', '22556', '55016', '22551', '941412', '77505', '77502', '4118', '77501', '89084', '89081', '89088', '38305', '55433', '55430', '55431', '55436', '38300', '55435', '28152', '98682', '98683', '98684', '98685', '89134', '93052', '5941', '74093180', '11501', '65101', '94088', '94089', '981', '1050021', '94080', '94081', '94083', '94085', '94086', '94087', '53701', '85215', '5500002', '85213', '75904', '20132', '94411', '94410', '99336', '99338', '42701', '34346', '97373', '98531', '6020', '6022', '6025', '6026', '2649', '10072', '10075', '2641', '1130033', '9210', '9216', '33102', '33100', '67502', '1600023', '45150', '70448', '9070', '24047', '3026', '83030', '75016', '75017', '75014', '75015', '75012', '75013', '75010', '75011', '85004', '75018', '75019', '80126', '58701', '1061', '5301', '1062', '1065', '30458', '30102', '78620', '4322', '78628', '18078', '54134', '33810', '33812', '33813', '94509', '94508', '20210', '94505', '91024', '91755', '91754', '94501', '91020', '94503', '91750', '83651', '83301', '89436', '31419', '89433', '89431', '89439', '51501', '90670003', '9880', '23320', '15241', '7410', '7417', '95908', '94107-3471', '73160', '92595', '92590', '92223', '92592', '95901', '55372', '55379', '88212', '6614', '85338', '50632', '92040', '49024', '21020', '19525', '21029', '94148', '99523', '2347', '2343', '81379', '46614', '21797', '92780', '79912', '79910', '1887', '1886', '1880', '90501', '2120', '90503', '90502', '90505', '90504', '2127', '2129', '2128', '4661', '93314', '11710', '93311', '96761', '93312', '96768', '97414', '96837', '77657', '64064', '20770', '53818', '53819', '56279', '20511', '23005', '36695', '83823', '42119', '2400105', '6855', '6854', '6851', '6850', '6853', '6852', '88', '82', '80', '81', '86', '84', '95128', '95129', '95124', '95125', '95126', '95127', '95120', '29445', '95122', '95123', '33317', '33316', '33315', '8807', '8800', '33312', '33647', '33319', '91608', '34952', '8208', '59912', '76123', '94990', '8757', '8750', '8203', '76124', '7624', '95023', '7626', '7621', '95024', '7628', '37124', '32127', '37127', '37122', '4500', '34695', '48329', '40515', '9876', '67800', '92694', '32129', '92691', '92690', '14431', '72176', '652', '650', '1505', '3087', '3083', '28314', '22209', '310', '77520', '22203', '22202', '22201', '22207', '22206', '22205', '92803', '28173', '1640001', '55418', '55419', '2083', '55410', '55411', '55413', '55414', '55416', '55417', '11207', '11520', '32696', '96595', '15090', '92844', '46112', '500081', '75961', '98335', '94530', '98338', '94531', '7645', '560751', '85092', '32030', '32032', '51869', '19118', '88005', '6007', '6005', '88001', '6000', '6008', '6009', '56723', '994', '53719', '53718', '19014', '53715', '53714', '53717', '53716', '53711', '10052', '53713', '33129', '13280000', '33122', '54843', '33126', '26007', '45134', '85635', '4523014', '32244', '46804', '75038', '75039', '75034', '98800', '98801', '75032', '75033', '48188', '558265', '48185', '48187', '1520004', '37828', '22026', '58270', '14608', '14606', '14607', '33781', '33782', '20186', '20187', '76600', '20180', '20189', '1742', '18057', '37801', '78600', '62062', '3161', '27518', '27519', '80538', '27514', '94521', '91000', '27510', '91006', '94525', '27513', '93942', '40723', '67654', '1393', '3035', '66297', '89183', '85013', '45243', '48324', '80026', '77955', '46228', '1060044', '1060045', '82072', '12545', '20905', '87557', '20902', '12549', '95926', '95927', '92200', '92203', '95928', '7470', '7474', '50430', '55350', '32206', '19095', '19096', '32205', '16043', '5107721421', '12603', '28374', '100600', '92064', '92067', '92069', '21000', '22078', '22079', '22070', '2110041', '4706', '4705', '43402', '2324', '94606', '3765', '46321', '560029', '2493', '2492', '2494', '13555', '11779', '96789', '11771', '96782', '17022', '7311', '97436', '97437', '5154', '78249', '20759', '60035', '60030', '60031', '165', '33431', '80128', '80129', '85406', '80127', '80124', '80122', '80123', '80120', '80121', '62298', '45214', '12303', '62290', '62294', '83807', '7270', '95497', '95492', '8551', '59601', '6831', '6830', '6835', '2564', '10552', '10553', '70810', '2566', '70815', '8006', '70817', '10559', '95148', '95142', '8822', '8823', '8820', '82041', '1405000', '59937', '30318', '30319', '30316', '30317', '30315', '30312', '30313', '30310', '30311', '11934', '95009', '95008', '95006', '95005', '95004', '95003', '95002', '64112', '95000', '9015', '47408', '1480', '1748', '47401', '1746', '47403', '47406', '83117', '95476', '28372', '9135', '9134', '72112', '1299', '72116', '76146', '1560', '76148', '1290', '95478', '57006', '77546', '5024', '35096', '13825', '28199', '34142'])\n"
     ]
    }
   ],
   "source": [
    "print(set(trips.zip_code.unique()))"
   ]
  },
  {
   "cell_type": "markdown",
   "metadata": {},
   "source": [
    "Los zip codes parecen cualquier ser cualquier cosa, deberían estar entre [estos valores](http://www.city-data.com/zipmaps/San-Francisco-California.html). De todos modos, a priori no me parece un dato que nos vaya a resultar útil. Tampoco sé si habla de zip de la estación inicial o final, en Kaggle no encontré información al respecto."
   ]
  },
  {
   "cell_type": "markdown",
   "metadata": {
    "deletable": true,
    "editable": true
   },
   "source": [
    "### Size"
   ]
  },
  {
   "cell_type": "code",
   "execution_count": 21,
   "metadata": {
    "collapsed": false,
    "deletable": true,
    "editable": true
   },
   "outputs": [
    {
     "data": {
      "text/plain": [
       "(669959, 11)"
      ]
     },
     "execution_count": 21,
     "metadata": {},
     "output_type": "execute_result"
    }
   ],
   "source": [
    "trips.shape"
   ]
  },
  {
   "cell_type": "markdown",
   "metadata": {
    "deletable": true,
    "editable": true
   },
   "source": [
    "### Sample"
   ]
  },
  {
   "cell_type": "code",
   "execution_count": 23,
   "metadata": {
    "collapsed": false,
    "deletable": true,
    "editable": true
   },
   "outputs": [
    {
     "data": {
      "text/html": [
       "<div>\n",
       "<table border=\"1\" class=\"dataframe\">\n",
       "  <thead>\n",
       "    <tr style=\"text-align: right;\">\n",
       "      <th></th>\n",
       "      <th>id</th>\n",
       "      <th>duration</th>\n",
       "      <th>start_date</th>\n",
       "      <th>start_station_name</th>\n",
       "      <th>start_station_id</th>\n",
       "      <th>end_date</th>\n",
       "      <th>end_station_name</th>\n",
       "      <th>end_station_id</th>\n",
       "      <th>bike_id</th>\n",
       "      <th>subscription_type</th>\n",
       "      <th>zip_code</th>\n",
       "    </tr>\n",
       "  </thead>\n",
       "  <tbody>\n",
       "    <tr>\n",
       "      <th>0</th>\n",
       "      <td>4576</td>\n",
       "      <td>63</td>\n",
       "      <td>2013-08-29 14:13:00</td>\n",
       "      <td>South Van Ness at Market</td>\n",
       "      <td>66</td>\n",
       "      <td>2013-08-29 14:14:00</td>\n",
       "      <td>South Van Ness at Market</td>\n",
       "      <td>66</td>\n",
       "      <td>520</td>\n",
       "      <td>Subscriber</td>\n",
       "      <td>94127</td>\n",
       "    </tr>\n",
       "    <tr>\n",
       "      <th>1</th>\n",
       "      <td>4607</td>\n",
       "      <td>70</td>\n",
       "      <td>2013-08-29 14:42:00</td>\n",
       "      <td>San Jose City Hall</td>\n",
       "      <td>10</td>\n",
       "      <td>2013-08-29 14:43:00</td>\n",
       "      <td>San Jose City Hall</td>\n",
       "      <td>10</td>\n",
       "      <td>661</td>\n",
       "      <td>Subscriber</td>\n",
       "      <td>95138</td>\n",
       "    </tr>\n",
       "    <tr>\n",
       "      <th>2</th>\n",
       "      <td>4130</td>\n",
       "      <td>71</td>\n",
       "      <td>2013-08-29 10:16:00</td>\n",
       "      <td>Mountain View City Hall</td>\n",
       "      <td>27</td>\n",
       "      <td>2013-08-29 10:17:00</td>\n",
       "      <td>Mountain View City Hall</td>\n",
       "      <td>27</td>\n",
       "      <td>48</td>\n",
       "      <td>Subscriber</td>\n",
       "      <td>97214</td>\n",
       "    </tr>\n",
       "    <tr>\n",
       "      <th>3</th>\n",
       "      <td>4251</td>\n",
       "      <td>77</td>\n",
       "      <td>2013-08-29 11:29:00</td>\n",
       "      <td>San Jose City Hall</td>\n",
       "      <td>10</td>\n",
       "      <td>2013-08-29 11:30:00</td>\n",
       "      <td>San Jose City Hall</td>\n",
       "      <td>10</td>\n",
       "      <td>26</td>\n",
       "      <td>Subscriber</td>\n",
       "      <td>95060</td>\n",
       "    </tr>\n",
       "    <tr>\n",
       "      <th>4</th>\n",
       "      <td>4299</td>\n",
       "      <td>83</td>\n",
       "      <td>2013-08-29 12:02:00</td>\n",
       "      <td>South Van Ness at Market</td>\n",
       "      <td>66</td>\n",
       "      <td>2013-08-29 12:04:00</td>\n",
       "      <td>Market at 10th</td>\n",
       "      <td>67</td>\n",
       "      <td>319</td>\n",
       "      <td>Subscriber</td>\n",
       "      <td>94103</td>\n",
       "    </tr>\n",
       "  </tbody>\n",
       "</table>\n",
       "</div>"
      ],
      "text/plain": [
       "     id  duration          start_date        start_station_name  \\\n",
       "0  4576        63 2013-08-29 14:13:00  South Van Ness at Market   \n",
       "1  4607        70 2013-08-29 14:42:00        San Jose City Hall   \n",
       "2  4130        71 2013-08-29 10:16:00   Mountain View City Hall   \n",
       "3  4251        77 2013-08-29 11:29:00        San Jose City Hall   \n",
       "4  4299        83 2013-08-29 12:02:00  South Van Ness at Market   \n",
       "\n",
       "   start_station_id            end_date          end_station_name  \\\n",
       "0                66 2013-08-29 14:14:00  South Van Ness at Market   \n",
       "1                10 2013-08-29 14:43:00        San Jose City Hall   \n",
       "2                27 2013-08-29 10:17:00   Mountain View City Hall   \n",
       "3                10 2013-08-29 11:30:00        San Jose City Hall   \n",
       "4                66 2013-08-29 12:04:00            Market at 10th   \n",
       "\n",
       "   end_station_id  bike_id subscription_type zip_code  \n",
       "0              66      520        Subscriber    94127  \n",
       "1              10      661        Subscriber    95138  \n",
       "2              27       48        Subscriber    97214  \n",
       "3              10       26        Subscriber    95060  \n",
       "4              67      319        Subscriber    94103  "
      ]
     },
     "execution_count": 23,
     "metadata": {},
     "output_type": "execute_result"
    }
   ],
   "source": [
    "trips.head()"
   ]
  }
 ],
 "metadata": {
  "kernelspec": {
   "display_name": "Python 2",
   "language": "python",
   "name": "python2"
  },
  "language_info": {
   "codemirror_mode": {
    "name": "ipython",
    "version": 2
   },
   "file_extension": ".py",
   "mimetype": "text/x-python",
   "name": "python",
   "nbconvert_exporter": "python",
   "pygments_lexer": "ipython2",
   "version": "2.7.13"
  }
 },
 "nbformat": 4,
 "nbformat_minor": 2
}
