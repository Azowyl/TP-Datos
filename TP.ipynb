{
 "cells": [
  {
   "cell_type": "markdown",
   "metadata": {},
   "source": [
    "## TO DO.\n",
    "\n",
    "* Renombrar columna 'day' por 'day_of_week'\n",
    "* Guardar archivos después de hacer modificaciones tipo to_datetime (performance issues)"
   ]
  },
  {
   "cell_type": "code",
   "execution_count": 36,
   "metadata": {
    "collapsed": false,
    "deletable": true,
    "editable": true
   },
   "outputs": [],
   "source": [
    "import pandas as pd\n",
    "import numpy as np\n",
    "import matplotlib.pyplot as plt\n",
    "%matplotlib inline"
   ]
  },
  {
   "cell_type": "markdown",
   "metadata": {},
   "source": [
    "# ¿Tenemos datos no válidos?"
   ]
  },
  {
   "cell_type": "code",
   "execution_count": 37,
   "metadata": {
    "collapsed": true
   },
   "outputs": [],
   "source": [
    "def shape_and_null_values(file):\n",
    "    print(\"str(file) shape: \" + str(file.shape))\n",
    "    print(\"Is null any?\")\n",
    "    print(str(file.isnull().any()))"
   ]
  },
  {
   "cell_type": "code",
   "execution_count": 38,
   "metadata": {
    "collapsed": false
   },
   "outputs": [
    {
     "name": "stdout",
     "output_type": "stream",
     "text": [
      "str(file) shape: (669959, 11)\n",
      "Is null any?\n",
      "id                    False\n",
      "duration              False\n",
      "start_date            False\n",
      "start_station_name    False\n",
      "start_station_id      False\n",
      "end_date              False\n",
      "end_station_name      False\n",
      "end_station_id        False\n",
      "bike_id               False\n",
      "subscription_type     False\n",
      "zip_code               True\n",
      "dtype: bool\n"
     ]
    }
   ],
   "source": [
    "trips = pd.read_csv('trip.csv')\n",
    "shape_and_null_values(trips)"
   ]
  },
  {
   "cell_type": "markdown",
   "metadata": {},
   "source": [
    "Se observa que en los códigos postales tenemos valores incompletos, no considero que sea un dato faltante clave para la realización del TP"
   ]
  },
  {
   "cell_type": "code",
   "execution_count": 39,
   "metadata": {
    "collapsed": false,
    "deletable": true,
    "editable": true
   },
   "outputs": [
    {
     "name": "stdout",
     "output_type": "stream",
     "text": [
      "str(file) shape: (70, 7)\n",
      "Is null any?\n",
      "id                   False\n",
      "name                 False\n",
      "lat                  False\n",
      "long                 False\n",
      "dock_count           False\n",
      "city                 False\n",
      "installation_date    False\n",
      "dtype: bool\n"
     ]
    }
   ],
   "source": [
    "stations = pd.read_csv('station.csv')\n",
    "shape_and_null_values(stations)"
   ]
  },
  {
   "cell_type": "code",
   "execution_count": 40,
   "metadata": {
    "collapsed": false,
    "deletable": true,
    "editable": true
   },
   "outputs": [
    {
     "name": "stdout",
     "output_type": "stream",
     "text": [
      "str(file) shape: (3665, 24)\n",
      "Is null any?\n",
      "date                              False\n",
      "max_temperature_f                  True\n",
      "mean_temperature_f                 True\n",
      "min_temperature_f                  True\n",
      "max_dew_point_f                    True\n",
      "mean_dew_point_f                   True\n",
      "min_dew_point_f                    True\n",
      "max_humidity                       True\n",
      "mean_humidity                      True\n",
      "min_humidity                       True\n",
      "max_sea_level_pressure_inches      True\n",
      "mean_sea_level_pressure_inches     True\n",
      "min_sea_level_pressure_inches      True\n",
      "max_visibility_miles               True\n",
      "mean_visibility_miles              True\n",
      "min_visibility_miles               True\n",
      "max_wind_Speed_mph                 True\n",
      "mean_wind_speed_mph                True\n",
      "max_gust_speed_mph                 True\n",
      "precipitation_inches               True\n",
      "cloud_cover                        True\n",
      "events                             True\n",
      "wind_dir_degrees                   True\n",
      "zip_code                          False\n",
      "dtype: bool\n"
     ]
    }
   ],
   "source": [
    "weather = pd.read_csv('weather.csv')\n",
    "shape_and_null_values(weather)"
   ]
  },
  {
   "cell_type": "code",
   "execution_count": 41,
   "metadata": {
    "collapsed": false,
    "deletable": true,
    "editable": true
   },
   "outputs": [],
   "source": [
    "#Convertir fechas a datetime\n",
    "\n",
    "trips['start_date'] = pd.to_datetime(trips['start_date'])\n",
    "trips['end_date'] = pd.to_datetime(trips['end_date'])"
   ]
  },
  {
   "cell_type": "markdown",
   "metadata": {
    "deletable": true,
    "editable": true
   },
   "source": [
    "# Cual es la estacion de donde salen mas viajes?"
   ]
  },
  {
   "cell_type": "code",
   "execution_count": 42,
   "metadata": {
    "collapsed": false,
    "deletable": true,
    "editable": true
   },
   "outputs": [
    {
     "data": {
      "text/plain": [
       "San Francisco Caltrain (Townsend at 4th)         49092\n",
       "San Francisco Caltrain 2 (330 Townsend)          33742\n",
       "Harry Bridges Plaza (Ferry Building)             32934\n",
       "Embarcadero at Sansome                           27713\n",
       "Temporary Transbay Terminal (Howard at Beale)    26089\n",
       "Name: start_station_name, dtype: int64"
      ]
     },
     "execution_count": 42,
     "metadata": {},
     "output_type": "execute_result"
    }
   ],
   "source": [
    "trips['start_station_name'].value_counts()[:5]"
   ]
  },
  {
   "cell_type": "markdown",
   "metadata": {
    "collapsed": true,
    "deletable": true,
    "editable": true
   },
   "source": [
    "# Como varia la cantidad de viajes segun el dia de la semana?"
   ]
  },
  {
   "cell_type": "code",
   "execution_count": 43,
   "metadata": {
    "collapsed": false,
    "deletable": true,
    "editable": true
   },
   "outputs": [],
   "source": [
    "trips['day'] = trips['start_date'].dt.dayofweek"
   ]
  },
  {
   "cell_type": "code",
   "execution_count": 44,
   "metadata": {
    "collapsed": false
   },
   "outputs": [
    {
     "data": {
      "text/plain": [
       "id                             int64\n",
       "duration                       int64\n",
       "start_date            datetime64[ns]\n",
       "start_station_name            object\n",
       "start_station_id               int64\n",
       "end_date              datetime64[ns]\n",
       "end_station_name              object\n",
       "end_station_id                 int64\n",
       "bike_id                        int64\n",
       "subscription_type             object\n",
       "zip_code                      object\n",
       "day                            int64\n",
       "dtype: object"
      ]
     },
     "execution_count": 44,
     "metadata": {},
     "output_type": "execute_result"
    }
   ],
   "source": [
    "trips.dtypes"
   ]
  },
  {
   "cell_type": "code",
   "execution_count": 45,
   "metadata": {
    "collapsed": false
   },
   "outputs": [
    {
     "data": {
      "text/html": [
       "<div>\n",
       "<table border=\"1\" class=\"dataframe\">\n",
       "  <thead>\n",
       "    <tr style=\"text-align: right;\">\n",
       "      <th></th>\n",
       "      <th>id</th>\n",
       "      <th>duration</th>\n",
       "      <th>start_date</th>\n",
       "      <th>start_station_name</th>\n",
       "      <th>start_station_id</th>\n",
       "      <th>end_date</th>\n",
       "      <th>end_station_name</th>\n",
       "      <th>end_station_id</th>\n",
       "      <th>bike_id</th>\n",
       "      <th>subscription_type</th>\n",
       "      <th>zip_code</th>\n",
       "      <th>day</th>\n",
       "    </tr>\n",
       "  </thead>\n",
       "  <tbody>\n",
       "    <tr>\n",
       "      <th>166983</th>\n",
       "      <td>401442</td>\n",
       "      <td>463</td>\n",
       "      <td>2014-08-09 13:53:00</td>\n",
       "      <td>Embarcadero at Sansome</td>\n",
       "      <td>60</td>\n",
       "      <td>2014-08-09 14:01:00</td>\n",
       "      <td>Embarcadero at Folsom</td>\n",
       "      <td>51</td>\n",
       "      <td>410</td>\n",
       "      <td>Subscriber</td>\n",
       "      <td>94133</td>\n",
       "      <td>5</td>\n",
       "    </tr>\n",
       "  </tbody>\n",
       "</table>\n",
       "</div>"
      ],
      "text/plain": [
       "            id  duration          start_date      start_station_name  \\\n",
       "166983  401442       463 2014-08-09 13:53:00  Embarcadero at Sansome   \n",
       "\n",
       "        start_station_id            end_date       end_station_name  \\\n",
       "166983                60 2014-08-09 14:01:00  Embarcadero at Folsom   \n",
       "\n",
       "        end_station_id  bike_id subscription_type zip_code  day  \n",
       "166983              51      410        Subscriber    94133    5  "
      ]
     },
     "execution_count": 45,
     "metadata": {},
     "output_type": "execute_result"
    }
   ],
   "source": [
    "trips.sample()"
   ]
  },
  {
   "cell_type": "code",
   "execution_count": 46,
   "metadata": {
    "collapsed": false,
    "deletable": true,
    "editable": true
   },
   "outputs": [
    {
     "data": {
      "image/png": "[encoded data removed]",
      "text/plain": [
       "<matplotlib.figure.Figure at 0x7f83a483db50>"
      ]
     },
     "metadata": {},
     "output_type": "display_data"
    }
   ],
   "source": [
    "plt.figure()\n",
    "\n",
    "trips_by_day_count = trips['day'].value_counts().sort_index()\n",
    "trips_by_day_count.index = ['Lunes','Martes','Miercoles','Jueves','Viernes','Sabado','Domingo']\n",
    "trips_by_day_count.plot('bar');"
   ]
  },
  {
   "cell_type": "markdown",
   "metadata": {
    "deletable": true,
    "editable": true
   },
   "source": [
    "# Los \"Customers\" tienden a estar mas los fines de semana?"
   ]
  },
  {
   "cell_type": "code",
   "execution_count": 47,
   "metadata": {
    "collapsed": false
   },
   "outputs": [
    {
     "data": {
      "text/html": [
       "<div>\n",
       "<table border=\"1\" class=\"dataframe\">\n",
       "  <thead>\n",
       "    <tr style=\"text-align: right;\">\n",
       "      <th></th>\n",
       "      <th>id</th>\n",
       "      <th>duration</th>\n",
       "      <th>start_date</th>\n",
       "      <th>start_station_name</th>\n",
       "      <th>start_station_id</th>\n",
       "      <th>end_date</th>\n",
       "      <th>end_station_name</th>\n",
       "      <th>end_station_id</th>\n",
       "      <th>bike_id</th>\n",
       "      <th>zip_code</th>\n",
       "      <th>day</th>\n",
       "    </tr>\n",
       "    <tr>\n",
       "      <th>subscription_type</th>\n",
       "      <th></th>\n",
       "      <th></th>\n",
       "      <th></th>\n",
       "      <th></th>\n",
       "      <th></th>\n",
       "      <th></th>\n",
       "      <th></th>\n",
       "      <th></th>\n",
       "      <th></th>\n",
       "      <th></th>\n",
       "      <th></th>\n",
       "    </tr>\n",
       "  </thead>\n",
       "  <tbody>\n",
       "    <tr>\n",
       "      <th>Customer</th>\n",
       "      <td>103213</td>\n",
       "      <td>103213</td>\n",
       "      <td>103213</td>\n",
       "      <td>103213</td>\n",
       "      <td>103213</td>\n",
       "      <td>103213</td>\n",
       "      <td>103213</td>\n",
       "      <td>103213</td>\n",
       "      <td>103213</td>\n",
       "      <td>96594</td>\n",
       "      <td>103213</td>\n",
       "    </tr>\n",
       "    <tr>\n",
       "      <th>Subscriber</th>\n",
       "      <td>566746</td>\n",
       "      <td>566746</td>\n",
       "      <td>566746</td>\n",
       "      <td>566746</td>\n",
       "      <td>566746</td>\n",
       "      <td>566746</td>\n",
       "      <td>566746</td>\n",
       "      <td>566746</td>\n",
       "      <td>566746</td>\n",
       "      <td>566746</td>\n",
       "      <td>566746</td>\n",
       "    </tr>\n",
       "  </tbody>\n",
       "</table>\n",
       "</div>"
      ],
      "text/plain": [
       "                       id  duration  start_date  start_station_name  \\\n",
       "subscription_type                                                     \n",
       "Customer           103213    103213      103213              103213   \n",
       "Subscriber         566746    566746      566746              566746   \n",
       "\n",
       "                   start_station_id  end_date  end_station_name  \\\n",
       "subscription_type                                                 \n",
       "Customer                     103213    103213            103213   \n",
       "Subscriber                   566746    566746            566746   \n",
       "\n",
       "                   end_station_id  bike_id  zip_code     day  \n",
       "subscription_type                                             \n",
       "Customer                   103213   103213     96594  103213  \n",
       "Subscriber                 566746   566746    566746  566746  "
      ]
     },
     "execution_count": 47,
     "metadata": {},
     "output_type": "execute_result"
    }
   ],
   "source": [
    "suscriptors = trips.groupby('subscription_type').agg('count')\n",
    "suscriptors"
   ]
  },
  {
   "cell_type": "code",
   "execution_count": 48,
   "metadata": {
    "collapsed": false,
    "deletable": true,
    "editable": true
   },
   "outputs": [
    {
     "data": {
      "text/plain": [
       "<matplotlib.axes._subplots.AxesSubplot at 0x7f83ab2e9c10>"
      ]
     },
     "execution_count": 48,
     "metadata": {},
     "output_type": "execute_result"
    },
    {
     "data": {
      "image/png": "[encoded data removed]",
      "text/plain": [
       "<matplotlib.figure.Figure at 0x7f83aa4ee110>"
      ]
     },
     "metadata": {},
     "output_type": "display_data"
    }
   ],
   "source": [
    "customers_trips_by_day = trips.loc[trips['subscription_type'] == 'Customer',['day']]['day'].value_counts().sort_index()\n",
    "customers_trips_by_day.index = ['Lunes','Martes','Miercoles','Jueves','Viernes','Sabado','Domingo']\n",
    "customers_trips_by_day.plot('bar')\n"
   ]
  },
  {
   "cell_type": "markdown",
   "metadata": {
    "deletable": true,
    "editable": true
   },
   "source": [
    "# En promedio, la duracion de los viajes en la semana es constante? Las personas van al trabajo en bicicleta?"
   ]
  },
  {
   "cell_type": "code",
   "execution_count": 49,
   "metadata": {
    "collapsed": true,
    "deletable": true,
    "editable": true
   },
   "outputs": [],
   "source": [
    "def getNames(seriesOfNumbers):\n",
    "    names = []\n",
    "    days = ['Lunes','Martes','Miercoles','Jueves','Viernes','Sabado','Domingo']\n",
    "    \n",
    "    for numDay in seriesOfNumbers:\n",
    "        names.append(days[numDay])\n",
    "    return names"
   ]
  },
  {
   "cell_type": "code",
   "execution_count": 51,
   "metadata": {
    "collapsed": false,
    "deletable": true,
    "editable": true
   },
   "outputs": [
    {
     "data": {
      "text/plain": [
       "<matplotlib.axes._subplots.AxesSubplot at 0x7f83a516b350>"
      ]
     },
     "execution_count": 51,
     "metadata": {},
     "output_type": "execute_result"
    },
    {
     "data": {
      "image/png": "[encoded data removed]",
      "text/plain": [
       "<matplotlib.figure.Figure at 0x7f83a5967610>"
      ]
     },
     "metadata": {},
     "output_type": "display_data"
    }
   ],
   "source": [
    "tripsByDayAndDuration = trips.loc[:,['day','duration']].sort_values('day')\n",
    "tripsByDayAndDuration = tripsByDayAndDuration.groupby('day').mean().reset_index()\n",
    "tripsByDayAndDuration['day'] = tripsByDayAndDuration[['day']].apply(lambda dates: getNames(dates))\n",
    "tripsByDayAndDuration.plot('day','duration',ylim=(0,3000))         "
   ]
  },
  {
   "cell_type": "code",
   "execution_count": null,
   "metadata": {
    "collapsed": true,
    "deletable": true,
    "editable": true
   },
   "outputs": [],
   "source": [
    "# en la semana la duracion deberia ser constante, si se concidera que las personas van al trabajo/colegio en bicicleta\n",
    "# si se filtran los \"costumers\" dejando los suscriptos..."
   ]
  },
  {
   "cell_type": "code",
   "execution_count": 52,
   "metadata": {
    "collapsed": false,
    "deletable": true,
    "editable": true
   },
   "outputs": [
    {
     "data": {
      "text/plain": [
       "<matplotlib.axes._subplots.AxesSubplot at 0x7f83a5329090>"
      ]
     },
     "execution_count": 52,
     "metadata": {},
     "output_type": "execute_result"
    },
    {
     "data": {
      "image/png": "[encoded data removed]",
      "text/plain": [
       "<matplotlib.figure.Figure at 0x7f83ab1622d0>"
      ]
     },
     "metadata": {},
     "output_type": "display_data"
    }
   ],
   "source": [
    "subscriptors_trips = trips.loc[trips.subscription_type == 'Subscriber',['day','duration']]\n",
    "subscriptors_trips = subscriptors_trips.groupby('day').mean().reset_index()\n",
    "subscriptors_trips['day'] = subscriptors_trips[['day']].apply(lambda dates: getNames(dates))\n",
    "subscriptors_trips.plot('day','duration',ylim=(0,3000))"
   ]
  },
  {
   "cell_type": "markdown",
   "metadata": {},
   "source": [
    "# Como varían los viajes en función de la hora?"
   ]
  },
  {
   "cell_type": "code",
   "execution_count": null,
   "metadata": {
    "collapsed": true
   },
   "outputs": [],
   "source": [
    "trips['start_time'] = trips.start_date.dt.time\n",
    "trips['start_date'] = trips.start_date.dt.date"
   ]
  },
  {
   "cell_type": "code",
   "execution_count": 59,
   "metadata": {
    "collapsed": false
   },
   "outputs": [
    {
     "data": {
      "text/html": [
       "<div>\n",
       "<table border=\"1\" class=\"dataframe\">\n",
       "  <thead>\n",
       "    <tr style=\"text-align: right;\">\n",
       "      <th></th>\n",
       "      <th>id</th>\n",
       "      <th>duration</th>\n",
       "      <th>start_date</th>\n",
       "      <th>start_station_name</th>\n",
       "      <th>start_station_id</th>\n",
       "      <th>end_date</th>\n",
       "      <th>end_station_name</th>\n",
       "      <th>end_station_id</th>\n",
       "      <th>bike_id</th>\n",
       "      <th>subscription_type</th>\n",
       "      <th>zip_code</th>\n",
       "      <th>day</th>\n",
       "      <th>start_time</th>\n",
       "      <th>end_time</th>\n",
       "    </tr>\n",
       "  </thead>\n",
       "  <tbody>\n",
       "    <tr>\n",
       "      <th>108181</th>\n",
       "      <td>150309</td>\n",
       "      <td>868</td>\n",
       "      <td>2014-01-12</td>\n",
       "      <td>Grant Avenue at Columbus Avenue</td>\n",
       "      <td>73</td>\n",
       "      <td>2014-01-12</td>\n",
       "      <td>Powell Street BART</td>\n",
       "      <td>39</td>\n",
       "      <td>426</td>\n",
       "      <td>Customer</td>\n",
       "      <td>78705</td>\n",
       "      <td>6</td>\n",
       "      <td>00:15:00</td>\n",
       "      <td>00:29:00</td>\n",
       "    </tr>\n",
       "  </tbody>\n",
       "</table>\n",
       "</div>"
      ],
      "text/plain": [
       "            id  duration  start_date               start_station_name  \\\n",
       "108181  150309       868  2014-01-12  Grant Avenue at Columbus Avenue   \n",
       "\n",
       "        start_station_id    end_date    end_station_name  end_station_id  \\\n",
       "108181                73  2014-01-12  Powell Street BART              39   \n",
       "\n",
       "        bike_id subscription_type zip_code  day start_time  end_time  \n",
       "108181      426          Customer    78705    6   00:15:00  00:29:00  "
      ]
     },
     "execution_count": 59,
     "metadata": {},
     "output_type": "execute_result"
    }
   ],
   "source": [
    "trips['end_time'] = trips.end_date.dt.time\n",
    "trips['end_date'] = trips.end_date.dt.date\n",
    "trips.sample()"
   ]
  }
 ],
 "metadata": {
  "kernelspec": {
   "display_name": "Python 2",
   "language": "python",
   "name": "python2"
  },
  "language_info": {
   "codemirror_mode": {
    "name": "ipython",
    "version": 2
   },
   "file_extension": ".py",
   "mimetype": "text/x-python",
   "name": "python",
   "nbconvert_exporter": "python",
   "pygments_lexer": "ipython2",
   "version": "2.7.13"
  }
 },
 "nbformat": 4,
 "nbformat_minor": 2
}
