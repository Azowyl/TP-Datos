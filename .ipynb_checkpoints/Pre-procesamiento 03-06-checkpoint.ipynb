{
 "cells": [
  {
   "cell_type": "markdown",
   "metadata": {},
   "source": [
    "# TO DO:\n",
    "\n",
    "I) Belleza del código.\n",
    "\n",
    "    1) Convertir listas en numpy array.\n",
    "    \n",
    "II) Preprocesamiento, ML, yerbas...\n",
    "\n",
    "    1) (http://scikit-learn.org/stable/modules/preprocessing.html#scaling-data-with-outliers)Probar \"robust_scale and RobustScaler\" en vez de normalization de los datos\n",
    "    2) Probar Grid_SearchCV en vez del \"for\"\n",
    "    \n",
    "III) Probar más hiperparametros"
   ]
  },
  {
   "cell_type": "code",
   "execution_count": 108,
   "metadata": {
    "collapsed": false,
    "deletable": true,
    "editable": true
   },
   "outputs": [],
   "source": [
    "# Python 2 \n",
    "from __future__ import division\n",
    "\n",
    "# Dataframe\n",
    "import pandas as pd\n",
    "import numpy as np\n",
    "\n",
    "# Time measurement\n",
    "import datetime\n",
    "\n",
    "# Visu\n",
    "import matplotlib.pyplot as plt\n",
    "\n",
    "# The Hashing Trick\n",
    "from sklearn.feature_extraction import FeatureHasher\n",
    "\n",
    "# Dimension Reduction\n",
    "from sklearn.decomposition import TruncatedSVD\n",
    "\n",
    "# ML\n",
    "from sklearn.tree import DecisionTreeRegressor\n",
    "from sklearn.model_selection import train_test_split\n",
    "from sklearn import neighbors\n",
    "from sklearn.ensemble import RandomForestRegressor\n",
    "\n",
    "# Scoring\n",
    "from sklearn.metrics import mean_squared_error\n",
    "from sklearn.model_selection import cross_val_score"
   ]
  },
  {
   "cell_type": "markdown",
   "metadata": {},
   "source": [
    "# Training Data Load"
   ]
  },
  {
   "cell_type": "code",
   "execution_count": 56,
   "metadata": {
    "collapsed": false,
    "deletable": true,
    "editable": true
   },
   "outputs": [],
   "source": [
    "stations = pd.read_csv('data/station.csv')\n",
    "\n",
    "trips = pd.read_csv('data/trip_train.csv', parse_dates=['start_date','end_date'], infer_datetime_format=True, low_memory=False)\n",
    "\n",
    "weather = pd.read_csv('data/weather.csv', parse_dates=['date'], infer_datetime_format=True)"
   ]
  },
  {
   "cell_type": "code",
   "execution_count": 57,
   "metadata": {
    "collapsed": false,
    "deletable": true,
    "editable": true
   },
   "outputs": [],
   "source": [
    "trips['date'] = pd.to_datetime(trips.start_date.dt.date)"
   ]
  },
  {
   "cell_type": "code",
   "execution_count": 107,
   "metadata": {
    "collapsed": false
   },
   "outputs": [
    {
     "name": "stdout",
     "output_type": "stream",
     "text": [
      "(0, '/', 494218194, '=', 0.0)\n"
     ]
    }
   ],
   "source": [
    "original_number_of_trips = trips['duration'].shape[0]\n",
    "\n",
    "trip_length = 60*60*12     # seconds in 12 hours\n",
    "trips_larger_than_12_hour = trips[trips['duration'] > trip_length]['duration'].sum()\n",
    "trips_shorter_than_12_hour = trips[trips['duration'] < trip_length]['duration'].sum()\n",
    "ratio = trips_larger_than_12_hour/trips_shorter_than_12_hour\n",
    "print (trips_larger_than_12_hour,\"/\",trips_shorter_than_12_hour,'=',ratio)"
   ]
  },
  {
   "cell_type": "code",
   "execution_count": 60,
   "metadata": {
    "collapsed": false,
    "scrolled": true
   },
   "outputs": [
    {
     "data": {
      "image/png": "[encoded data removed]",
      "text/plain": [
       "<matplotlib.figure.Figure at 0x7f47b5af1390>"
      ]
     },
     "metadata": {},
     "output_type": "display_data"
    }
   ],
   "source": [
    "# Agregar nombre de ejes y titulo.\n",
    "\n",
    "plt.hist(x=trips[trips['duration'] < trip_length]['duration'],bins=200)\n",
    "plt.show()"
   ]
  },
  {
   "cell_type": "code",
   "execution_count": 110,
   "metadata": {
    "collapsed": false
   },
   "outputs": [
    {
     "ename": "SyntaxError",
     "evalue": "invalid syntax (<ipython-input-110-821f60bff30c>, line 2)",
     "output_type": "error",
     "traceback": [
      "\u001b[0;36m  File \u001b[0;32m\"<ipython-input-110-821f60bff30c>\"\u001b[0;36m, line \u001b[0;32m2\u001b[0m\n\u001b[0;31m    print (\"Total de viajes luego de remover outliers: \" + str(trips.shape[0])\u001b[0m\n\u001b[0m                                                                              ^\u001b[0m\n\u001b[0;31mSyntaxError\u001b[0m\u001b[0;31m:\u001b[0m invalid syntax\n"
     ]
    }
   ],
   "source": [
    "trips = trips[trips['duration'] < trip_length]\n",
    "print (\"Total de viajes luego de remover outliers: \" + str(trips.shape[0])"
   ]
  },
  {
   "cell_type": "code",
   "execution_count": 62,
   "metadata": {
    "collapsed": false,
    "deletable": true,
    "editable": true
   },
   "outputs": [],
   "source": [
    "d = {'city': ['San Jose','Redwood City','Mountain View', 'Palo Alto', 'San Francisco'],\\\n",
    "         'zip_code':[95113,94063,94041,94301,94107]}\n",
    "city_zip_codes = pd.DataFrame(data = d)"
   ]
  },
  {
   "cell_type": "code",
   "execution_count": 63,
   "metadata": {
    "collapsed": false,
    "deletable": true,
    "editable": true,
    "scrolled": true
   },
   "outputs": [
    {
     "data": {
      "text/html": [
       "<div>\n",
       "<table border=\"1\" class=\"dataframe\">\n",
       "  <thead>\n",
       "    <tr style=\"text-align: right;\">\n",
       "      <th></th>\n",
       "      <th>id</th>\n",
       "      <th>name</th>\n",
       "      <th>lat</th>\n",
       "      <th>long</th>\n",
       "      <th>dock_count</th>\n",
       "      <th>city</th>\n",
       "      <th>installation_date</th>\n",
       "      <th>zip_code</th>\n",
       "    </tr>\n",
       "  </thead>\n",
       "  <tbody>\n",
       "    <tr>\n",
       "      <th>0</th>\n",
       "      <td>2</td>\n",
       "      <td>San Jose Diridon Caltrain Station</td>\n",
       "      <td>37.329732</td>\n",
       "      <td>-121.901782</td>\n",
       "      <td>27</td>\n",
       "      <td>San Jose</td>\n",
       "      <td>8/6/2013</td>\n",
       "      <td>95113</td>\n",
       "    </tr>\n",
       "    <tr>\n",
       "      <th>1</th>\n",
       "      <td>3</td>\n",
       "      <td>San Jose Civic Center</td>\n",
       "      <td>37.330698</td>\n",
       "      <td>-121.888979</td>\n",
       "      <td>15</td>\n",
       "      <td>San Jose</td>\n",
       "      <td>8/5/2013</td>\n",
       "      <td>95113</td>\n",
       "    </tr>\n",
       "    <tr>\n",
       "      <th>2</th>\n",
       "      <td>4</td>\n",
       "      <td>Santa Clara at Almaden</td>\n",
       "      <td>37.333988</td>\n",
       "      <td>-121.894902</td>\n",
       "      <td>11</td>\n",
       "      <td>San Jose</td>\n",
       "      <td>8/6/2013</td>\n",
       "      <td>95113</td>\n",
       "    </tr>\n",
       "    <tr>\n",
       "      <th>3</th>\n",
       "      <td>5</td>\n",
       "      <td>Adobe on Almaden</td>\n",
       "      <td>37.331415</td>\n",
       "      <td>-121.893200</td>\n",
       "      <td>19</td>\n",
       "      <td>San Jose</td>\n",
       "      <td>8/5/2013</td>\n",
       "      <td>95113</td>\n",
       "    </tr>\n",
       "    <tr>\n",
       "      <th>4</th>\n",
       "      <td>6</td>\n",
       "      <td>San Pedro Square</td>\n",
       "      <td>37.336721</td>\n",
       "      <td>-121.894074</td>\n",
       "      <td>15</td>\n",
       "      <td>San Jose</td>\n",
       "      <td>8/7/2013</td>\n",
       "      <td>95113</td>\n",
       "    </tr>\n",
       "    <tr>\n",
       "      <th>5</th>\n",
       "      <td>7</td>\n",
       "      <td>Paseo de San Antonio</td>\n",
       "      <td>37.333798</td>\n",
       "      <td>-121.886943</td>\n",
       "      <td>15</td>\n",
       "      <td>San Jose</td>\n",
       "      <td>8/7/2013</td>\n",
       "      <td>95113</td>\n",
       "    </tr>\n",
       "    <tr>\n",
       "      <th>6</th>\n",
       "      <td>8</td>\n",
       "      <td>San Salvador at 1st</td>\n",
       "      <td>37.330165</td>\n",
       "      <td>-121.885831</td>\n",
       "      <td>15</td>\n",
       "      <td>San Jose</td>\n",
       "      <td>8/5/2013</td>\n",
       "      <td>95113</td>\n",
       "    </tr>\n",
       "    <tr>\n",
       "      <th>7</th>\n",
       "      <td>9</td>\n",
       "      <td>Japantown</td>\n",
       "      <td>37.348742</td>\n",
       "      <td>-121.894715</td>\n",
       "      <td>15</td>\n",
       "      <td>San Jose</td>\n",
       "      <td>8/5/2013</td>\n",
       "      <td>95113</td>\n",
       "    </tr>\n",
       "    <tr>\n",
       "      <th>8</th>\n",
       "      <td>10</td>\n",
       "      <td>San Jose City Hall</td>\n",
       "      <td>37.337391</td>\n",
       "      <td>-121.886995</td>\n",
       "      <td>15</td>\n",
       "      <td>San Jose</td>\n",
       "      <td>8/6/2013</td>\n",
       "      <td>95113</td>\n",
       "    </tr>\n",
       "    <tr>\n",
       "      <th>9</th>\n",
       "      <td>11</td>\n",
       "      <td>MLK Library</td>\n",
       "      <td>37.335885</td>\n",
       "      <td>-121.885660</td>\n",
       "      <td>19</td>\n",
       "      <td>San Jose</td>\n",
       "      <td>8/6/2013</td>\n",
       "      <td>95113</td>\n",
       "    </tr>\n",
       "    <tr>\n",
       "      <th>10</th>\n",
       "      <td>12</td>\n",
       "      <td>SJSU 4th at San Carlos</td>\n",
       "      <td>37.332808</td>\n",
       "      <td>-121.883891</td>\n",
       "      <td>19</td>\n",
       "      <td>San Jose</td>\n",
       "      <td>8/7/2013</td>\n",
       "      <td>95113</td>\n",
       "    </tr>\n",
       "    <tr>\n",
       "      <th>11</th>\n",
       "      <td>13</td>\n",
       "      <td>St James Park</td>\n",
       "      <td>37.339301</td>\n",
       "      <td>-121.889937</td>\n",
       "      <td>15</td>\n",
       "      <td>San Jose</td>\n",
       "      <td>8/6/2013</td>\n",
       "      <td>95113</td>\n",
       "    </tr>\n",
       "    <tr>\n",
       "      <th>12</th>\n",
       "      <td>14</td>\n",
       "      <td>Arena Green / SAP Center</td>\n",
       "      <td>37.332692</td>\n",
       "      <td>-121.900084</td>\n",
       "      <td>19</td>\n",
       "      <td>San Jose</td>\n",
       "      <td>8/5/2013</td>\n",
       "      <td>95113</td>\n",
       "    </tr>\n",
       "    <tr>\n",
       "      <th>13</th>\n",
       "      <td>16</td>\n",
       "      <td>SJSU - San Salvador at 9th</td>\n",
       "      <td>37.333955</td>\n",
       "      <td>-121.877349</td>\n",
       "      <td>15</td>\n",
       "      <td>San Jose</td>\n",
       "      <td>8/7/2013</td>\n",
       "      <td>95113</td>\n",
       "    </tr>\n",
       "    <tr>\n",
       "      <th>14</th>\n",
       "      <td>21</td>\n",
       "      <td>Franklin at Maple</td>\n",
       "      <td>37.481758</td>\n",
       "      <td>-122.226904</td>\n",
       "      <td>15</td>\n",
       "      <td>Redwood City</td>\n",
       "      <td>8/12/2013</td>\n",
       "      <td>94063</td>\n",
       "    </tr>\n",
       "    <tr>\n",
       "      <th>15</th>\n",
       "      <td>22</td>\n",
       "      <td>Redwood City Caltrain Station</td>\n",
       "      <td>37.486078</td>\n",
       "      <td>-122.232089</td>\n",
       "      <td>25</td>\n",
       "      <td>Redwood City</td>\n",
       "      <td>8/15/2013</td>\n",
       "      <td>94063</td>\n",
       "    </tr>\n",
       "    <tr>\n",
       "      <th>16</th>\n",
       "      <td>23</td>\n",
       "      <td>San Mateo County Center</td>\n",
       "      <td>37.487616</td>\n",
       "      <td>-122.229951</td>\n",
       "      <td>15</td>\n",
       "      <td>Redwood City</td>\n",
       "      <td>8/15/2013</td>\n",
       "      <td>94063</td>\n",
       "    </tr>\n",
       "    <tr>\n",
       "      <th>17</th>\n",
       "      <td>24</td>\n",
       "      <td>Redwood City Public Library</td>\n",
       "      <td>37.484219</td>\n",
       "      <td>-122.227424</td>\n",
       "      <td>15</td>\n",
       "      <td>Redwood City</td>\n",
       "      <td>8/12/2013</td>\n",
       "      <td>94063</td>\n",
       "    </tr>\n",
       "    <tr>\n",
       "      <th>18</th>\n",
       "      <td>25</td>\n",
       "      <td>Stanford in Redwood City</td>\n",
       "      <td>37.485370</td>\n",
       "      <td>-122.203288</td>\n",
       "      <td>15</td>\n",
       "      <td>Redwood City</td>\n",
       "      <td>8/12/2013</td>\n",
       "      <td>94063</td>\n",
       "    </tr>\n",
       "    <tr>\n",
       "      <th>19</th>\n",
       "      <td>26</td>\n",
       "      <td>Redwood City Medical Center</td>\n",
       "      <td>37.487682</td>\n",
       "      <td>-122.223492</td>\n",
       "      <td>15</td>\n",
       "      <td>Redwood City</td>\n",
       "      <td>8/12/2013</td>\n",
       "      <td>94063</td>\n",
       "    </tr>\n",
       "    <tr>\n",
       "      <th>20</th>\n",
       "      <td>27</td>\n",
       "      <td>Mountain View City Hall</td>\n",
       "      <td>37.389218</td>\n",
       "      <td>-122.081896</td>\n",
       "      <td>15</td>\n",
       "      <td>Mountain View</td>\n",
       "      <td>8/16/2013</td>\n",
       "      <td>94041</td>\n",
       "    </tr>\n",
       "    <tr>\n",
       "      <th>21</th>\n",
       "      <td>28</td>\n",
       "      <td>Mountain View Caltrain Station</td>\n",
       "      <td>37.394358</td>\n",
       "      <td>-122.076713</td>\n",
       "      <td>23</td>\n",
       "      <td>Mountain View</td>\n",
       "      <td>8/15/2013</td>\n",
       "      <td>94041</td>\n",
       "    </tr>\n",
       "    <tr>\n",
       "      <th>22</th>\n",
       "      <td>29</td>\n",
       "      <td>San Antonio Caltrain Station</td>\n",
       "      <td>37.406940</td>\n",
       "      <td>-122.106758</td>\n",
       "      <td>23</td>\n",
       "      <td>Mountain View</td>\n",
       "      <td>8/15/2013</td>\n",
       "      <td>94041</td>\n",
       "    </tr>\n",
       "    <tr>\n",
       "      <th>23</th>\n",
       "      <td>30</td>\n",
       "      <td>Evelyn Park and Ride</td>\n",
       "      <td>37.390277</td>\n",
       "      <td>-122.066553</td>\n",
       "      <td>15</td>\n",
       "      <td>Mountain View</td>\n",
       "      <td>8/16/2013</td>\n",
       "      <td>94041</td>\n",
       "    </tr>\n",
       "    <tr>\n",
       "      <th>24</th>\n",
       "      <td>31</td>\n",
       "      <td>San Antonio Shopping Center</td>\n",
       "      <td>37.400443</td>\n",
       "      <td>-122.108338</td>\n",
       "      <td>15</td>\n",
       "      <td>Mountain View</td>\n",
       "      <td>12/31/2013</td>\n",
       "      <td>94041</td>\n",
       "    </tr>\n",
       "    <tr>\n",
       "      <th>25</th>\n",
       "      <td>32</td>\n",
       "      <td>Castro Street and El Camino Real</td>\n",
       "      <td>37.385956</td>\n",
       "      <td>-122.083678</td>\n",
       "      <td>11</td>\n",
       "      <td>Mountain View</td>\n",
       "      <td>12/31/2013</td>\n",
       "      <td>94041</td>\n",
       "    </tr>\n",
       "    <tr>\n",
       "      <th>26</th>\n",
       "      <td>33</td>\n",
       "      <td>Rengstorff Avenue / California Street</td>\n",
       "      <td>37.400241</td>\n",
       "      <td>-122.099076</td>\n",
       "      <td>15</td>\n",
       "      <td>Mountain View</td>\n",
       "      <td>8/16/2013</td>\n",
       "      <td>94041</td>\n",
       "    </tr>\n",
       "    <tr>\n",
       "      <th>27</th>\n",
       "      <td>34</td>\n",
       "      <td>Palo Alto Caltrain Station</td>\n",
       "      <td>37.443988</td>\n",
       "      <td>-122.164759</td>\n",
       "      <td>23</td>\n",
       "      <td>Palo Alto</td>\n",
       "      <td>8/14/2013</td>\n",
       "      <td>94301</td>\n",
       "    </tr>\n",
       "    <tr>\n",
       "      <th>28</th>\n",
       "      <td>35</td>\n",
       "      <td>University and Emerson</td>\n",
       "      <td>37.444521</td>\n",
       "      <td>-122.163093</td>\n",
       "      <td>11</td>\n",
       "      <td>Palo Alto</td>\n",
       "      <td>8/15/2013</td>\n",
       "      <td>94301</td>\n",
       "    </tr>\n",
       "    <tr>\n",
       "      <th>29</th>\n",
       "      <td>36</td>\n",
       "      <td>California Ave Caltrain Station</td>\n",
       "      <td>37.429082</td>\n",
       "      <td>-122.142805</td>\n",
       "      <td>15</td>\n",
       "      <td>Palo Alto</td>\n",
       "      <td>8/14/2013</td>\n",
       "      <td>94301</td>\n",
       "    </tr>\n",
       "    <tr>\n",
       "      <th>...</th>\n",
       "      <td>...</td>\n",
       "      <td>...</td>\n",
       "      <td>...</td>\n",
       "      <td>...</td>\n",
       "      <td>...</td>\n",
       "      <td>...</td>\n",
       "      <td>...</td>\n",
       "      <td>...</td>\n",
       "    </tr>\n",
       "    <tr>\n",
       "      <th>40</th>\n",
       "      <td>51</td>\n",
       "      <td>Embarcadero at Folsom</td>\n",
       "      <td>37.791464</td>\n",
       "      <td>-122.391034</td>\n",
       "      <td>19</td>\n",
       "      <td>San Francisco</td>\n",
       "      <td>8/20/2013</td>\n",
       "      <td>94107</td>\n",
       "    </tr>\n",
       "    <tr>\n",
       "      <th>41</th>\n",
       "      <td>39</td>\n",
       "      <td>Powell Street BART</td>\n",
       "      <td>37.783871</td>\n",
       "      <td>-122.408433</td>\n",
       "      <td>19</td>\n",
       "      <td>San Francisco</td>\n",
       "      <td>8/25/2013</td>\n",
       "      <td>94107</td>\n",
       "    </tr>\n",
       "    <tr>\n",
       "      <th>42</th>\n",
       "      <td>54</td>\n",
       "      <td>Embarcadero at Bryant</td>\n",
       "      <td>37.787152</td>\n",
       "      <td>-122.388013</td>\n",
       "      <td>15</td>\n",
       "      <td>San Francisco</td>\n",
       "      <td>8/20/2013</td>\n",
       "      <td>94107</td>\n",
       "    </tr>\n",
       "    <tr>\n",
       "      <th>43</th>\n",
       "      <td>55</td>\n",
       "      <td>Temporary Transbay Terminal (Howard at Beale)</td>\n",
       "      <td>37.789756</td>\n",
       "      <td>-122.394643</td>\n",
       "      <td>23</td>\n",
       "      <td>San Francisco</td>\n",
       "      <td>8/20/2013</td>\n",
       "      <td>94107</td>\n",
       "    </tr>\n",
       "    <tr>\n",
       "      <th>44</th>\n",
       "      <td>56</td>\n",
       "      <td>Beale at Market</td>\n",
       "      <td>37.792251</td>\n",
       "      <td>-122.397086</td>\n",
       "      <td>19</td>\n",
       "      <td>San Francisco</td>\n",
       "      <td>8/20/2013</td>\n",
       "      <td>94107</td>\n",
       "    </tr>\n",
       "    <tr>\n",
       "      <th>45</th>\n",
       "      <td>57</td>\n",
       "      <td>5th at Howard</td>\n",
       "      <td>37.781752</td>\n",
       "      <td>-122.405127</td>\n",
       "      <td>15</td>\n",
       "      <td>San Francisco</td>\n",
       "      <td>8/21/2013</td>\n",
       "      <td>94107</td>\n",
       "    </tr>\n",
       "    <tr>\n",
       "      <th>46</th>\n",
       "      <td>58</td>\n",
       "      <td>San Francisco City Hall</td>\n",
       "      <td>37.778650</td>\n",
       "      <td>-122.418235</td>\n",
       "      <td>19</td>\n",
       "      <td>San Francisco</td>\n",
       "      <td>8/21/2013</td>\n",
       "      <td>94107</td>\n",
       "    </tr>\n",
       "    <tr>\n",
       "      <th>47</th>\n",
       "      <td>59</td>\n",
       "      <td>Golden Gate at Polk</td>\n",
       "      <td>37.781332</td>\n",
       "      <td>-122.418603</td>\n",
       "      <td>23</td>\n",
       "      <td>San Francisco</td>\n",
       "      <td>8/21/2013</td>\n",
       "      <td>94107</td>\n",
       "    </tr>\n",
       "    <tr>\n",
       "      <th>48</th>\n",
       "      <td>60</td>\n",
       "      <td>Embarcadero at Sansome</td>\n",
       "      <td>37.804770</td>\n",
       "      <td>-122.403234</td>\n",
       "      <td>15</td>\n",
       "      <td>San Francisco</td>\n",
       "      <td>8/21/2013</td>\n",
       "      <td>94107</td>\n",
       "    </tr>\n",
       "    <tr>\n",
       "      <th>49</th>\n",
       "      <td>61</td>\n",
       "      <td>2nd at Townsend</td>\n",
       "      <td>37.780526</td>\n",
       "      <td>-122.390288</td>\n",
       "      <td>27</td>\n",
       "      <td>San Francisco</td>\n",
       "      <td>8/22/2013</td>\n",
       "      <td>94107</td>\n",
       "    </tr>\n",
       "    <tr>\n",
       "      <th>50</th>\n",
       "      <td>62</td>\n",
       "      <td>2nd at Folsom</td>\n",
       "      <td>37.785299</td>\n",
       "      <td>-122.396236</td>\n",
       "      <td>19</td>\n",
       "      <td>San Francisco</td>\n",
       "      <td>8/22/2013</td>\n",
       "      <td>94107</td>\n",
       "    </tr>\n",
       "    <tr>\n",
       "      <th>51</th>\n",
       "      <td>63</td>\n",
       "      <td>Howard at 2nd</td>\n",
       "      <td>37.786978</td>\n",
       "      <td>-122.398108</td>\n",
       "      <td>19</td>\n",
       "      <td>San Francisco</td>\n",
       "      <td>8/22/2013</td>\n",
       "      <td>94107</td>\n",
       "    </tr>\n",
       "    <tr>\n",
       "      <th>52</th>\n",
       "      <td>64</td>\n",
       "      <td>2nd at South Park</td>\n",
       "      <td>37.782259</td>\n",
       "      <td>-122.392738</td>\n",
       "      <td>15</td>\n",
       "      <td>San Francisco</td>\n",
       "      <td>8/22/2013</td>\n",
       "      <td>94107</td>\n",
       "    </tr>\n",
       "    <tr>\n",
       "      <th>53</th>\n",
       "      <td>65</td>\n",
       "      <td>Townsend at 7th</td>\n",
       "      <td>37.771058</td>\n",
       "      <td>-122.402717</td>\n",
       "      <td>15</td>\n",
       "      <td>San Francisco</td>\n",
       "      <td>8/22/2013</td>\n",
       "      <td>94107</td>\n",
       "    </tr>\n",
       "    <tr>\n",
       "      <th>54</th>\n",
       "      <td>66</td>\n",
       "      <td>South Van Ness at Market</td>\n",
       "      <td>37.774814</td>\n",
       "      <td>-122.418954</td>\n",
       "      <td>19</td>\n",
       "      <td>San Francisco</td>\n",
       "      <td>8/23/2013</td>\n",
       "      <td>94107</td>\n",
       "    </tr>\n",
       "    <tr>\n",
       "      <th>55</th>\n",
       "      <td>67</td>\n",
       "      <td>Market at 10th</td>\n",
       "      <td>37.776619</td>\n",
       "      <td>-122.417385</td>\n",
       "      <td>27</td>\n",
       "      <td>San Francisco</td>\n",
       "      <td>8/23/2013</td>\n",
       "      <td>94107</td>\n",
       "    </tr>\n",
       "    <tr>\n",
       "      <th>56</th>\n",
       "      <td>68</td>\n",
       "      <td>Yerba Buena Center of the Arts (3rd @ Howard)</td>\n",
       "      <td>37.784878</td>\n",
       "      <td>-122.401014</td>\n",
       "      <td>19</td>\n",
       "      <td>San Francisco</td>\n",
       "      <td>8/23/2013</td>\n",
       "      <td>94107</td>\n",
       "    </tr>\n",
       "    <tr>\n",
       "      <th>57</th>\n",
       "      <td>69</td>\n",
       "      <td>San Francisco Caltrain 2 (330 Townsend)</td>\n",
       "      <td>37.776600</td>\n",
       "      <td>-122.395470</td>\n",
       "      <td>23</td>\n",
       "      <td>San Francisco</td>\n",
       "      <td>8/23/2013</td>\n",
       "      <td>94107</td>\n",
       "    </tr>\n",
       "    <tr>\n",
       "      <th>58</th>\n",
       "      <td>70</td>\n",
       "      <td>San Francisco Caltrain (Townsend at 4th)</td>\n",
       "      <td>37.776617</td>\n",
       "      <td>-122.395260</td>\n",
       "      <td>19</td>\n",
       "      <td>San Francisco</td>\n",
       "      <td>8/23/2013</td>\n",
       "      <td>94107</td>\n",
       "    </tr>\n",
       "    <tr>\n",
       "      <th>59</th>\n",
       "      <td>71</td>\n",
       "      <td>Powell at Post (Union Square)</td>\n",
       "      <td>37.788446</td>\n",
       "      <td>-122.408499</td>\n",
       "      <td>19</td>\n",
       "      <td>San Francisco</td>\n",
       "      <td>8/23/2013</td>\n",
       "      <td>94107</td>\n",
       "    </tr>\n",
       "    <tr>\n",
       "      <th>60</th>\n",
       "      <td>72</td>\n",
       "      <td>Civic Center BART (7th at Market)</td>\n",
       "      <td>37.781039</td>\n",
       "      <td>-122.411748</td>\n",
       "      <td>23</td>\n",
       "      <td>San Francisco</td>\n",
       "      <td>8/23/2013</td>\n",
       "      <td>94107</td>\n",
       "    </tr>\n",
       "    <tr>\n",
       "      <th>61</th>\n",
       "      <td>73</td>\n",
       "      <td>Grant Avenue at Columbus Avenue</td>\n",
       "      <td>37.798522</td>\n",
       "      <td>-122.407245</td>\n",
       "      <td>15</td>\n",
       "      <td>San Francisco</td>\n",
       "      <td>8/21/2013</td>\n",
       "      <td>94107</td>\n",
       "    </tr>\n",
       "    <tr>\n",
       "      <th>62</th>\n",
       "      <td>74</td>\n",
       "      <td>Steuart at Market</td>\n",
       "      <td>37.794139</td>\n",
       "      <td>-122.394434</td>\n",
       "      <td>23</td>\n",
       "      <td>San Francisco</td>\n",
       "      <td>8/25/2013</td>\n",
       "      <td>94107</td>\n",
       "    </tr>\n",
       "    <tr>\n",
       "      <th>63</th>\n",
       "      <td>75</td>\n",
       "      <td>Mechanics Plaza (Market at Battery)</td>\n",
       "      <td>37.791300</td>\n",
       "      <td>-122.399051</td>\n",
       "      <td>19</td>\n",
       "      <td>San Francisco</td>\n",
       "      <td>8/25/2013</td>\n",
       "      <td>94107</td>\n",
       "    </tr>\n",
       "    <tr>\n",
       "      <th>64</th>\n",
       "      <td>76</td>\n",
       "      <td>Market at 4th</td>\n",
       "      <td>37.786305</td>\n",
       "      <td>-122.404966</td>\n",
       "      <td>19</td>\n",
       "      <td>San Francisco</td>\n",
       "      <td>8/25/2013</td>\n",
       "      <td>94107</td>\n",
       "    </tr>\n",
       "    <tr>\n",
       "      <th>65</th>\n",
       "      <td>77</td>\n",
       "      <td>Market at Sansome</td>\n",
       "      <td>37.789625</td>\n",
       "      <td>-122.400811</td>\n",
       "      <td>27</td>\n",
       "      <td>San Francisco</td>\n",
       "      <td>8/25/2013</td>\n",
       "      <td>94107</td>\n",
       "    </tr>\n",
       "    <tr>\n",
       "      <th>66</th>\n",
       "      <td>80</td>\n",
       "      <td>Santa Clara County Civic Center</td>\n",
       "      <td>37.352601</td>\n",
       "      <td>-121.905733</td>\n",
       "      <td>15</td>\n",
       "      <td>San Jose</td>\n",
       "      <td>12/31/2013</td>\n",
       "      <td>95113</td>\n",
       "    </tr>\n",
       "    <tr>\n",
       "      <th>67</th>\n",
       "      <td>82</td>\n",
       "      <td>Broadway St at Battery St</td>\n",
       "      <td>37.798541</td>\n",
       "      <td>-122.400862</td>\n",
       "      <td>15</td>\n",
       "      <td>San Francisco</td>\n",
       "      <td>1/22/2014</td>\n",
       "      <td>94107</td>\n",
       "    </tr>\n",
       "    <tr>\n",
       "      <th>68</th>\n",
       "      <td>83</td>\n",
       "      <td>Mezes Park</td>\n",
       "      <td>37.491269</td>\n",
       "      <td>-122.236234</td>\n",
       "      <td>15</td>\n",
       "      <td>Redwood City</td>\n",
       "      <td>2/20/2014</td>\n",
       "      <td>94063</td>\n",
       "    </tr>\n",
       "    <tr>\n",
       "      <th>69</th>\n",
       "      <td>84</td>\n",
       "      <td>Ryland Park</td>\n",
       "      <td>37.342725</td>\n",
       "      <td>-121.895617</td>\n",
       "      <td>15</td>\n",
       "      <td>San Jose</td>\n",
       "      <td>4/9/2014</td>\n",
       "      <td>95113</td>\n",
       "    </tr>\n",
       "  </tbody>\n",
       "</table>\n",
       "<p>70 rows × 8 columns</p>\n",
       "</div>"
      ],
      "text/plain": [
       "    id                                           name        lat        long  \\\n",
       "0    2              San Jose Diridon Caltrain Station  37.329732 -121.901782   \n",
       "1    3                          San Jose Civic Center  37.330698 -121.888979   \n",
       "2    4                         Santa Clara at Almaden  37.333988 -121.894902   \n",
       "3    5                               Adobe on Almaden  37.331415 -121.893200   \n",
       "4    6                               San Pedro Square  37.336721 -121.894074   \n",
       "5    7                           Paseo de San Antonio  37.333798 -121.886943   \n",
       "6    8                            San Salvador at 1st  37.330165 -121.885831   \n",
       "7    9                                      Japantown  37.348742 -121.894715   \n",
       "8   10                             San Jose City Hall  37.337391 -121.886995   \n",
       "9   11                                    MLK Library  37.335885 -121.885660   \n",
       "10  12                         SJSU 4th at San Carlos  37.332808 -121.883891   \n",
       "11  13                                  St James Park  37.339301 -121.889937   \n",
       "12  14                       Arena Green / SAP Center  37.332692 -121.900084   \n",
       "13  16                     SJSU - San Salvador at 9th  37.333955 -121.877349   \n",
       "14  21                              Franklin at Maple  37.481758 -122.226904   \n",
       "15  22                  Redwood City Caltrain Station  37.486078 -122.232089   \n",
       "16  23                        San Mateo County Center  37.487616 -122.229951   \n",
       "17  24                    Redwood City Public Library  37.484219 -122.227424   \n",
       "18  25                       Stanford in Redwood City  37.485370 -122.203288   \n",
       "19  26                    Redwood City Medical Center  37.487682 -122.223492   \n",
       "20  27                        Mountain View City Hall  37.389218 -122.081896   \n",
       "21  28                 Mountain View Caltrain Station  37.394358 -122.076713   \n",
       "22  29                   San Antonio Caltrain Station  37.406940 -122.106758   \n",
       "23  30                           Evelyn Park and Ride  37.390277 -122.066553   \n",
       "24  31                    San Antonio Shopping Center  37.400443 -122.108338   \n",
       "25  32               Castro Street and El Camino Real  37.385956 -122.083678   \n",
       "26  33          Rengstorff Avenue / California Street  37.400241 -122.099076   \n",
       "27  34                     Palo Alto Caltrain Station  37.443988 -122.164759   \n",
       "28  35                         University and Emerson  37.444521 -122.163093   \n",
       "29  36                California Ave Caltrain Station  37.429082 -122.142805   \n",
       "..  ..                                            ...        ...         ...   \n",
       "40  51                          Embarcadero at Folsom  37.791464 -122.391034   \n",
       "41  39                             Powell Street BART  37.783871 -122.408433   \n",
       "42  54                          Embarcadero at Bryant  37.787152 -122.388013   \n",
       "43  55  Temporary Transbay Terminal (Howard at Beale)  37.789756 -122.394643   \n",
       "44  56                                Beale at Market  37.792251 -122.397086   \n",
       "45  57                                  5th at Howard  37.781752 -122.405127   \n",
       "46  58                        San Francisco City Hall  37.778650 -122.418235   \n",
       "47  59                            Golden Gate at Polk  37.781332 -122.418603   \n",
       "48  60                         Embarcadero at Sansome  37.804770 -122.403234   \n",
       "49  61                                2nd at Townsend  37.780526 -122.390288   \n",
       "50  62                                  2nd at Folsom  37.785299 -122.396236   \n",
       "51  63                                  Howard at 2nd  37.786978 -122.398108   \n",
       "52  64                              2nd at South Park  37.782259 -122.392738   \n",
       "53  65                                Townsend at 7th  37.771058 -122.402717   \n",
       "54  66                       South Van Ness at Market  37.774814 -122.418954   \n",
       "55  67                                 Market at 10th  37.776619 -122.417385   \n",
       "56  68  Yerba Buena Center of the Arts (3rd @ Howard)  37.784878 -122.401014   \n",
       "57  69        San Francisco Caltrain 2 (330 Townsend)  37.776600 -122.395470   \n",
       "58  70       San Francisco Caltrain (Townsend at 4th)  37.776617 -122.395260   \n",
       "59  71                  Powell at Post (Union Square)  37.788446 -122.408499   \n",
       "60  72              Civic Center BART (7th at Market)  37.781039 -122.411748   \n",
       "61  73                Grant Avenue at Columbus Avenue  37.798522 -122.407245   \n",
       "62  74                              Steuart at Market  37.794139 -122.394434   \n",
       "63  75            Mechanics Plaza (Market at Battery)  37.791300 -122.399051   \n",
       "64  76                                  Market at 4th  37.786305 -122.404966   \n",
       "65  77                              Market at Sansome  37.789625 -122.400811   \n",
       "66  80                Santa Clara County Civic Center  37.352601 -121.905733   \n",
       "67  82                      Broadway St at Battery St  37.798541 -122.400862   \n",
       "68  83                                     Mezes Park  37.491269 -122.236234   \n",
       "69  84                                    Ryland Park  37.342725 -121.895617   \n",
       "\n",
       "    dock_count           city installation_date  zip_code  \n",
       "0           27       San Jose          8/6/2013     95113  \n",
       "1           15       San Jose          8/5/2013     95113  \n",
       "2           11       San Jose          8/6/2013     95113  \n",
       "3           19       San Jose          8/5/2013     95113  \n",
       "4           15       San Jose          8/7/2013     95113  \n",
       "5           15       San Jose          8/7/2013     95113  \n",
       "6           15       San Jose          8/5/2013     95113  \n",
       "7           15       San Jose          8/5/2013     95113  \n",
       "8           15       San Jose          8/6/2013     95113  \n",
       "9           19       San Jose          8/6/2013     95113  \n",
       "10          19       San Jose          8/7/2013     95113  \n",
       "11          15       San Jose          8/6/2013     95113  \n",
       "12          19       San Jose          8/5/2013     95113  \n",
       "13          15       San Jose          8/7/2013     95113  \n",
       "14          15   Redwood City         8/12/2013     94063  \n",
       "15          25   Redwood City         8/15/2013     94063  \n",
       "16          15   Redwood City         8/15/2013     94063  \n",
       "17          15   Redwood City         8/12/2013     94063  \n",
       "18          15   Redwood City         8/12/2013     94063  \n",
       "19          15   Redwood City         8/12/2013     94063  \n",
       "20          15  Mountain View         8/16/2013     94041  \n",
       "21          23  Mountain View         8/15/2013     94041  \n",
       "22          23  Mountain View         8/15/2013     94041  \n",
       "23          15  Mountain View         8/16/2013     94041  \n",
       "24          15  Mountain View        12/31/2013     94041  \n",
       "25          11  Mountain View        12/31/2013     94041  \n",
       "26          15  Mountain View         8/16/2013     94041  \n",
       "27          23      Palo Alto         8/14/2013     94301  \n",
       "28          11      Palo Alto         8/15/2013     94301  \n",
       "29          15      Palo Alto         8/14/2013     94301  \n",
       "..         ...            ...               ...       ...  \n",
       "40          19  San Francisco         8/20/2013     94107  \n",
       "41          19  San Francisco         8/25/2013     94107  \n",
       "42          15  San Francisco         8/20/2013     94107  \n",
       "43          23  San Francisco         8/20/2013     94107  \n",
       "44          19  San Francisco         8/20/2013     94107  \n",
       "45          15  San Francisco         8/21/2013     94107  \n",
       "46          19  San Francisco         8/21/2013     94107  \n",
       "47          23  San Francisco         8/21/2013     94107  \n",
       "48          15  San Francisco         8/21/2013     94107  \n",
       "49          27  San Francisco         8/22/2013     94107  \n",
       "50          19  San Francisco         8/22/2013     94107  \n",
       "51          19  San Francisco         8/22/2013     94107  \n",
       "52          15  San Francisco         8/22/2013     94107  \n",
       "53          15  San Francisco         8/22/2013     94107  \n",
       "54          19  San Francisco         8/23/2013     94107  \n",
       "55          27  San Francisco         8/23/2013     94107  \n",
       "56          19  San Francisco         8/23/2013     94107  \n",
       "57          23  San Francisco         8/23/2013     94107  \n",
       "58          19  San Francisco         8/23/2013     94107  \n",
       "59          19  San Francisco         8/23/2013     94107  \n",
       "60          23  San Francisco         8/23/2013     94107  \n",
       "61          15  San Francisco         8/21/2013     94107  \n",
       "62          23  San Francisco         8/25/2013     94107  \n",
       "63          19  San Francisco         8/25/2013     94107  \n",
       "64          19  San Francisco         8/25/2013     94107  \n",
       "65          27  San Francisco         8/25/2013     94107  \n",
       "66          15       San Jose        12/31/2013     95113  \n",
       "67          15  San Francisco         1/22/2014     94107  \n",
       "68          15   Redwood City         2/20/2014     94063  \n",
       "69          15       San Jose          4/9/2014     95113  \n",
       "\n",
       "[70 rows x 8 columns]"
      ]
     },
     "execution_count": 63,
     "metadata": {},
     "output_type": "execute_result"
    }
   ],
   "source": [
    "stations = pd.merge(stations, city_zip_codes, on='city', how='left')"
   ]
  },
  {
   "cell_type": "code",
   "execution_count": 64,
   "metadata": {
    "collapsed": true,
    "deletable": true,
    "editable": true
   },
   "outputs": [],
   "source": [
    "# se agrega el zip_code de la ciudad de la start station a cada viaje\n",
    "stations_to_join = stations.loc[:,['id','zip_code']]\n",
    "stations_to_join.columns = ['start_station_id','city_zip_code']\n",
    "\n",
    "trips = pd.merge(trips, stations_to_join, on='start_station_id', how='left')"
   ]
  },
  {
   "cell_type": "code",
   "execution_count": 66,
   "metadata": {
    "collapsed": false,
    "deletable": true,
    "editable": true
   },
   "outputs": [],
   "source": [
    "weather.rename(columns={'zip_code':'city_zip_code'}, inplace=True)"
   ]
  },
  {
   "cell_type": "code",
   "execution_count": 67,
   "metadata": {
    "collapsed": false,
    "deletable": true,
    "editable": true
   },
   "outputs": [],
   "source": [
    "data = pd.merge(trips, weather, on=['date','city_zip_code'], how='inner')"
   ]
  },
  {
   "cell_type": "code",
   "execution_count": 68,
   "metadata": {
    "collapsed": false,
    "deletable": true,
    "editable": true,
    "scrolled": true
   },
   "outputs": [
    {
     "data": {
      "text/plain": [
       "Index([u'id', u'duration', u'start_date', u'start_station_name',\n",
       "       u'start_station_id', u'end_date', u'end_station_name',\n",
       "       u'end_station_id', u'bike_id', u'subscription_type', u'zip_code',\n",
       "       u'start_time', u'date', u'city_zip_code', u'max_temperature_f',\n",
       "       u'mean_temperature_f', u'min_temperature_f', u'max_dew_point_f',\n",
       "       u'mean_dew_point_f', u'min_dew_point_f', u'max_humidity',\n",
       "       u'mean_humidity', u'min_humidity', u'max_sea_level_pressure_inches',\n",
       "       u'mean_sea_level_pressure_inches', u'min_sea_level_pressure_inches',\n",
       "       u'max_visibility_miles', u'mean_visibility_miles',\n",
       "       u'min_visibility_miles', u'max_wind_Speed_mph', u'mean_wind_speed_mph',\n",
       "       u'max_gust_speed_mph', u'precipitation_inches', u'cloud_cover',\n",
       "       u'events', u'wind_dir_degrees'],\n",
       "      dtype='object')"
      ]
     },
     "execution_count": 68,
     "metadata": {},
     "output_type": "execute_result"
    }
   ],
   "source": [
    "data.columns"
   ]
  },
  {
   "cell_type": "code",
   "execution_count": 69,
   "metadata": {
    "collapsed": false,
    "deletable": true,
    "editable": true
   },
   "outputs": [],
   "source": [
    "# transformar cada date en segundos desde 29/04/1994\n",
    "data.start_date = data.start_date.apply(lambda x: int((x - datetime.datetime(1994,4,29)).total_seconds()))\n",
    "\n",
    "data.end_date = data.end_date.apply(lambda x: int((x - datetime.datetime(1994,4,29)).total_seconds()))"
   ]
  },
  {
   "cell_type": "code",
   "execution_count": 71,
   "metadata": {
    "collapsed": false,
    "deletable": true,
    "editable": true
   },
   "outputs": [],
   "source": [
    "data.precipitation_inches = pd.to_numeric(data.precipitation_inches, errors='coerse')\n",
    "data.precipitation_inches.fillna(0,inplace=True)"
   ]
  },
  {
   "cell_type": "code",
   "execution_count": 72,
   "metadata": {
    "collapsed": false,
    "deletable": true,
    "editable": true
   },
   "outputs": [
    {
     "data": {
      "text/plain": [
       "Index([u'duration', u'start_date', u'start_station_id', u'end_station_id',\n",
       "       u'subscription_type', u'city_zip_code', u'max_temperature_f',\n",
       "       u'mean_temperature_f', u'min_temperature_f', u'max_dew_point_f',\n",
       "       u'mean_dew_point_f', u'min_dew_point_f', u'max_humidity',\n",
       "       u'mean_humidity', u'min_humidity', u'max_sea_level_pressure_inches',\n",
       "       u'mean_sea_level_pressure_inches', u'min_sea_level_pressure_inches',\n",
       "       u'max_visibility_miles', u'mean_visibility_miles',\n",
       "       u'min_visibility_miles', u'max_wind_Speed_mph', u'mean_wind_speed_mph',\n",
       "       u'max_gust_speed_mph', u'precipitation_inches', u'cloud_cover',\n",
       "       u'events', u'wind_dir_degrees'],\n",
       "      dtype='object')"
      ]
     },
     "execution_count": 72,
     "metadata": {},
     "output_type": "execute_result"
    }
   ],
   "source": [
    "data.drop(labels=['id','start_station_name','end_station_name','date','start_time','zip_code','bike_id'], axis=1, inplace=True)\n",
    "data.columns"
   ]
  },
  {
   "cell_type": "code",
   "execution_count": 113,
   "metadata": {
    "collapsed": false
   },
   "outputs": [
    {
     "data": {
      "text/plain": [
       "Index([u'id', u'start_date', u'start_station_name', u'start_station_id',\n",
       "       u'end_date', u'end_station_name', u'end_station_id', u'bike_id',\n",
       "       u'subscription_type', u'zip_code'],\n",
       "      dtype='object')"
      ]
     },
     "execution_count": 113,
     "metadata": {},
     "output_type": "execute_result"
    }
   ],
   "source": [
    "trip_test = pd.read_csv('data/trip_test.csv')\n",
    "trip_test.columns"
   ]
  },
  {
   "cell_type": "markdown",
   "metadata": {
    "deletable": true,
    "editable": true
   },
   "source": [
    "# The Hashing Trick"
   ]
  },
  {
   "cell_type": "code",
   "execution_count": 73,
   "metadata": {
    "collapsed": false,
    "deletable": true,
    "editable": true
   },
   "outputs": [],
   "source": [
    "temp = []\n",
    "column_labels = ['start_station_id','end_station_id','subscription_type','city_zip_code','events']\n",
    "\n",
    "for row in data.loc[:,column_labels].iterrows():\n",
    "    index, value = row\n",
    "    for i in range(len(value)):\n",
    "        value[i] = str(value[i])\n",
    "    temp.append(value.tolist())"
   ]
  },
  {
   "cell_type": "code",
   "execution_count": null,
   "metadata": {
    "collapsed": true
   },
   "outputs": [],
   "source": [
    "h = FeatureHasher(n_features=10, input_type='string')\n",
    "f = h.transform(raw_X=temp)"
   ]
  },
  {
   "cell_type": "code",
   "execution_count": 118,
   "metadata": {
    "collapsed": false,
    "deletable": true,
    "editable": true
   },
   "outputs": [
    {
     "name": "stdout",
     "output_type": "stream",
     "text": [
      "Porcentaje de dispersidad: 41.1938920118 %\n"
     ]
    }
   ],
   "source": [
    "print(\"Porcentaje de dispersidad: \" + str((f.nnz/(f.shape[0] * f.shape[1]))*100) + \" %\")"
   ]
  },
  {
   "cell_type": "code",
   "execution_count": 77,
   "metadata": {
    "collapsed": false,
    "deletable": true,
    "editable": true
   },
   "outputs": [],
   "source": [
    "data = pd.concat([data,pd.DataFrame(f.todense())],axis=1)\n",
    "data.drop(labels=column_labels,axis=1,inplace=True)"
   ]
  },
  {
   "cell_type": "code",
   "execution_count": 78,
   "metadata": {
    "collapsed": false,
    "deletable": true,
    "editable": true,
    "scrolled": true
   },
   "outputs": [
    {
     "data": {
      "text/plain": [
       "duration                            int64\n",
       "start_date                          int64\n",
       "max_temperature_f                 float64\n",
       "mean_temperature_f                float64\n",
       "min_temperature_f                 float64\n",
       "max_dew_point_f                   float64\n",
       "mean_dew_point_f                  float64\n",
       "min_dew_point_f                   float64\n",
       "max_humidity                      float64\n",
       "mean_humidity                     float64\n",
       "min_humidity                      float64\n",
       "max_sea_level_pressure_inches     float64\n",
       "mean_sea_level_pressure_inches    float64\n",
       "min_sea_level_pressure_inches     float64\n",
       "max_visibility_miles              float64\n",
       "mean_visibility_miles             float64\n",
       "min_visibility_miles              float64\n",
       "max_wind_Speed_mph                float64\n",
       "mean_wind_speed_mph               float64\n",
       "max_gust_speed_mph                float64\n",
       "precipitation_inches              float64\n",
       "cloud_cover                       float64\n",
       "wind_dir_degrees                  float64\n",
       "0                                 float64\n",
       "1                                 float64\n",
       "2                                 float64\n",
       "3                                 float64\n",
       "4                                 float64\n",
       "5                                 float64\n",
       "6                                 float64\n",
       "7                                 float64\n",
       "8                                 float64\n",
       "9                                 float64\n",
       "dtype: object"
      ]
     },
     "execution_count": 78,
     "metadata": {},
     "output_type": "execute_result"
    }
   ],
   "source": [
    "# Verificamos que sean todos numericos\n",
    "data.dtypes"
   ]
  },
  {
   "cell_type": "code",
   "execution_count": null,
   "metadata": {
    "collapsed": true
   },
   "outputs": [],
   "source": [
    "data = data.dropna(how='any').reset_index(drop=True)"
   ]
  },
  {
   "cell_type": "code",
   "execution_count": 119,
   "metadata": {
    "collapsed": false,
    "deletable": true,
    "editable": true
   },
   "outputs": [
    {
     "name": "stdout",
     "output_type": "stream",
     "text": [
      "Cantidad de muestras en train set: 532389\n"
     ]
    }
   ],
   "source": [
    "print (\"Cantidad de muestras en train set: \"+str(data.shape[0]))"
   ]
  },
  {
   "cell_type": "code",
   "execution_count": 80,
   "metadata": {
    "collapsed": true,
    "deletable": true,
    "editable": true
   },
   "outputs": [],
   "source": [
    "# Separamos y de x\n",
    "target_values = data['duration']\n",
    "data.drop(labels='duration', axis=1, inplace=True)"
   ]
  },
  {
   "cell_type": "markdown",
   "metadata": {
    "deletable": true,
    "editable": true
   },
   "source": [
    "# Data normalization"
   ]
  },
  {
   "cell_type": "code",
   "execution_count": 81,
   "metadata": {
    "collapsed": true,
    "deletable": true,
    "editable": true
   },
   "outputs": [],
   "source": [
    "data = (data - data.mean()) / (data.max() - data.min())"
   ]
  },
  {
   "cell_type": "markdown",
   "metadata": {
    "deletable": true,
    "editable": true
   },
   "source": [
    "# Dimension Reduction"
   ]
  },
  {
   "cell_type": "markdown",
   "metadata": {},
   "source": [
    "## SVD"
   ]
  },
  {
   "cell_type": "code",
   "execution_count": 83,
   "metadata": {
    "collapsed": false,
    "deletable": true,
    "editable": true
   },
   "outputs": [],
   "source": [
    "u,s,v = np.linalg.svd(data.as_matrix(),full_matrices=0)"
   ]
  },
  {
   "cell_type": "markdown",
   "metadata": {},
   "source": [
    "## Energía de la matriz"
   ]
  },
  {
   "cell_type": "code",
   "execution_count": 121,
   "metadata": {
    "collapsed": false,
    "deletable": true,
    "editable": true,
    "scrolled": false
   },
   "outputs": [
    {
     "data": {
      "image/png": "[encoded data removed]",
      "text/plain": [
       "<matplotlib.figure.Figure at 0x7f47b68fdcd0>"
      ]
     },
     "metadata": {},
     "output_type": "display_data"
    }
   ],
   "source": [
    "plt.plot(s)\n",
    "plt.show()"
   ]
  },
  {
   "cell_type": "markdown",
   "metadata": {},
   "source": [
    "Vemos un codo en x = 5"
   ]
  },
  {
   "cell_type": "markdown",
   "metadata": {
    "deletable": true,
    "editable": true
   },
   "source": [
    "# Aproximation error"
   ]
  },
  {
   "cell_type": "code",
   "execution_count": 84,
   "metadata": {
    "collapsed": false,
    "deletable": true,
    "editable": true,
    "scrolled": true
   },
   "outputs": [
    {
     "name": "stdout",
     "output_type": "stream",
     "text": [
      "0.904287501714\n"
     ]
    }
   ],
   "source": [
    "dim = 5\n",
    "closeness = np.isclose(np.dot(np.dot(u[:,0:dim],np.diag(s)[0:dim,0:dim]),v[0:dim,:]),data,atol=0.1,rtol=0.1)\n",
    "print (closeness.sum()/(closeness.shape[0]*closeness.shape[1]))"
   ]
  },
  {
   "cell_type": "markdown",
   "metadata": {
    "deletable": true,
    "editable": true
   },
   "source": [
    "# Truncated SVD"
   ]
  },
  {
   "cell_type": "code",
   "execution_count": 86,
   "metadata": {
    "collapsed": false,
    "deletable": true,
    "editable": true
   },
   "outputs": [],
   "source": [
    "svd = TruncatedSVD(n_components=7, n_iter=7, random_state=42)\n",
    "u_2 = svd.fit_transform(data)"
   ]
  },
  {
   "cell_type": "markdown",
   "metadata": {
    "deletable": true,
    "editable": true
   },
   "source": [
    "# KNN "
   ]
  },
  {
   "cell_type": "code",
   "execution_count": 88,
   "metadata": {
    "collapsed": true,
    "deletable": true,
    "editable": true
   },
   "outputs": [],
   "source": [
    "reduced_data = u_2"
   ]
  },
  {
   "cell_type": "code",
   "execution_count": 152,
   "metadata": {
    "collapsed": false,
    "deletable": true,
    "editable": true
   },
   "outputs": [],
   "source": [
    "k_neighbors = np.array([1,2])#range(1,11)\n",
    "metrics = ['euclidean', 'manhattan']\n",
    "KNN_cv_scores = np.zeros(shape=(len(k_neighbors),len(metrics)))\n",
    "\n",
    "for i,k in enumerate(k_neighbors):\n",
    "    for j,metric in enumerate(metrics):\n",
    "        \n",
    "        knn = neighbors.KNeighborsRegressor(n_neighbors=k, metric=metric, weights = 'distance')\n",
    "        scores = cross_val_score(knn, reduced_data, target_values, cv=10, scoring='neg_mean_squared_error')\n",
    "        KNN_cv_scores[i][j] = scores.mean()"
   ]
  },
  {
   "cell_type": "code",
   "execution_count": 158,
   "metadata": {
    "collapsed": false,
    "deletable": true,
    "editable": true,
    "scrolled": true
   },
   "outputs": [
    {
     "name": "stdout",
     "output_type": "stream",
     "text": [
      "[[-16188568.29 -15591140.76]\n",
      " [-11973198.39 -11560584.88]]\n",
      "Best MSE: -11560584.88\n",
      "Index of best MSE: [1 1]\n",
      "Best k: 2\n",
      "Best metric: manhattan\n"
     ]
    }
   ],
   "source": [
    "print (np.array(KNN_cv_scores).round(2))\n",
    "\n",
    "print (\"Best MSE: \" + str(np.array(KNN_cv_scores).round(2).max()))\n",
    "print (\"Index of best MSE: \" + str (np.array(KNN_cv_scores).round(2).argmax(axis=1)))\n",
    "print (\"Best k: \" + str(k_neighbors[KNN_cv_scores.round(2).argmax(axis=1)[0]]) )\n",
    "print (\"Best metric: \" + str(metrics[KNN_cv_scores.round(2).argmax(axis=1)[1]] ) )"
   ]
  },
  {
   "cell_type": "markdown",
   "metadata": {
    "deletable": true,
    "editable": true
   },
   "source": [
    "# Decision Tree Regressor"
   ]
  },
  {
   "cell_type": "code",
   "execution_count": 94,
   "metadata": {
    "collapsed": false,
    "deletable": true,
    "editable": true
   },
   "outputs": [],
   "source": [
    "possible_depth = np.array(range(1,11))"
   ]
  },
  {
   "cell_type": "code",
   "execution_count": 95,
   "metadata": {
    "collapsed": true
   },
   "outputs": [],
   "source": [
    "cv_scores = []\n",
    "\n",
    "for current_depth in possible_depth:\n",
    "    \n",
    "    regr_1 = DecisionTreeRegressor(max_depth=current_depth)\n",
    "    scores = cross_val_score(regr_1, data, target_values, cv=10, scoring='neg_mean_squared_error')\n",
    "    DTR_cv_scores.append(scores.mean())"
   ]
  },
  {
   "cell_type": "code",
   "execution_count": 106,
   "metadata": {
    "collapsed": false
   },
   "outputs": [
    {
     "name": "stdout",
     "output_type": "stream",
     "text": [
      "Best MSE: -4219311.81\n",
      "Index of best MSE: 4\n",
      "Best depth: 5\n"
     ]
    }
   ],
   "source": [
    "print (\"Best MSE: \" + str(np.array(cv_scores).round(2).max()))\n",
    "print (\"Index of best MSE: \" + str (np.array(cv_scores).round(2).argmax()))\n",
    "print (\"Best depth: \" + str(possible_depth[np.array(cv_scores).round(2).argmax()]))"
   ]
  },
  {
   "cell_type": "code",
   "execution_count": null,
   "metadata": {
    "collapsed": false,
    "deletable": true,
    "editable": true
   },
   "outputs": [],
   "source": [
    "plt.figure(figsize=(15,8))\n",
    "plt.scatter(x=range(len(y_1)),y=y_1)\n",
    "plt.show()"
   ]
  },
  {
   "cell_type": "code",
   "execution_count": null,
   "metadata": {
    "collapsed": false,
    "deletable": true,
    "editable": true
   },
   "outputs": [],
   "source": [
    "plt.figure(figsize=(15,8))\n",
    "plt.ylim(0,531240)\n",
    "plt.scatter(x=range(len(Y_test)),y=Y_test)"
   ]
  },
  {
   "cell_type": "markdown",
   "metadata": {},
   "source": [
    "# Random Forest Regressor"
   ]
  },
  {
   "cell_type": "code",
   "execution_count": null,
   "metadata": {
    "collapsed": true
   },
   "outputs": [],
   "source": [
    "regr_1 = RandomForestRegressor(n_estimators=5, criterion='mse')\n",
    "scores = cross_val_score(regr_1, reduced_data, target_values, cv=10, scoring='neg_mean_squared_error')"
   ]
  },
  {
   "cell_type": "code",
   "execution_count": 112,
   "metadata": {
    "collapsed": false
   },
   "outputs": [
    {
     "data": {
      "text/plain": [
       "-9742625.5500462297"
      ]
     },
     "execution_count": 112,
     "metadata": {},
     "output_type": "execute_result"
    }
   ],
   "source": [
    "scores.mean()"
   ]
  }
 ],
 "metadata": {
  "kernelspec": {
   "display_name": "Python 2",
   "language": "python",
   "name": "python2"
  },
  "language_info": {
   "codemirror_mode": {
    "name": "ipython",
    "version": 2
   },
   "file_extension": ".py",
   "mimetype": "text/x-python",
   "name": "python",
   "nbconvert_exporter": "python",
   "pygments_lexer": "ipython2",
   "version": "2.7.13"
  }
 },
 "nbformat": 4,
 "nbformat_minor": 2
}
