{
 "cells": [
  {
   "cell_type": "markdown",
   "metadata": {
    "deletable": true,
    "editable": true
   },
   "source": [
    "# TO DO:\n",
    "\n",
    "I) Belleza del código.\n",
    "\n",
    "    1) Convertir listas en numpy array.\n",
    "    \n",
    "II) Preprocesamiento, ML, yerbas...\n",
    "\n",
    "    1) (http://scikit-learn.org/stable/modules/preprocessing.html#scaling-data-with-outliers)Probar \"robust_scale and RobustScaler\" en vez de normalization de los datos\n",
    "    2) Probar Grid_SearchCV en vez del \"for\"\n",
    "    \n",
    "III) Probar más hiperparametros"
   ]
  },
  {
   "cell_type": "code",
   "execution_count": 1,
   "metadata": {
    "collapsed": false,
    "deletable": true,
    "editable": true
   },
   "outputs": [],
   "source": [
    "# Python 2 \n",
    "from __future__ import division\n",
    "\n",
    "# Dataframe\n",
    "import pandas as pd\n",
    "import numpy as np\n",
    "\n",
    "# Time measurement\n",
    "import datetime\n",
    "\n",
    "# Visu\n",
    "import matplotlib.pyplot as plt\n",
    "\n",
    "# The Hashing Trick\n",
    "from sklearn.feature_extraction import FeatureHasher\n",
    "\n",
    "# Dimension Reduction\n",
    "from sklearn.decomposition import TruncatedSVD\n",
    "\n",
    "# ML\n",
    "from sklearn.tree import DecisionTreeRegressor\n",
    "from sklearn.model_selection import train_test_split\n",
    "from sklearn import neighbors\n",
    "from sklearn.ensemble import RandomForestRegressor\n",
    "\n",
    "# Scoring\n",
    "from sklearn.metrics import mean_squared_error\n",
    "from sklearn.model_selection import cross_val_score"
   ]
  },
  {
   "cell_type": "markdown",
   "metadata": {
    "deletable": true,
    "editable": true
   },
   "source": [
    "# Training Data Load"
   ]
  },
  {
   "cell_type": "code",
   "execution_count": 2,
   "metadata": {
    "collapsed": false,
    "deletable": true,
    "editable": true
   },
   "outputs": [],
   "source": [
    "stations = pd.read_csv('data/station.csv')\n",
    "\n",
    "trips = pd.read_csv('data/trip_train.csv', parse_dates=['start_date','end_date'], infer_datetime_format=True, low_memory=False)\n",
    "\n",
    "weather = pd.read_csv('data/weather.csv', parse_dates=['date'], infer_datetime_format=True)"
   ]
  },
  {
   "cell_type": "code",
   "execution_count": 3,
   "metadata": {
    "collapsed": false,
    "deletable": true,
    "editable": true
   },
   "outputs": [
    {
     "data": {
      "text/plain": [
       "Index([u'id', u'duration', u'start_date', u'start_station_name',\n",
       "       u'start_station_id', u'end_date', u'end_station_name',\n",
       "       u'end_station_id', u'bike_id', u'subscription_type', u'zip_code'],\n",
       "      dtype='object')"
      ]
     },
     "execution_count": 3,
     "metadata": {},
     "output_type": "execute_result"
    }
   ],
   "source": [
    "trips.columns"
   ]
  },
  {
   "cell_type": "code",
   "execution_count": 4,
   "metadata": {
    "collapsed": false,
    "deletable": true,
    "editable": true
   },
   "outputs": [],
   "source": [
    "trips['date'] = pd.to_datetime(trips.start_date.dt.date)"
   ]
  },
  {
   "cell_type": "code",
   "execution_count": 5,
   "metadata": {
    "collapsed": false,
    "deletable": true,
    "editable": true
   },
   "outputs": [
    {
     "name": "stdout",
     "output_type": "stream",
     "text": [
      "(118116828, '/', 494218194, '=', 0.23899732837435766)\n"
     ]
    }
   ],
   "source": [
    "original_number_of_trips = trips['duration'].shape[0]\n",
    "\n",
    "trip_length = 60*60*12     # seconds in 12 hours\n",
    "trips_larger_than_12_hour = trips[trips['duration'] > trip_length]['duration'].sum()\n",
    "trips_shorter_than_12_hour = trips[trips['duration'] < trip_length]['duration'].sum()\n",
    "ratio = trips_larger_than_12_hour/trips_shorter_than_12_hour\n",
    "print (trips_larger_than_12_hour,\"/\",trips_shorter_than_12_hour,'=',ratio)"
   ]
  },
  {
   "cell_type": "code",
   "execution_count": 44,
   "metadata": {
    "collapsed": false,
    "deletable": true,
    "editable": true,
    "scrolled": false
   },
   "outputs": [
    {
     "data": {
      "image/png": "[encoded data removed]",
      "text/plain": [
       "<matplotlib.figure.Figure at 0x7f929ebde3d0>"
      ]
     },
     "metadata": {},
     "output_type": "display_data"
    }
   ],
   "source": [
    "plt.figure(figsize=(15,8))\n",
    "plt.title(\"Histograma de duracion de viajes\")\n",
    "plt.xlabel('frecuencia')\n",
    "plt.ylabel('Duracion')\n",
    "plt.hist(x=trips[trips['duration'] < trip_length]['duration'],bins=200)\n",
    "plt.show()"
   ]
  },
  {
   "cell_type": "code",
   "execution_count": 7,
   "metadata": {
    "collapsed": false,
    "deletable": true,
    "editable": true
   },
   "outputs": [
    {
     "name": "stdout",
     "output_type": "stream",
     "text": [
      "Total de viajes luego de remover outliers: 548986\n"
     ]
    }
   ],
   "source": [
    "trips = trips[trips['duration'] < trip_length]\n",
    "print (\"Total de viajes luego de remover outliers: \" + str(trips.shape[0]))"
   ]
  },
  {
   "cell_type": "code",
   "execution_count": 8,
   "metadata": {
    "collapsed": false,
    "deletable": true,
    "editable": true
   },
   "outputs": [],
   "source": [
    "d = {'city': ['San Jose','Redwood City','Mountain View', 'Palo Alto', 'San Francisco'],\\\n",
    "         'zip_code':[95113,94063,94041,94301,94107]}\n",
    "city_zip_codes = pd.DataFrame(data = d)"
   ]
  },
  {
   "cell_type": "code",
   "execution_count": 9,
   "metadata": {
    "collapsed": false,
    "deletable": true,
    "editable": true,
    "scrolled": true
   },
   "outputs": [],
   "source": [
    "stations = pd.merge(stations, city_zip_codes, on='city', how='left')"
   ]
  },
  {
   "cell_type": "code",
   "execution_count": 10,
   "metadata": {
    "collapsed": true,
    "deletable": true,
    "editable": true
   },
   "outputs": [],
   "source": [
    "# se agrega el zip_code de la ciudad de la start station a cada viaje\n",
    "stations_to_join = stations.loc[:,['id','zip_code']]\n",
    "stations_to_join.columns = ['start_station_id','city_zip_code']\n",
    "\n",
    "trips = pd.merge(trips, stations_to_join, on='start_station_id', how='left')"
   ]
  },
  {
   "cell_type": "code",
   "execution_count": 11,
   "metadata": {
    "collapsed": false,
    "deletable": true,
    "editable": true
   },
   "outputs": [],
   "source": [
    "weather.rename(columns={'zip_code':'city_zip_code'}, inplace=True)"
   ]
  },
  {
   "cell_type": "code",
   "execution_count": 12,
   "metadata": {
    "collapsed": false,
    "deletable": true,
    "editable": true
   },
   "outputs": [],
   "source": [
    "data = pd.merge(trips, weather, on=['date','city_zip_code'], how='inner')"
   ]
  },
  {
   "cell_type": "code",
   "execution_count": 13,
   "metadata": {
    "collapsed": false,
    "deletable": true,
    "editable": true,
    "scrolled": true
   },
   "outputs": [
    {
     "data": {
      "text/plain": [
       "Index([u'id', u'duration', u'start_date', u'start_station_name',\n",
       "       u'start_station_id', u'end_date', u'end_station_name',\n",
       "       u'end_station_id', u'bike_id', u'subscription_type', u'zip_code',\n",
       "       u'date', u'city_zip_code', u'max_temperature_f', u'mean_temperature_f',\n",
       "       u'min_temperature_f', u'max_dew_point_f', u'mean_dew_point_f',\n",
       "       u'min_dew_point_f', u'max_humidity', u'mean_humidity', u'min_humidity',\n",
       "       u'max_sea_level_pressure_inches', u'mean_sea_level_pressure_inches',\n",
       "       u'min_sea_level_pressure_inches', u'max_visibility_miles',\n",
       "       u'mean_visibility_miles', u'min_visibility_miles',\n",
       "       u'max_wind_Speed_mph', u'mean_wind_speed_mph', u'max_gust_speed_mph',\n",
       "       u'precipitation_inches', u'cloud_cover', u'events',\n",
       "       u'wind_dir_degrees'],\n",
       "      dtype='object')"
      ]
     },
     "execution_count": 13,
     "metadata": {},
     "output_type": "execute_result"
    }
   ],
   "source": [
    "data.columns"
   ]
  },
  {
   "cell_type": "code",
   "execution_count": 14,
   "metadata": {
    "collapsed": false,
    "deletable": true,
    "editable": true
   },
   "outputs": [],
   "source": [
    "# transformar cada date en segundos desde 29/04/1994\n",
    "data.start_date = data.start_date.apply(lambda x: int((x - datetime.datetime(1994,4,29)).total_seconds()))\n",
    "\n",
    "data.end_date = data.end_date.apply(lambda x: int((x - datetime.datetime(1994,4,29)).total_seconds()))"
   ]
  },
  {
   "cell_type": "code",
   "execution_count": 15,
   "metadata": {
    "collapsed": false,
    "deletable": true,
    "editable": true
   },
   "outputs": [],
   "source": [
    "data.precipitation_inches = pd.to_numeric(data.precipitation_inches, errors='coerse')\n",
    "data.precipitation_inches.fillna(0,inplace=True)"
   ]
  },
  {
   "cell_type": "code",
   "execution_count": 16,
   "metadata": {
    "collapsed": false,
    "deletable": true,
    "editable": true
   },
   "outputs": [
    {
     "data": {
      "text/plain": [
       "Index([u'duration', u'start_date', u'start_station_id', u'end_date',\n",
       "       u'end_station_id', u'subscription_type', u'city_zip_code',\n",
       "       u'max_temperature_f', u'mean_temperature_f', u'min_temperature_f',\n",
       "       u'max_dew_point_f', u'mean_dew_point_f', u'min_dew_point_f',\n",
       "       u'max_humidity', u'mean_humidity', u'min_humidity',\n",
       "       u'max_sea_level_pressure_inches', u'mean_sea_level_pressure_inches',\n",
       "       u'min_sea_level_pressure_inches', u'max_visibility_miles',\n",
       "       u'mean_visibility_miles', u'min_visibility_miles',\n",
       "       u'max_wind_Speed_mph', u'mean_wind_speed_mph', u'max_gust_speed_mph',\n",
       "       u'precipitation_inches', u'cloud_cover', u'events',\n",
       "       u'wind_dir_degrees'],\n",
       "      dtype='object')"
      ]
     },
     "execution_count": 16,
     "metadata": {},
     "output_type": "execute_result"
    }
   ],
   "source": [
    "data.drop(labels=['id','start_station_name','end_station_name','date','zip_code','bike_id'], axis=1, inplace=True)\n",
    "data.columns"
   ]
  },
  {
   "cell_type": "code",
   "execution_count": 17,
   "metadata": {
    "collapsed": false,
    "deletable": true,
    "editable": true
   },
   "outputs": [
    {
     "data": {
      "text/plain": [
       "Index([u'id', u'start_date', u'start_station_name', u'start_station_id',\n",
       "       u'end_date', u'end_station_name', u'end_station_id', u'bike_id',\n",
       "       u'subscription_type', u'zip_code'],\n",
       "      dtype='object')"
      ]
     },
     "execution_count": 17,
     "metadata": {},
     "output_type": "execute_result"
    }
   ],
   "source": [
    "trip_test = pd.read_csv('data/trip_test.csv')\n",
    "trip_test.columns"
   ]
  },
  {
   "cell_type": "markdown",
   "metadata": {
    "deletable": true,
    "editable": true
   },
   "source": [
    "# The Hashing Trick"
   ]
  },
  {
   "cell_type": "code",
   "execution_count": 18,
   "metadata": {
    "collapsed": false,
    "deletable": true,
    "editable": true
   },
   "outputs": [],
   "source": [
    "temp = []\n",
    "column_labels = ['start_station_id','end_station_id','subscription_type','city_zip_code','events']\n",
    "\n",
    "for row in data.loc[:,column_labels].iterrows():\n",
    "    index, value = row\n",
    "    for i in range(len(value)):\n",
    "        value[i] = str(value[i])\n",
    "    temp.append(value.tolist())"
   ]
  },
  {
   "cell_type": "code",
   "execution_count": 19,
   "metadata": {
    "collapsed": true,
    "deletable": true,
    "editable": true
   },
   "outputs": [],
   "source": [
    "h = FeatureHasher(n_features=10, input_type='string')\n",
    "f = h.transform(raw_X=temp)"
   ]
  },
  {
   "cell_type": "code",
   "execution_count": 20,
   "metadata": {
    "collapsed": false,
    "deletable": true,
    "editable": true
   },
   "outputs": [
    {
     "name": "stdout",
     "output_type": "stream",
     "text": [
      "Porcentaje de dispersidad: 41.1938920118 %\n"
     ]
    }
   ],
   "source": [
    "print(\"Porcentaje de dispersidad: \" + str((f.nnz/(f.shape[0] * f.shape[1]))*100) + \" %\")"
   ]
  },
  {
   "cell_type": "code",
   "execution_count": 21,
   "metadata": {
    "collapsed": false,
    "deletable": true,
    "editable": true
   },
   "outputs": [],
   "source": [
    "data = pd.concat([data,pd.DataFrame(f.todense())],axis=1)\n",
    "data.drop(labels=column_labels,axis=1,inplace=True)"
   ]
  },
  {
   "cell_type": "code",
   "execution_count": 22,
   "metadata": {
    "collapsed": false,
    "deletable": true,
    "editable": true,
    "scrolled": true
   },
   "outputs": [
    {
     "data": {
      "text/plain": [
       "duration                            int64\n",
       "start_date                          int64\n",
       "end_date                            int64\n",
       "max_temperature_f                 float64\n",
       "mean_temperature_f                float64\n",
       "min_temperature_f                 float64\n",
       "max_dew_point_f                   float64\n",
       "mean_dew_point_f                  float64\n",
       "min_dew_point_f                   float64\n",
       "max_humidity                      float64\n",
       "mean_humidity                     float64\n",
       "min_humidity                      float64\n",
       "max_sea_level_pressure_inches     float64\n",
       "mean_sea_level_pressure_inches    float64\n",
       "min_sea_level_pressure_inches     float64\n",
       "max_visibility_miles              float64\n",
       "mean_visibility_miles             float64\n",
       "min_visibility_miles              float64\n",
       "max_wind_Speed_mph                float64\n",
       "mean_wind_speed_mph               float64\n",
       "max_gust_speed_mph                float64\n",
       "precipitation_inches              float64\n",
       "cloud_cover                       float64\n",
       "wind_dir_degrees                  float64\n",
       "0                                 float64\n",
       "1                                 float64\n",
       "2                                 float64\n",
       "3                                 float64\n",
       "4                                 float64\n",
       "5                                 float64\n",
       "6                                 float64\n",
       "7                                 float64\n",
       "8                                 float64\n",
       "9                                 float64\n",
       "dtype: object"
      ]
     },
     "execution_count": 22,
     "metadata": {},
     "output_type": "execute_result"
    }
   ],
   "source": [
    "# Verificamos que sean todos numericos\n",
    "data.dtypes"
   ]
  },
  {
   "cell_type": "code",
   "execution_count": 23,
   "metadata": {
    "collapsed": true,
    "deletable": true,
    "editable": true
   },
   "outputs": [],
   "source": [
    "data = data.dropna(how='any').reset_index(drop=True)"
   ]
  },
  {
   "cell_type": "code",
   "execution_count": 24,
   "metadata": {
    "collapsed": false,
    "deletable": true,
    "editable": true
   },
   "outputs": [
    {
     "name": "stdout",
     "output_type": "stream",
     "text": [
      "Cantidad de muestras en train set: 532389\n"
     ]
    }
   ],
   "source": [
    "print (\"Cantidad de muestras en train set: \"+str(data.shape[0]))"
   ]
  },
  {
   "cell_type": "code",
   "execution_count": 25,
   "metadata": {
    "collapsed": true,
    "deletable": true,
    "editable": true
   },
   "outputs": [],
   "source": [
    "# Separamos y de x\n",
    "target_values = data['duration']\n",
    "data.drop(labels='duration', axis=1, inplace=True)"
   ]
  },
  {
   "cell_type": "markdown",
   "metadata": {
    "deletable": true,
    "editable": true
   },
   "source": [
    "# Data normalization"
   ]
  },
  {
   "cell_type": "code",
   "execution_count": 26,
   "metadata": {
    "collapsed": true,
    "deletable": true,
    "editable": true
   },
   "outputs": [],
   "source": [
    "data = (data - data.mean()) / (data.max() - data.min())"
   ]
  },
  {
   "cell_type": "markdown",
   "metadata": {
    "deletable": true,
    "editable": true
   },
   "source": [
    "# Dimension Reduction"
   ]
  },
  {
   "cell_type": "markdown",
   "metadata": {
    "deletable": true,
    "editable": true
   },
   "source": [
    "## SVD"
   ]
  },
  {
   "cell_type": "code",
   "execution_count": 27,
   "metadata": {
    "collapsed": false,
    "deletable": true,
    "editable": true
   },
   "outputs": [],
   "source": [
    "u,s,v = np.linalg.svd(data.as_matrix(),full_matrices=0)"
   ]
  },
  {
   "cell_type": "markdown",
   "metadata": {
    "deletable": true,
    "editable": true
   },
   "source": [
    "## Energía de la matriz"
   ]
  },
  {
   "cell_type": "code",
   "execution_count": 46,
   "metadata": {
    "collapsed": false,
    "deletable": true,
    "editable": true,
    "scrolled": false
   },
   "outputs": [
    {
     "data": {
      "image/png": "[encoded data removed]",
      "text/plain": [
       "<matplotlib.figure.Figure at 0x7f929ebde350>"
      ]
     },
     "metadata": {},
     "output_type": "display_data"
    }
   ],
   "source": [
    "plt.figure(figsize=(8,8))\n",
    "plt.xlabel(\"# valor singular\")\n",
    "plt.ylabel('Valor singular')\n",
    "plt.title(\"Energia de la matriz\")\n",
    "plt.plot(s)\n",
    "plt.show()"
   ]
  },
  {
   "cell_type": "markdown",
   "metadata": {
    "deletable": true,
    "editable": true
   },
   "source": [
    "Vemos un codo en x = 5"
   ]
  },
  {
   "cell_type": "markdown",
   "metadata": {
    "deletable": true,
    "editable": true
   },
   "source": [
    "# Aproximation error"
   ]
  },
  {
   "cell_type": "code",
   "execution_count": 29,
   "metadata": {
    "collapsed": false,
    "deletable": true,
    "editable": true,
    "scrolled": false
   },
   "outputs": [
    {
     "name": "stdout",
     "output_type": "stream",
     "text": [
      "90.69 %\n"
     ]
    }
   ],
   "source": [
    "dim = 5\n",
    "closeness = np.isclose(np.dot(np.dot(u[:,0:dim],np.diag(s)[0:dim,0:dim]),v[0:dim,:]),data,atol=0.1,rtol=0.1)\n",
    "print (str((closeness.sum()/(closeness.shape[0]*closeness.shape[1])*100).round(2)) + \" %\")"
   ]
  },
  {
   "cell_type": "markdown",
   "metadata": {
    "deletable": true,
    "editable": true
   },
   "source": [
    "# Truncated SVD\n",
    "\n",
    "[...it can work with scipy.sparse matrices efficiently.](http://scikit-learn.org/stable/modules/generated/sklearn.decomposition.TruncatedSVD.html)"
   ]
  },
  {
   "cell_type": "code",
   "execution_count": 30,
   "metadata": {
    "collapsed": false,
    "deletable": true,
    "editable": true
   },
   "outputs": [],
   "source": [
    "svd = TruncatedSVD(n_components=7, n_iter=7, random_state=42)\n",
    "truncated_svd_aprox = svd.fit_transform(data)"
   ]
  },
  {
   "cell_type": "markdown",
   "metadata": {
    "deletable": true,
    "editable": true
   },
   "source": [
    "# KNN "
   ]
  },
  {
   "cell_type": "code",
   "execution_count": 31,
   "metadata": {
    "collapsed": false,
    "deletable": true,
    "editable": true
   },
   "outputs": [],
   "source": [
    "reduced_data = truncated_svd_aprox"
   ]
  },
  {
   "cell_type": "code",
   "execution_count": 32,
   "metadata": {
    "collapsed": false,
    "deletable": true,
    "editable": true
   },
   "outputs": [
    {
     "ename": "KeyboardInterrupt",
     "evalue": "",
     "output_type": "error",
     "traceback": [
      "\u001b[0;31m---------------------------------------------------------------------------\u001b[0m",
      "\u001b[0;31mKeyboardInterrupt\u001b[0m                         Traceback (most recent call last)",
      "\u001b[0;32m<ipython-input-32-33de7a7b5e9e>\u001b[0m in \u001b[0;36m<module>\u001b[0;34m()\u001b[0m\n\u001b[1;32m      7\u001b[0m \u001b[0;34m\u001b[0m\u001b[0m\n\u001b[1;32m      8\u001b[0m         \u001b[0mknn\u001b[0m \u001b[0;34m=\u001b[0m \u001b[0mneighbors\u001b[0m\u001b[0;34m.\u001b[0m\u001b[0mKNeighborsRegressor\u001b[0m\u001b[0;34m(\u001b[0m\u001b[0mn_neighbors\u001b[0m\u001b[0;34m=\u001b[0m\u001b[0mk\u001b[0m\u001b[0;34m,\u001b[0m \u001b[0mmetric\u001b[0m\u001b[0;34m=\u001b[0m\u001b[0mmetric\u001b[0m\u001b[0;34m,\u001b[0m \u001b[0mweights\u001b[0m \u001b[0;34m=\u001b[0m \u001b[0;34m'distance'\u001b[0m\u001b[0;34m,\u001b[0m\u001b[0mn_jobs\u001b[0m\u001b[0;34m=\u001b[0m\u001b[0;34m-\u001b[0m\u001b[0;36m1\u001b[0m\u001b[0;34m)\u001b[0m\u001b[0;34m\u001b[0m\u001b[0m\n\u001b[0;32m----> 9\u001b[0;31m         \u001b[0mscores\u001b[0m \u001b[0;34m=\u001b[0m \u001b[0mcross_val_score\u001b[0m\u001b[0;34m(\u001b[0m\u001b[0mknn\u001b[0m\u001b[0;34m,\u001b[0m \u001b[0mreduced_data\u001b[0m\u001b[0;34m,\u001b[0m \u001b[0mtarget_values\u001b[0m\u001b[0;34m,\u001b[0m \u001b[0mcv\u001b[0m\u001b[0;34m=\u001b[0m\u001b[0;36m10\u001b[0m\u001b[0;34m,\u001b[0m \u001b[0mscoring\u001b[0m\u001b[0;34m=\u001b[0m\u001b[0;34m'neg_mean_squared_error'\u001b[0m\u001b[0;34m)\u001b[0m\u001b[0;34m\u001b[0m\u001b[0m\n\u001b[0m\u001b[1;32m     10\u001b[0m         \u001b[0mKNN_cv_scores\u001b[0m\u001b[0;34m[\u001b[0m\u001b[0mi\u001b[0m\u001b[0;34m]\u001b[0m\u001b[0;34m[\u001b[0m\u001b[0mj\u001b[0m\u001b[0;34m]\u001b[0m \u001b[0;34m=\u001b[0m \u001b[0mscores\u001b[0m\u001b[0;34m.\u001b[0m\u001b[0mmean\u001b[0m\u001b[0;34m(\u001b[0m\u001b[0;34m)\u001b[0m\u001b[0;34m\u001b[0m\u001b[0m\n",
      "\u001b[0;32m/home/emiliano/anaconda2/lib/python2.7/site-packages/sklearn/model_selection/_validation.pyc\u001b[0m in \u001b[0;36mcross_val_score\u001b[0;34m(estimator, X, y, groups, scoring, cv, n_jobs, verbose, fit_params, pre_dispatch)\u001b[0m\n\u001b[1;32m    138\u001b[0m                                               \u001b[0mtrain\u001b[0m\u001b[0;34m,\u001b[0m \u001b[0mtest\u001b[0m\u001b[0;34m,\u001b[0m \u001b[0mverbose\u001b[0m\u001b[0;34m,\u001b[0m \u001b[0mNone\u001b[0m\u001b[0;34m,\u001b[0m\u001b[0;34m\u001b[0m\u001b[0m\n\u001b[1;32m    139\u001b[0m                                               fit_params)\n\u001b[0;32m--> 140\u001b[0;31m                       for train, test in cv_iter)\n\u001b[0m\u001b[1;32m    141\u001b[0m     \u001b[0;32mreturn\u001b[0m \u001b[0mnp\u001b[0m\u001b[0;34m.\u001b[0m\u001b[0marray\u001b[0m\u001b[0;34m(\u001b[0m\u001b[0mscores\u001b[0m\u001b[0;34m)\u001b[0m\u001b[0;34m[\u001b[0m\u001b[0;34m:\u001b[0m\u001b[0;34m,\u001b[0m \u001b[0;36m0\u001b[0m\u001b[0;34m]\u001b[0m\u001b[0;34m\u001b[0m\u001b[0m\n\u001b[1;32m    142\u001b[0m \u001b[0;34m\u001b[0m\u001b[0m\n",
      "\u001b[0;32m/home/emiliano/anaconda2/lib/python2.7/site-packages/sklearn/externals/joblib/parallel.pyc\u001b[0m in \u001b[0;36m__call__\u001b[0;34m(self, iterable)\u001b[0m\n\u001b[1;32m    756\u001b[0m             \u001b[0;31m# was dispatched. In particular this covers the edge\u001b[0m\u001b[0;34m\u001b[0m\u001b[0;34m\u001b[0m\u001b[0m\n\u001b[1;32m    757\u001b[0m             \u001b[0;31m# case of Parallel used with an exhausted iterator.\u001b[0m\u001b[0;34m\u001b[0m\u001b[0;34m\u001b[0m\u001b[0m\n\u001b[0;32m--> 758\u001b[0;31m             \u001b[0;32mwhile\u001b[0m \u001b[0mself\u001b[0m\u001b[0;34m.\u001b[0m\u001b[0mdispatch_one_batch\u001b[0m\u001b[0;34m(\u001b[0m\u001b[0miterator\u001b[0m\u001b[0;34m)\u001b[0m\u001b[0;34m:\u001b[0m\u001b[0;34m\u001b[0m\u001b[0m\n\u001b[0m\u001b[1;32m    759\u001b[0m                 \u001b[0mself\u001b[0m\u001b[0;34m.\u001b[0m\u001b[0m_iterating\u001b[0m \u001b[0;34m=\u001b[0m \u001b[0mTrue\u001b[0m\u001b[0;34m\u001b[0m\u001b[0m\n\u001b[1;32m    760\u001b[0m             \u001b[0;32melse\u001b[0m\u001b[0;34m:\u001b[0m\u001b[0;34m\u001b[0m\u001b[0m\n",
      "\u001b[0;32m/home/emiliano/anaconda2/lib/python2.7/site-packages/sklearn/externals/joblib/parallel.pyc\u001b[0m in \u001b[0;36mdispatch_one_batch\u001b[0;34m(self, iterator)\u001b[0m\n\u001b[1;32m    606\u001b[0m                 \u001b[0;32mreturn\u001b[0m \u001b[0mFalse\u001b[0m\u001b[0;34m\u001b[0m\u001b[0m\n\u001b[1;32m    607\u001b[0m             \u001b[0;32melse\u001b[0m\u001b[0;34m:\u001b[0m\u001b[0;34m\u001b[0m\u001b[0m\n\u001b[0;32m--> 608\u001b[0;31m                 \u001b[0mself\u001b[0m\u001b[0;34m.\u001b[0m\u001b[0m_dispatch\u001b[0m\u001b[0;34m(\u001b[0m\u001b[0mtasks\u001b[0m\u001b[0;34m)\u001b[0m\u001b[0;34m\u001b[0m\u001b[0m\n\u001b[0m\u001b[1;32m    609\u001b[0m                 \u001b[0;32mreturn\u001b[0m \u001b[0mTrue\u001b[0m\u001b[0;34m\u001b[0m\u001b[0m\n\u001b[1;32m    610\u001b[0m \u001b[0;34m\u001b[0m\u001b[0m\n",
      "\u001b[0;32m/home/emiliano/anaconda2/lib/python2.7/site-packages/sklearn/externals/joblib/parallel.pyc\u001b[0m in \u001b[0;36m_dispatch\u001b[0;34m(self, batch)\u001b[0m\n\u001b[1;32m    569\u001b[0m         \u001b[0mdispatch_timestamp\u001b[0m \u001b[0;34m=\u001b[0m \u001b[0mtime\u001b[0m\u001b[0;34m.\u001b[0m\u001b[0mtime\u001b[0m\u001b[0;34m(\u001b[0m\u001b[0;34m)\u001b[0m\u001b[0;34m\u001b[0m\u001b[0m\n\u001b[1;32m    570\u001b[0m         \u001b[0mcb\u001b[0m \u001b[0;34m=\u001b[0m \u001b[0mBatchCompletionCallBack\u001b[0m\u001b[0;34m(\u001b[0m\u001b[0mdispatch_timestamp\u001b[0m\u001b[0;34m,\u001b[0m \u001b[0mlen\u001b[0m\u001b[0;34m(\u001b[0m\u001b[0mbatch\u001b[0m\u001b[0;34m)\u001b[0m\u001b[0;34m,\u001b[0m \u001b[0mself\u001b[0m\u001b[0;34m)\u001b[0m\u001b[0;34m\u001b[0m\u001b[0m\n\u001b[0;32m--> 571\u001b[0;31m         \u001b[0mjob\u001b[0m \u001b[0;34m=\u001b[0m \u001b[0mself\u001b[0m\u001b[0;34m.\u001b[0m\u001b[0m_backend\u001b[0m\u001b[0;34m.\u001b[0m\u001b[0mapply_async\u001b[0m\u001b[0;34m(\u001b[0m\u001b[0mbatch\u001b[0m\u001b[0;34m,\u001b[0m \u001b[0mcallback\u001b[0m\u001b[0;34m=\u001b[0m\u001b[0mcb\u001b[0m\u001b[0;34m)\u001b[0m\u001b[0;34m\u001b[0m\u001b[0m\n\u001b[0m\u001b[1;32m    572\u001b[0m         \u001b[0mself\u001b[0m\u001b[0;34m.\u001b[0m\u001b[0m_jobs\u001b[0m\u001b[0;34m.\u001b[0m\u001b[0mappend\u001b[0m\u001b[0;34m(\u001b[0m\u001b[0mjob\u001b[0m\u001b[0;34m)\u001b[0m\u001b[0;34m\u001b[0m\u001b[0m\n\u001b[1;32m    573\u001b[0m \u001b[0;34m\u001b[0m\u001b[0m\n",
      "\u001b[0;32m/home/emiliano/anaconda2/lib/python2.7/site-packages/sklearn/externals/joblib/_parallel_backends.pyc\u001b[0m in \u001b[0;36mapply_async\u001b[0;34m(self, func, callback)\u001b[0m\n\u001b[1;32m    107\u001b[0m     \u001b[0;32mdef\u001b[0m \u001b[0mapply_async\u001b[0m\u001b[0;34m(\u001b[0m\u001b[0mself\u001b[0m\u001b[0;34m,\u001b[0m \u001b[0mfunc\u001b[0m\u001b[0;34m,\u001b[0m \u001b[0mcallback\u001b[0m\u001b[0;34m=\u001b[0m\u001b[0mNone\u001b[0m\u001b[0;34m)\u001b[0m\u001b[0;34m:\u001b[0m\u001b[0;34m\u001b[0m\u001b[0m\n\u001b[1;32m    108\u001b[0m         \u001b[0;34m\"\"\"Schedule a func to be run\"\"\"\u001b[0m\u001b[0;34m\u001b[0m\u001b[0m\n\u001b[0;32m--> 109\u001b[0;31m         \u001b[0mresult\u001b[0m \u001b[0;34m=\u001b[0m \u001b[0mImmediateResult\u001b[0m\u001b[0;34m(\u001b[0m\u001b[0mfunc\u001b[0m\u001b[0;34m)\u001b[0m\u001b[0;34m\u001b[0m\u001b[0m\n\u001b[0m\u001b[1;32m    110\u001b[0m         \u001b[0;32mif\u001b[0m \u001b[0mcallback\u001b[0m\u001b[0;34m:\u001b[0m\u001b[0;34m\u001b[0m\u001b[0m\n\u001b[1;32m    111\u001b[0m             \u001b[0mcallback\u001b[0m\u001b[0;34m(\u001b[0m\u001b[0mresult\u001b[0m\u001b[0;34m)\u001b[0m\u001b[0;34m\u001b[0m\u001b[0m\n",
      "\u001b[0;32m/home/emiliano/anaconda2/lib/python2.7/site-packages/sklearn/externals/joblib/_parallel_backends.pyc\u001b[0m in \u001b[0;36m__init__\u001b[0;34m(self, batch)\u001b[0m\n\u001b[1;32m    324\u001b[0m         \u001b[0;31m# Don't delay the application, to avoid keeping the input\u001b[0m\u001b[0;34m\u001b[0m\u001b[0;34m\u001b[0m\u001b[0m\n\u001b[1;32m    325\u001b[0m         \u001b[0;31m# arguments in memory\u001b[0m\u001b[0;34m\u001b[0m\u001b[0;34m\u001b[0m\u001b[0m\n\u001b[0;32m--> 326\u001b[0;31m         \u001b[0mself\u001b[0m\u001b[0;34m.\u001b[0m\u001b[0mresults\u001b[0m \u001b[0;34m=\u001b[0m \u001b[0mbatch\u001b[0m\u001b[0;34m(\u001b[0m\u001b[0;34m)\u001b[0m\u001b[0;34m\u001b[0m\u001b[0m\n\u001b[0m\u001b[1;32m    327\u001b[0m \u001b[0;34m\u001b[0m\u001b[0m\n\u001b[1;32m    328\u001b[0m     \u001b[0;32mdef\u001b[0m \u001b[0mget\u001b[0m\u001b[0;34m(\u001b[0m\u001b[0mself\u001b[0m\u001b[0;34m)\u001b[0m\u001b[0;34m:\u001b[0m\u001b[0;34m\u001b[0m\u001b[0m\n",
      "\u001b[0;32m/home/emiliano/anaconda2/lib/python2.7/site-packages/sklearn/externals/joblib/parallel.pyc\u001b[0m in \u001b[0;36m__call__\u001b[0;34m(self)\u001b[0m\n\u001b[1;32m    129\u001b[0m \u001b[0;34m\u001b[0m\u001b[0m\n\u001b[1;32m    130\u001b[0m     \u001b[0;32mdef\u001b[0m \u001b[0m__call__\u001b[0m\u001b[0;34m(\u001b[0m\u001b[0mself\u001b[0m\u001b[0;34m)\u001b[0m\u001b[0;34m:\u001b[0m\u001b[0;34m\u001b[0m\u001b[0m\n\u001b[0;32m--> 131\u001b[0;31m         \u001b[0;32mreturn\u001b[0m \u001b[0;34m[\u001b[0m\u001b[0mfunc\u001b[0m\u001b[0;34m(\u001b[0m\u001b[0;34m*\u001b[0m\u001b[0margs\u001b[0m\u001b[0;34m,\u001b[0m \u001b[0;34m**\u001b[0m\u001b[0mkwargs\u001b[0m\u001b[0;34m)\u001b[0m \u001b[0;32mfor\u001b[0m \u001b[0mfunc\u001b[0m\u001b[0;34m,\u001b[0m \u001b[0margs\u001b[0m\u001b[0;34m,\u001b[0m \u001b[0mkwargs\u001b[0m \u001b[0;32min\u001b[0m \u001b[0mself\u001b[0m\u001b[0;34m.\u001b[0m\u001b[0mitems\u001b[0m\u001b[0;34m]\u001b[0m\u001b[0;34m\u001b[0m\u001b[0m\n\u001b[0m\u001b[1;32m    132\u001b[0m \u001b[0;34m\u001b[0m\u001b[0m\n\u001b[1;32m    133\u001b[0m     \u001b[0;32mdef\u001b[0m \u001b[0m__len__\u001b[0m\u001b[0;34m(\u001b[0m\u001b[0mself\u001b[0m\u001b[0;34m)\u001b[0m\u001b[0;34m:\u001b[0m\u001b[0;34m\u001b[0m\u001b[0m\n",
      "\u001b[0;32m/home/emiliano/anaconda2/lib/python2.7/site-packages/sklearn/model_selection/_validation.pyc\u001b[0m in \u001b[0;36m_fit_and_score\u001b[0;34m(estimator, X, y, scorer, train, test, verbose, parameters, fit_params, return_train_score, return_parameters, return_n_test_samples, return_times, error_score)\u001b[0m\n\u001b[1;32m    258\u001b[0m     \u001b[0;32melse\u001b[0m\u001b[0;34m:\u001b[0m\u001b[0;34m\u001b[0m\u001b[0m\n\u001b[1;32m    259\u001b[0m         \u001b[0mfit_time\u001b[0m \u001b[0;34m=\u001b[0m \u001b[0mtime\u001b[0m\u001b[0;34m.\u001b[0m\u001b[0mtime\u001b[0m\u001b[0;34m(\u001b[0m\u001b[0;34m)\u001b[0m \u001b[0;34m-\u001b[0m \u001b[0mstart_time\u001b[0m\u001b[0;34m\u001b[0m\u001b[0m\n\u001b[0;32m--> 260\u001b[0;31m         \u001b[0mtest_score\u001b[0m \u001b[0;34m=\u001b[0m \u001b[0m_score\u001b[0m\u001b[0;34m(\u001b[0m\u001b[0mestimator\u001b[0m\u001b[0;34m,\u001b[0m \u001b[0mX_test\u001b[0m\u001b[0;34m,\u001b[0m \u001b[0my_test\u001b[0m\u001b[0;34m,\u001b[0m \u001b[0mscorer\u001b[0m\u001b[0;34m)\u001b[0m\u001b[0;34m\u001b[0m\u001b[0m\n\u001b[0m\u001b[1;32m    261\u001b[0m         \u001b[0mscore_time\u001b[0m \u001b[0;34m=\u001b[0m \u001b[0mtime\u001b[0m\u001b[0;34m.\u001b[0m\u001b[0mtime\u001b[0m\u001b[0;34m(\u001b[0m\u001b[0;34m)\u001b[0m \u001b[0;34m-\u001b[0m \u001b[0mstart_time\u001b[0m \u001b[0;34m-\u001b[0m \u001b[0mfit_time\u001b[0m\u001b[0;34m\u001b[0m\u001b[0m\n\u001b[1;32m    262\u001b[0m         \u001b[0;32mif\u001b[0m \u001b[0mreturn_train_score\u001b[0m\u001b[0;34m:\u001b[0m\u001b[0;34m\u001b[0m\u001b[0m\n",
      "\u001b[0;32m/home/emiliano/anaconda2/lib/python2.7/site-packages/sklearn/model_selection/_validation.pyc\u001b[0m in \u001b[0;36m_score\u001b[0;34m(estimator, X_test, y_test, scorer)\u001b[0m\n\u001b[1;32m    286\u001b[0m         \u001b[0mscore\u001b[0m \u001b[0;34m=\u001b[0m \u001b[0mscorer\u001b[0m\u001b[0;34m(\u001b[0m\u001b[0mestimator\u001b[0m\u001b[0;34m,\u001b[0m \u001b[0mX_test\u001b[0m\u001b[0;34m)\u001b[0m\u001b[0;34m\u001b[0m\u001b[0m\n\u001b[1;32m    287\u001b[0m     \u001b[0;32melse\u001b[0m\u001b[0;34m:\u001b[0m\u001b[0;34m\u001b[0m\u001b[0m\n\u001b[0;32m--> 288\u001b[0;31m         \u001b[0mscore\u001b[0m \u001b[0;34m=\u001b[0m \u001b[0mscorer\u001b[0m\u001b[0;34m(\u001b[0m\u001b[0mestimator\u001b[0m\u001b[0;34m,\u001b[0m \u001b[0mX_test\u001b[0m\u001b[0;34m,\u001b[0m \u001b[0my_test\u001b[0m\u001b[0;34m)\u001b[0m\u001b[0;34m\u001b[0m\u001b[0m\n\u001b[0m\u001b[1;32m    289\u001b[0m     \u001b[0;32mif\u001b[0m \u001b[0mhasattr\u001b[0m\u001b[0;34m(\u001b[0m\u001b[0mscore\u001b[0m\u001b[0;34m,\u001b[0m \u001b[0;34m'item'\u001b[0m\u001b[0;34m)\u001b[0m\u001b[0;34m:\u001b[0m\u001b[0;34m\u001b[0m\u001b[0m\n\u001b[1;32m    290\u001b[0m         \u001b[0;32mtry\u001b[0m\u001b[0;34m:\u001b[0m\u001b[0;34m\u001b[0m\u001b[0m\n",
      "\u001b[0;32m/home/emiliano/anaconda2/lib/python2.7/site-packages/sklearn/metrics/scorer.pyc\u001b[0m in \u001b[0;36m__call__\u001b[0;34m(self, estimator, X, y_true, sample_weight)\u001b[0m\n\u001b[1;32m     89\u001b[0m         super(_PredictScorer, self).__call__(estimator, X, y_true,\n\u001b[1;32m     90\u001b[0m                                              sample_weight=sample_weight)\n\u001b[0;32m---> 91\u001b[0;31m         \u001b[0my_pred\u001b[0m \u001b[0;34m=\u001b[0m \u001b[0mestimator\u001b[0m\u001b[0;34m.\u001b[0m\u001b[0mpredict\u001b[0m\u001b[0;34m(\u001b[0m\u001b[0mX\u001b[0m\u001b[0;34m)\u001b[0m\u001b[0;34m\u001b[0m\u001b[0m\n\u001b[0m\u001b[1;32m     92\u001b[0m         \u001b[0;32mif\u001b[0m \u001b[0msample_weight\u001b[0m \u001b[0;32mis\u001b[0m \u001b[0;32mnot\u001b[0m \u001b[0mNone\u001b[0m\u001b[0;34m:\u001b[0m\u001b[0;34m\u001b[0m\u001b[0m\n\u001b[1;32m     93\u001b[0m             return self._sign * self._score_func(y_true, y_pred,\n",
      "\u001b[0;32m/home/emiliano/anaconda2/lib/python2.7/site-packages/sklearn/neighbors/regression.pyc\u001b[0m in \u001b[0;36mpredict\u001b[0;34m(self, X)\u001b[0m\n\u001b[1;32m    142\u001b[0m         \u001b[0mX\u001b[0m \u001b[0;34m=\u001b[0m \u001b[0mcheck_array\u001b[0m\u001b[0;34m(\u001b[0m\u001b[0mX\u001b[0m\u001b[0;34m,\u001b[0m \u001b[0maccept_sparse\u001b[0m\u001b[0;34m=\u001b[0m\u001b[0;34m'csr'\u001b[0m\u001b[0;34m)\u001b[0m\u001b[0;34m\u001b[0m\u001b[0m\n\u001b[1;32m    143\u001b[0m \u001b[0;34m\u001b[0m\u001b[0m\n\u001b[0;32m--> 144\u001b[0;31m         \u001b[0mneigh_dist\u001b[0m\u001b[0;34m,\u001b[0m \u001b[0mneigh_ind\u001b[0m \u001b[0;34m=\u001b[0m \u001b[0mself\u001b[0m\u001b[0;34m.\u001b[0m\u001b[0mkneighbors\u001b[0m\u001b[0;34m(\u001b[0m\u001b[0mX\u001b[0m\u001b[0;34m)\u001b[0m\u001b[0;34m\u001b[0m\u001b[0m\n\u001b[0m\u001b[1;32m    145\u001b[0m \u001b[0;34m\u001b[0m\u001b[0m\n\u001b[1;32m    146\u001b[0m         \u001b[0mweights\u001b[0m \u001b[0;34m=\u001b[0m \u001b[0m_get_weights\u001b[0m\u001b[0;34m(\u001b[0m\u001b[0mneigh_dist\u001b[0m\u001b[0;34m,\u001b[0m \u001b[0mself\u001b[0m\u001b[0;34m.\u001b[0m\u001b[0mweights\u001b[0m\u001b[0;34m)\u001b[0m\u001b[0;34m\u001b[0m\u001b[0m\n",
      "\u001b[0;32m/home/emiliano/anaconda2/lib/python2.7/site-packages/sklearn/neighbors/base.pyc\u001b[0m in \u001b[0;36mkneighbors\u001b[0;34m(self, X, n_neighbors, return_distance)\u001b[0m\n\u001b[1;32m    379\u001b[0m                 delayed(self._tree.query, check_pickle=False)(\n\u001b[1;32m    380\u001b[0m                     X[s], n_neighbors, return_distance)\n\u001b[0;32m--> 381\u001b[0;31m                 \u001b[0;32mfor\u001b[0m \u001b[0ms\u001b[0m \u001b[0;32min\u001b[0m \u001b[0mgen_even_slices\u001b[0m\u001b[0;34m(\u001b[0m\u001b[0mX\u001b[0m\u001b[0;34m.\u001b[0m\u001b[0mshape\u001b[0m\u001b[0;34m[\u001b[0m\u001b[0;36m0\u001b[0m\u001b[0;34m]\u001b[0m\u001b[0;34m,\u001b[0m \u001b[0mn_jobs\u001b[0m\u001b[0;34m)\u001b[0m\u001b[0;34m\u001b[0m\u001b[0m\n\u001b[0m\u001b[1;32m    382\u001b[0m             )\n\u001b[1;32m    383\u001b[0m             \u001b[0;32mif\u001b[0m \u001b[0mreturn_distance\u001b[0m\u001b[0;34m:\u001b[0m\u001b[0;34m\u001b[0m\u001b[0m\n",
      "\u001b[0;32m/home/emiliano/anaconda2/lib/python2.7/site-packages/sklearn/externals/joblib/parallel.pyc\u001b[0m in \u001b[0;36m__call__\u001b[0;34m(self, iterable)\u001b[0m\n\u001b[1;32m    766\u001b[0m                 \u001b[0;31m# consumption.\u001b[0m\u001b[0;34m\u001b[0m\u001b[0;34m\u001b[0m\u001b[0m\n\u001b[1;32m    767\u001b[0m                 \u001b[0mself\u001b[0m\u001b[0;34m.\u001b[0m\u001b[0m_iterating\u001b[0m \u001b[0;34m=\u001b[0m \u001b[0mFalse\u001b[0m\u001b[0;34m\u001b[0m\u001b[0m\n\u001b[0;32m--> 768\u001b[0;31m             \u001b[0mself\u001b[0m\u001b[0;34m.\u001b[0m\u001b[0mretrieve\u001b[0m\u001b[0;34m(\u001b[0m\u001b[0;34m)\u001b[0m\u001b[0;34m\u001b[0m\u001b[0m\n\u001b[0m\u001b[1;32m    769\u001b[0m             \u001b[0;31m# Make sure that we get a last message telling us we are done\u001b[0m\u001b[0;34m\u001b[0m\u001b[0;34m\u001b[0m\u001b[0m\n\u001b[1;32m    770\u001b[0m             \u001b[0melapsed_time\u001b[0m \u001b[0;34m=\u001b[0m \u001b[0mtime\u001b[0m\u001b[0;34m.\u001b[0m\u001b[0mtime\u001b[0m\u001b[0;34m(\u001b[0m\u001b[0;34m)\u001b[0m \u001b[0;34m-\u001b[0m \u001b[0mself\u001b[0m\u001b[0;34m.\u001b[0m\u001b[0m_start_time\u001b[0m\u001b[0;34m\u001b[0m\u001b[0m\n",
      "\u001b[0;32m/home/emiliano/anaconda2/lib/python2.7/site-packages/sklearn/externals/joblib/parallel.pyc\u001b[0m in \u001b[0;36mretrieve\u001b[0;34m(self)\u001b[0m\n\u001b[1;32m    717\u001b[0m                     \u001b[0mensure_ready\u001b[0m \u001b[0;34m=\u001b[0m \u001b[0mself\u001b[0m\u001b[0;34m.\u001b[0m\u001b[0m_managed_backend\u001b[0m\u001b[0;34m\u001b[0m\u001b[0m\n\u001b[1;32m    718\u001b[0m                     \u001b[0mbackend\u001b[0m\u001b[0;34m.\u001b[0m\u001b[0mabort_everything\u001b[0m\u001b[0;34m(\u001b[0m\u001b[0mensure_ready\u001b[0m\u001b[0;34m=\u001b[0m\u001b[0mensure_ready\u001b[0m\u001b[0;34m)\u001b[0m\u001b[0;34m\u001b[0m\u001b[0m\n\u001b[0;32m--> 719\u001b[0;31m                 \u001b[0;32mraise\u001b[0m \u001b[0mexception\u001b[0m\u001b[0;34m\u001b[0m\u001b[0m\n\u001b[0m\u001b[1;32m    720\u001b[0m \u001b[0;34m\u001b[0m\u001b[0m\n\u001b[1;32m    721\u001b[0m     \u001b[0;32mdef\u001b[0m \u001b[0m__call__\u001b[0m\u001b[0;34m(\u001b[0m\u001b[0mself\u001b[0m\u001b[0;34m,\u001b[0m \u001b[0miterable\u001b[0m\u001b[0;34m)\u001b[0m\u001b[0;34m:\u001b[0m\u001b[0;34m\u001b[0m\u001b[0m\n",
      "\u001b[0;31mKeyboardInterrupt\u001b[0m: "
     ]
    }
   ],
   "source": [
    "k_neighbors = np.array(range(10,1001,10))\n",
    "metrics = ['euclidean', 'manhattan']\n",
    "KNN_cv_scores = np.zeros(shape=(len(k_neighbors),len(metrics)))\n",
    "\n",
    "for i,k in enumerate(k_neighbors):\n",
    "    for j,metric in enumerate(metrics):\n",
    "        \n",
    "        knn = neighbors.KNeighborsRegressor(n_neighbors=k, metric=metric, weights = 'distance',n_jobs=-1)\n",
    "        scores = cross_val_score(knn, reduced_data, target_values, cv=10, scoring='neg_mean_squared_error')\n",
    "        KNN_cv_scores[i][j] = scores.mean()"
   ]
  },
  {
   "cell_type": "code",
   "execution_count": 33,
   "metadata": {
    "collapsed": false,
    "deletable": true,
    "editable": true
   },
   "outputs": [
    {
     "data": {
      "text/plain": [
       "array([[-6134361.15, -6079000.66],\n",
       "       [-5351858.19, -5360234.74],\n",
       "       [-5096953.65, -5095805.17],\n",
       "       [-4982807.73, -4969350.65],\n",
       "       [-4907901.23, -4890164.21],\n",
       "       [-4852908.1 , -4834866.28],\n",
       "       [-4817307.43, -4797754.1 ],\n",
       "       [-4790579.12, -4769114.32],\n",
       "       [-4767948.63, -4745718.41],\n",
       "       [-4751342.63, -4727356.28],\n",
       "       [-4739709.84, -4711076.88],\n",
       "       [-4726830.06, -4696665.8 ],\n",
       "       [-4715715.18, -4687716.97],\n",
       "       [-4706229.36, -4678451.76],\n",
       "       [-4697689.8 , -4670741.08],\n",
       "       [-4691308.05, -4665357.65],\n",
       "       [-4684562.35, -4659308.18],\n",
       "       [-4677509.1 , -4653394.41],\n",
       "       [-4672237.78, -4648805.1 ],\n",
       "       [-4667755.94, -4644264.32],\n",
       "       [-4662907.25, -4640719.22],\n",
       "       [-4658321.77, -4637249.78],\n",
       "       [-4654066.51, -4632933.27],\n",
       "       [-4650221.86, -4629486.34],\n",
       "       [-4646538.86, -4627016.1 ],\n",
       "       [-4642953.85, -4623886.01],\n",
       "       [-4639515.33, -4621242.79],\n",
       "       [-4636040.7 , -4618465.53],\n",
       "       [-4632803.81, -4615791.91],\n",
       "       [-4629935.04, -4613384.22],\n",
       "       [-4626602.03, -4611437.69],\n",
       "       [-4623721.83, -4608700.33],\n",
       "       [-4620566.86, -4606371.71],\n",
       "       [-4617386.36, -4604447.74],\n",
       "       [-4614419.37, -4603139.35],\n",
       "       [-4611734.2 , -4601562.83],\n",
       "       [-4609026.51, -4600178.79],\n",
       "       [-4607345.74, -4598160.78],\n",
       "       [-4605116.73, -4596688.19],\n",
       "       [-4603376.65, -4595194.93],\n",
       "       [-4601587.53, -4593121.06],\n",
       "       [-4600001.43, -4591552.04],\n",
       "       [-4598164.87, -4589910.62],\n",
       "       [-4596167.67, -4588453.26],\n",
       "       [-4594644.11, -4587628.87],\n",
       "       [-4593058.82, -4586432.97],\n",
       "       [-4591440.79, -4585359.34],\n",
       "       [-4590444.87, -4584486.15],\n",
       "       [-4588931.37, -4583458.19],\n",
       "       [-4587514.33, -4582651.52],\n",
       "       [-4585932.58, -4581528.13],\n",
       "       [-4584639.75, -4580836.93],\n",
       "       [-4583219.7 , -4579824.95],\n",
       "       [-4582349.66, -4579051.76],\n",
       "       [-4581703.28, -4578455.81],\n",
       "       [-4580664.6 , -4577890.98],\n",
       "       [-4579859.66, -4577140.71],\n",
       "       [-4578952.79, -4576545.1 ],\n",
       "       [-4578190.6 , -4576011.88],\n",
       "       [-4577508.68, -4575313.46],\n",
       "       [-4576812.1 , -4574810.81],\n",
       "       [-4576117.07, -4574246.79],\n",
       "       [-4575456.42, -4573528.77],\n",
       "       [-4575079.77, -4572995.22],\n",
       "       [-4574456.42, -4572555.19],\n",
       "       [-4573733.31, -4572173.41],\n",
       "       [-4572835.86, -4571679.54],\n",
       "       [-4571944.24, -4571347.05],\n",
       "       [-4571243.67, -4570827.76],\n",
       "       [-4570673.91, -4570314.32],\n",
       "       [-4570125.56, -4569726.02],\n",
       "       [-4569402.35, -4569275.26],\n",
       "       [-4568853.66, -4568817.24],\n",
       "       [-4568299.57, -4568358.15],\n",
       "       [-4567749.82, -4567980.21],\n",
       "       [-4567306.32, -4567479.81],\n",
       "       [-4566973.99, -4567107.05],\n",
       "       [-4566390.23, -4566979.09],\n",
       "       [-4566209.39, -4566688.21],\n",
       "       [-4565677.62,        0.  ],\n",
       "       [       0.  ,        0.  ],\n",
       "       [       0.  ,        0.  ],\n",
       "       [       0.  ,        0.  ],\n",
       "       [       0.  ,        0.  ],\n",
       "       [       0.  ,        0.  ],\n",
       "       [       0.  ,        0.  ],\n",
       "       [       0.  ,        0.  ],\n",
       "       [       0.  ,        0.  ],\n",
       "       [       0.  ,        0.  ],\n",
       "       [       0.  ,        0.  ],\n",
       "       [       0.  ,        0.  ],\n",
       "       [       0.  ,        0.  ],\n",
       "       [       0.  ,        0.  ],\n",
       "       [       0.  ,        0.  ],\n",
       "       [       0.  ,        0.  ],\n",
       "       [       0.  ,        0.  ],\n",
       "       [       0.  ,        0.  ],\n",
       "       [       0.  ,        0.  ],\n",
       "       [       0.  ,        0.  ],\n",
       "       [       0.  ,        0.  ]])"
      ]
     },
     "execution_count": 33,
     "metadata": {},
     "output_type": "execute_result"
    }
   ],
   "source": [
    "KNN_cv_scores.round(2)"
   ]
  },
  {
   "cell_type": "code",
   "execution_count": 40,
   "metadata": {
    "collapsed": false,
    "scrolled": true
   },
   "outputs": [
    {
     "data": {
      "text/plain": [
       "-4565677.6200000001"
      ]
     },
     "execution_count": 40,
     "metadata": {},
     "output_type": "execute_result"
    }
   ],
   "source": [
    "KNN_cv_scores = np.array([[-6134361.15, -6079000.66],\n",
    "\t\t\t\t\t  [-5351858.19, -5360234.74],\n",
    "\t\t\t\t\t  [-5096953.65, -5095805.17],\n",
    "\t\t\t\t\t  [-4982807.73, -4969350.65],\n",
    "\t\t\t\t\t  [-4907901.23, -4890164.21],\n",
    "\t\t\t\t\t  [-4852908.1 , -4834866.28],\n",
    "\t\t\t\t\t  [-4817307.43, -4797754.1 ],\n",
    "\t\t\t\t\t  [-4790579.12, -4769114.32],\n",
    "\t\t\t\t\t  [-4767948.63, -4745718.41],\n",
    "\t\t\t\t\t  [-4751342.63, -4727356.28],\n",
    "\t\t\t\t\t  [-4739709.84, -4711076.88],\n",
    "\t\t\t\t\t  [-4726830.06, -4696665.8 ],\n",
    "\t\t\t\t\t  [-4715715.18, -4687716.97],\n",
    "\t\t\t\t\t  [-4706229.36, -4678451.76],\n",
    "\t\t\t\t\t  [-4697689.8 , -4670741.08],\n",
    "\t\t\t\t\t  [-4691308.05, -4665357.65],\n",
    "\t\t\t\t\t  [-4684562.35, -4659308.18],\n",
    "\t\t\t\t\t  [-4677509.1 , -4653394.41],\n",
    "\t\t\t\t\t  [-4672237.78, -4648805.1 ],\n",
    "\t\t\t\t\t  [-4667755.94, -4644264.32],\n",
    "\t\t\t\t\t  [-4662907.25, -4640719.22],\n",
    "\t\t\t\t\t  [-4658321.77, -4637249.78],\n",
    "\t\t\t\t\t  [-4654066.51, -4632933.27],\n",
    "\t\t\t\t\t  [-4650221.86, -4629486.34],\n",
    "\t\t\t\t\t  [-4646538.86, -4627016.1 ],\n",
    "\t\t\t\t\t  [-4642953.85, -4623886.01],\n",
    "\t\t\t\t\t  [-4639515.33, -4621242.79],\n",
    "\t\t\t\t\t  [-4636040.7 , -4618465.53],\n",
    "\t\t\t\t\t  [-4632803.81, -4615791.91],\n",
    "\t\t\t\t\t  [-4629935.04, -4613384.22],\n",
    "\t\t\t\t\t  [-4626602.03, -4611437.69],\n",
    "\t\t\t\t\t  [-4623721.83, -4608700.33],\n",
    "\t\t\t\t\t  [-4620566.86, -4606371.71],\n",
    "\t\t\t\t\t  [-4617386.36, -4604447.74],\n",
    "\t\t\t\t\t  [-4614419.37, -4603139.35],\n",
    "\t\t\t\t\t  [-4611734.2 , -4601562.83],\n",
    "\t\t\t\t\t  [-4609026.51, -4600178.79],\n",
    "\t\t\t\t\t  [-4607345.74, -4598160.78],\n",
    "\t\t\t\t\t  [-4605116.73, -4596688.19],\n",
    "\t\t\t\t\t  [-4603376.65, -4595194.93],\n",
    "\t\t\t\t\t  [-4601587.53, -4593121.06],\n",
    "\t\t\t\t\t  [-4600001.43, -4591552.04],\n",
    "\t\t\t\t\t  [-4598164.87, -4589910.62],\n",
    "\t\t\t\t\t  [-4596167.67, -4588453.26],\n",
    "\t\t\t\t\t  [-4594644.11, -4587628.87],\n",
    "\t\t\t\t\t  [-4593058.82, -4586432.97],\n",
    "\t\t\t\t\t  [-4591440.79, -4585359.34],\n",
    "\t\t\t\t\t  [-4590444.87, -4584486.15],\n",
    "\t\t\t\t\t  [-4588931.37, -4583458.19],\n",
    "\t\t\t\t\t  [-4587514.33, -4582651.52],\n",
    "\t\t\t\t\t  [-4585932.58, -4581528.13],\n",
    "\t\t\t\t\t  [-4584639.75, -4580836.93],\n",
    "\t\t\t\t\t  [-4583219.7 , -4579824.95],\n",
    "\t\t\t\t\t  [-4582349.66, -4579051.76],\n",
    "\t\t\t\t\t  [-4581703.28, -4578455.81],\n",
    "\t\t\t\t\t  [-4580664.6 , -4577890.98],\n",
    "\t\t\t\t\t  [-4579859.66, -4577140.71],\n",
    "\t\t\t\t\t  [-4578952.79, -4576545.1 ],\n",
    "\t\t\t\t\t  [-4578190.6 , -4576011.88],\n",
    "\t\t\t\t\t  [-4577508.68, -4575313.46],\n",
    "\t\t\t\t\t  [-4576812.1 , -4574810.81],\n",
    "\t\t\t\t\t  [-4576117.07, -4574246.79],\n",
    "\t\t\t\t\t  [-4575456.42, -4573528.77],\n",
    "\t\t\t\t\t  [-4575079.77, -4572995.22],\n",
    "\t\t\t\t\t  [-4574456.42, -4572555.19],\n",
    "\t\t\t\t\t  [-4573733.31, -4572173.41],\n",
    "\t\t\t\t\t  [-4572835.86, -4571679.54],\n",
    "\t\t\t\t\t  [-4571944.24, -4571347.05],\n",
    "\t\t\t\t\t  [-4571243.67, -4570827.76],\n",
    "\t\t\t\t\t  [-4570673.91, -4570314.32],\n",
    "\t\t\t\t\t  [-4570125.56, -4569726.02],\n",
    "\t\t\t\t\t  [-4569402.35, -4569275.26],\n",
    "\t\t\t\t\t  [-4568853.66, -4568817.24],\n",
    "\t\t\t\t\t  [-4568299.57, -4568358.15],\n",
    "\t\t\t\t\t  [-4567749.82, -4567980.21],\n",
    "\t\t\t\t\t  [-4567306.32, -4567479.81],\n",
    "\t\t\t\t\t  [-4566973.99, -4567107.05],\n",
    "\t\t\t\t\t  [-4566390.23, -4566979.09],\n",
    "\t\t\t\t\t  [-4566209.39, -4566688.21],\n",
    "\t\t\t\t\t  [-4565677.62, -4565677.62]])\n",
    "\n",
    "KNN_cv_scores.max()"
   ]
  },
  {
   "cell_type": "code",
   "execution_count": 77,
   "metadata": {
    "collapsed": false,
    "scrolled": false
   },
   "outputs": [
    {
     "data": {
      "image/png": "[encoded data removed]",
      "text/plain": [
       "<matplotlib.figure.Figure at 0x7f929ebde810>"
      ]
     },
     "metadata": {},
     "output_type": "display_data"
    }
   ],
   "source": [
    "plt.figure(figsize=(15,8))\n",
    "plt.plot(KNN_cv_scores[:,1])\n",
    "plt.title(\"Error de KNN\")\n",
    "plt.xlabel(\"k\")\n",
    "plt.ylabel(\"neg_mean_squared_error\")\n",
    "plt.show()"
   ]
  },
  {
   "cell_type": "code",
   "execution_count": 76,
   "metadata": {
    "collapsed": false,
    "deletable": true,
    "editable": true,
    "scrolled": false
   },
   "outputs": [
    {
     "name": "stdout",
     "output_type": "stream",
     "text": [
      "Best MSE: -4565677.62\n",
      "Index of best MSE: [79 79]\n",
      "Best k: 20\n",
      "Best metric: euclidean\n"
     ]
    }
   ],
   "source": [
    "# print (np.array(KNN_cv_scores).round(2)\n",
    "\n",
    "# Estos prints están mal\n",
    "\n",
    "print (\"Best MSE: \" + str(np.array(KNN_cv_scores).round(2).max()))\n",
    "print (\"Index of best MSE: \" + str (np.array(KNN_cv_scores).round(2).argmax(axis=0)))\n",
    "print (\"Best k: \" + str(k_neighbors[KNN_cv_scores.round(2).argmax(axis=1)[0]]) )\n",
    "print (\"Best metric: \" + str(metrics[KNN_cv_scores.round(2).argmax(axis=1)[1]] ) )"
   ]
  },
  {
   "cell_type": "markdown",
   "metadata": {
    "deletable": true,
    "editable": true
   },
   "source": [
    "# Decision Tree Regressor"
   ]
  },
  {
   "cell_type": "code",
   "execution_count": null,
   "metadata": {
    "collapsed": false,
    "deletable": true,
    "editable": true
   },
   "outputs": [],
   "source": [
    "possible_depth = np.array(range(10,1001,10))"
   ]
  },
  {
   "cell_type": "code",
   "execution_count": null,
   "metadata": {
    "collapsed": true,
    "deletable": true,
    "editable": true
   },
   "outputs": [],
   "source": [
    "cv_scores = []\n",
    "\n",
    "for current_depth in possible_depth:\n",
    "    \n",
    "    regr_1 = DecisionTreeRegressor(max_depth=current_depth)\n",
    "    scores = cross_val_score(regr_1, data, target_values, cv=10, scoring='neg_mean_squared_error')\n",
    "    DTR_cv_scores.append(scores.mean())"
   ]
  },
  {
   "cell_type": "code",
   "execution_count": null,
   "metadata": {
    "collapsed": false,
    "deletable": true,
    "editable": true
   },
   "outputs": [],
   "source": [
    "print (\"Best MSE: \" + str(np.array(cv_scores).round(2).max()))\n",
    "print (\"Index of best MSE: \" + str (np.array(cv_scores).round(2).argmax()))\n",
    "print (\"Best depth: \" + str(possible_depth[np.array(cv_scores).round(2).argmax()]))"
   ]
  },
  {
   "cell_type": "code",
   "execution_count": null,
   "metadata": {
    "collapsed": false,
    "deletable": true,
    "editable": true
   },
   "outputs": [],
   "source": [
    "plt.figure(figsize=(15,8))\n",
    "plt.scatter(x=range(len(y_1)),y=y_1)\n",
    "plt.show()"
   ]
  },
  {
   "cell_type": "code",
   "execution_count": null,
   "metadata": {
    "collapsed": false,
    "deletable": true,
    "editable": true
   },
   "outputs": [],
   "source": [
    "plt.figure(figsize=(15,8))\n",
    "plt.ylim(0,531240)\n",
    "plt.scatter(x=range(len(Y_test)),y=Y_test)"
   ]
  },
  {
   "cell_type": "markdown",
   "metadata": {
    "deletable": true,
    "editable": true
   },
   "source": [
    "# Random Forest Regressor"
   ]
  },
  {
   "cell_type": "code",
   "execution_count": null,
   "metadata": {
    "collapsed": true,
    "deletable": true,
    "editable": true
   },
   "outputs": [],
   "source": [
    "regr_1 = RandomForestRegressor(n_estimators=5, criterion='mse')\n",
    "scores = cross_val_score(regr_1, reduced_data, target_values, cv=10, scoring='neg_mean_squared_error')"
   ]
  },
  {
   "cell_type": "code",
   "execution_count": null,
   "metadata": {
    "collapsed": false,
    "deletable": true,
    "editable": true
   },
   "outputs": [],
   "source": [
    "scores.mean()"
   ]
  }
 ],
 "metadata": {
  "kernelspec": {
   "display_name": "Python 2",
   "language": "python",
   "name": "python2"
  },
  "language_info": {
   "codemirror_mode": {
    "name": "ipython",
    "version": 2
   },
   "file_extension": ".py",
   "mimetype": "text/x-python",
   "name": "python",
   "nbconvert_exporter": "python",
   "pygments_lexer": "ipython2",
   "version": "2.7.13"
  }
 },
 "nbformat": 4,
 "nbformat_minor": 2
}
