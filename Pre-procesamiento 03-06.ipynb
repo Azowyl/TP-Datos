{
 "cells": [
  {
   "cell_type": "markdown",
   "metadata": {},
   "source": [
    "# TO DO:\n",
    "\n",
    "I) Belleza del código.\n",
    "\n",
    "    1) Convertir listas en numpy array.\n",
    "    \n",
    "II) Preprocesamiento, ML, yerbas...\n",
    "\n",
    "    1) (http://scikit-learn.org/stable/modules/preprocessing.html#scaling-data-with-outliers]Probar \"robust_scale and RobustScaler\" en vez de normalization de los datos\n",
    "    2) Probar Grid_SearchCV en vez del \"for\"\n",
    "    \n",
    "III) Probar más hiperparametros"
   ]
  },
  {
   "cell_type": "code",
   "execution_count": 256,
   "metadata": {
    "collapsed": true
   },
   "outputs": [],
   "source": [
    "# Python 2 \n",
    "from __future__ import division\n",
    "\n",
    "# Preprocessing\n",
    "from sklearn import preprocessing\n",
    "\n",
    "# Dataframe\n",
    "import pandas as pd\n",
    "import numpy as np\n",
    "\n",
    "# Time measurement\n",
    "import datetime\n",
    "from time import time\n",
    "\n",
    "# Visu\n",
    "import matplotlib.pyplot as plt\n",
    "\n",
    "# The Hashing Trick\n",
    "from sklearn.feature_extraction import FeatureHasher\n",
    "\n",
    "# Dimension Reduction\n",
    "from sklearn.decomposition import TruncatedSVD\n",
    "\n",
    "# ML\n",
    "from sklearn.tree import DecisionTreeRegressor\n",
    "from sklearn.model_selection import train_test_split\n",
    "from sklearn import neighbors\n",
    "from sklearn.ensemble import RandomForestRegressor\n",
    "from sklearn.ensemble import RandomForestClassifier\n",
    "from sklearn.model_selection import GridSearchCV\n",
    "from sklearn.ensemble import BaggingRegressor\n",
    "from sklearn.linear_model import BayesianRidge\n",
    "from sklearn.linear_model import LinearRegression\n",
    "from sklearn.linear_model import ElasticNet\n",
    "\n",
    "# Scoring\n",
    "from sklearn.metrics import mean_squared_error\n",
    "from sklearn.model_selection import cross_val_score"
   ]
  },
  {
   "cell_type": "markdown",
   "metadata": {},
   "source": [
    "# Training Data Load"
   ]
  },
  {
   "cell_type": "code",
   "execution_count": 257,
   "metadata": {
    "collapsed": true
   },
   "outputs": [],
   "source": [
    "stations = pd.read_csv('data/station.csv')\n",
    "\n",
    "trips = pd.read_csv('data/trip_train.csv', parse_dates=['start_date','end_date'], infer_datetime_format=True, low_memory=False)\n",
    "more_trips = pd.read_csv('data/more_data/more_trips.csv', parse_dates=['start_date','end_date'], infer_datetime_format=True, low_memory=False)\n",
    "\n",
    "weather = pd.read_csv('data/weather.csv', parse_dates=['date'], infer_datetime_format=True)\n",
    "more_weather = pd.read_csv('data/more_data/more_weather.csv', parse_dates=['date'], infer_datetime_format=True)"
   ]
  },
  {
   "cell_type": "code",
   "execution_count": 258,
   "metadata": {
    "collapsed": true
   },
   "outputs": [],
   "source": [
    "#trips = trips.append(more_trips, ignore_index=True)"
   ]
  },
  {
   "cell_type": "code",
   "execution_count": 259,
   "metadata": {
    "collapsed": true
   },
   "outputs": [],
   "source": [
    "#weather = weather.append(more_weather, ignore_index=True)"
   ]
  },
  {
   "cell_type": "code",
   "execution_count": 260,
   "metadata": {
    "collapsed": true
   },
   "outputs": [],
   "source": [
    "trips['date'] = pd.to_datetime(trips.start_date.dt.date)"
   ]
  },
  {
   "cell_type": "code",
   "execution_count": 261,
   "metadata": {},
   "outputs": [
    {
     "name": "stdout",
     "output_type": "stream",
     "text": [
      "118116828 / 494218194 = 0.23899732837435766\n"
     ]
    }
   ],
   "source": [
    "original_number_of_trips = trips['duration'].shape[0]\n",
    "\n",
    "trip_length = 60*60*12     # seconds in 12 hours\n",
    "trips_larger_than_12_hour = trips[trips['duration'] > trip_length]['duration'].sum()\n",
    "trips_shorter_than_12_hour = trips[trips['duration'] < trip_length]['duration'].sum()\n",
    "ratio = trips_larger_than_12_hour/trips_shorter_than_12_hour\n",
    "print (trips_larger_than_12_hour,\"/\",trips_shorter_than_12_hour,'=',ratio)"
   ]
  },
  {
   "cell_type": "code",
   "execution_count": 262,
   "metadata": {
    "scrolled": false
   },
   "outputs": [
    {
     "data": {
      "image/png": "[encoded data removed]",
      "text/plain": [
       "<matplotlib.figure.Figure at 0x2b548fb9cc0>"
      ]
     },
     "metadata": {},
     "output_type": "display_data"
    }
   ],
   "source": [
    "plt.figure(figsize=(15,8))\n",
    "plt.title(\"Histograma de duracion de viajes\")\n",
    "plt.xlabel('frecuencia')\n",
    "plt.ylabel('Duracion')\n",
    "plt.hist(x=trips[trips['duration'] < trip_length]['duration'],bins=200)\n",
    "plt.show()                       "
   ]
  },
  {
   "cell_type": "code",
   "execution_count": 263,
   "metadata": {},
   "outputs": [
    {
     "name": "stdout",
     "output_type": "stream",
     "text": [
      "Total de viajes luego de remover outliers: 548986\n"
     ]
    }
   ],
   "source": [
    "trips = trips[trips['duration'] < trip_length]\n",
    "print (\"Total de viajes luego de remover outliers: \" + str(trips.shape[0]))"
   ]
  },
  {
   "cell_type": "code",
   "execution_count": 264,
   "metadata": {
    "collapsed": true
   },
   "outputs": [],
   "source": [
    "d = {'city': ['San Jose','Redwood City','Mountain View', 'Palo Alto', 'San Francisco'],\\\n",
    "         'zip_code':[95113,94063,94041,94301,94107]}\n",
    "city_zip_codes = pd.DataFrame(data = d)"
   ]
  },
  {
   "cell_type": "code",
   "execution_count": 265,
   "metadata": {
    "collapsed": true,
    "scrolled": true
   },
   "outputs": [],
   "source": [
    "stations = pd.merge(stations, city_zip_codes, on='city', how='left')"
   ]
  },
  {
   "cell_type": "code",
   "execution_count": 266,
   "metadata": {
    "collapsed": true
   },
   "outputs": [],
   "source": [
    "# se agrega el zip_code de la ciudad de la start station a cada viaje\n",
    "stations_to_join = stations.loc[:,['id','zip_code']]\n",
    "stations_to_join.columns = ['start_station_id','city_zip_code']\n",
    "\n",
    "trips = pd.merge(trips, stations_to_join, on='start_station_id', how='left')"
   ]
  },
  {
   "cell_type": "code",
   "execution_count": 267,
   "metadata": {
    "collapsed": true
   },
   "outputs": [],
   "source": [
    "weather.rename(columns={'zip_code':'city_zip_code'}, inplace=True)"
   ]
  },
  {
   "cell_type": "code",
   "execution_count": 268,
   "metadata": {
    "collapsed": true
   },
   "outputs": [],
   "source": [
    "weather.precipitation_inches = pd.to_numeric(weather.precipitation_inches, errors='coerse')\n",
    "weather.precipitation_inches.fillna(0,inplace=True)"
   ]
  },
  {
   "cell_type": "code",
   "execution_count": 269,
   "metadata": {
    "collapsed": true
   },
   "outputs": [],
   "source": [
    "data = pd.merge(trips, weather, on=['date','city_zip_code'], how='inner')"
   ]
  },
  {
   "cell_type": "code",
   "execution_count": 270,
   "metadata": {
    "collapsed": true
   },
   "outputs": [],
   "source": [
    "# transformar cada date en segundos desde 29/04/1994\n",
    "data.start_date = data.start_date.apply(lambda x: int((x - datetime.datetime(1994,4,29)).total_seconds()))\n",
    "\n",
    "data.end_date = data.end_date.apply(lambda x: int((x - datetime.datetime(1994,4,29)).total_seconds()))"
   ]
  },
  {
   "cell_type": "code",
   "execution_count": 271,
   "metadata": {},
   "outputs": [
    {
     "data": {
      "text/plain": [
       "Index(['duration', 'start_date', 'start_station_id', 'end_date',\n",
       "       'end_station_id', 'subscription_type', 'city_zip_code',\n",
       "       'max_temperature_f', 'mean_temperature_f', 'min_temperature_f',\n",
       "       'max_dew_point_f', 'mean_dew_point_f', 'min_dew_point_f',\n",
       "       'max_humidity', 'mean_humidity', 'min_humidity',\n",
       "       'max_sea_level_pressure_inches', 'mean_sea_level_pressure_inches',\n",
       "       'min_sea_level_pressure_inches', 'max_visibility_miles',\n",
       "       'mean_visibility_miles', 'min_visibility_miles', 'max_wind_Speed_mph',\n",
       "       'mean_wind_speed_mph', 'max_gust_speed_mph', 'precipitation_inches',\n",
       "       'cloud_cover', 'events', 'wind_dir_degrees'],\n",
       "      dtype='object')"
      ]
     },
     "execution_count": 271,
     "metadata": {},
     "output_type": "execute_result"
    }
   ],
   "source": [
    "data.drop(labels=['id','start_station_name','end_station_name','date','zip_code','bike_id'], axis=1, inplace=True)\n",
    "data.columns"
   ]
  },
  {
   "cell_type": "markdown",
   "metadata": {},
   "source": [
    "#  Test Data Load"
   ]
  },
  {
   "cell_type": "code",
   "execution_count": 272,
   "metadata": {},
   "outputs": [
    {
     "data": {
      "text/plain": [
       "Index(['id', 'start_date', 'start_station_name', 'start_station_id',\n",
       "       'end_date', 'end_station_name', 'end_station_id', 'bike_id',\n",
       "       'subscription_type', 'zip_code'],\n",
       "      dtype='object')"
      ]
     },
     "execution_count": 272,
     "metadata": {},
     "output_type": "execute_result"
    }
   ],
   "source": [
    "trip_test = pd.read_csv('data/trip_test.csv', parse_dates=['start_date','end_date'], infer_datetime_format=True)\n",
    "trip_test.columns"
   ]
  },
  {
   "cell_type": "code",
   "execution_count": 273,
   "metadata": {
    "collapsed": true
   },
   "outputs": [],
   "source": [
    "# se agrega el zip_code de la ciudad de la start station a cada viaje del set de test\n",
    "trip_test = pd.merge(trip_test, stations_to_join, on='start_station_id', how='left')"
   ]
  },
  {
   "cell_type": "code",
   "execution_count": 274,
   "metadata": {
    "collapsed": true
   },
   "outputs": [],
   "source": [
    "trip_test['date'] = pd.to_datetime(trip_test.start_date.dt.date)\n",
    "\n",
    "trip_test = pd.merge(trip_test, weather, on=['date','city_zip_code'], how='inner')"
   ]
  },
  {
   "cell_type": "code",
   "execution_count": 275,
   "metadata": {
    "collapsed": true
   },
   "outputs": [],
   "source": [
    "# transformar cada date en segundos desde 29/04/1994\n",
    "trip_test.start_date = trip_test.start_date.apply(lambda x: int((x - datetime.datetime(1994,4,29)).total_seconds()))\n",
    "trip_test.end_date = trip_test.end_date.apply(lambda x: int((x - datetime.datetime(1994,4,29)).total_seconds()))"
   ]
  },
  {
   "cell_type": "code",
   "execution_count": 276,
   "metadata": {
    "collapsed": true
   },
   "outputs": [],
   "source": [
    "trip_test.drop(labels=['start_station_name','end_station_name','date','zip_code','bike_id'], axis=1, inplace=True)"
   ]
  },
  {
   "cell_type": "code",
   "execution_count": 277,
   "metadata": {},
   "outputs": [
    {
     "data": {
      "text/plain": [
       "Index(['id', 'start_date', 'start_station_id', 'end_date', 'end_station_id',\n",
       "       'subscription_type', 'city_zip_code', 'max_temperature_f',\n",
       "       'mean_temperature_f', 'min_temperature_f', 'max_dew_point_f',\n",
       "       'mean_dew_point_f', 'min_dew_point_f', 'max_humidity', 'mean_humidity',\n",
       "       'min_humidity', 'max_sea_level_pressure_inches',\n",
       "       'mean_sea_level_pressure_inches', 'min_sea_level_pressure_inches',\n",
       "       'max_visibility_miles', 'mean_visibility_miles', 'min_visibility_miles',\n",
       "       'max_wind_Speed_mph', 'mean_wind_speed_mph', 'max_gust_speed_mph',\n",
       "       'precipitation_inches', 'cloud_cover', 'events', 'wind_dir_degrees'],\n",
       "      dtype='object')"
      ]
     },
     "execution_count": 277,
     "metadata": {},
     "output_type": "execute_result"
    }
   ],
   "source": [
    "trip_test.columns"
   ]
  },
  {
   "cell_type": "markdown",
   "metadata": {},
   "source": [
    "# The Hashing Trick"
   ]
  },
  {
   "cell_type": "markdown",
   "metadata": {},
   "source": [
    "### Train Set "
   ]
  },
  {
   "cell_type": "code",
   "execution_count": 23,
   "metadata": {
    "collapsed": true
   },
   "outputs": [],
   "source": [
    "temp = []\n",
    "column_labels = ['start_station_id','end_station_id','subscription_type','city_zip_code','events']\n",
    "\n",
    "for row in data.loc[:,column_labels].iterrows():\n",
    "    index, value = row\n",
    "    for i in range(len(value)):\n",
    "        value[i] = str(value[i])\n",
    "    temp.append(value.tolist())"
   ]
  },
  {
   "cell_type": "code",
   "execution_count": 24,
   "metadata": {
    "collapsed": true
   },
   "outputs": [],
   "source": [
    "h = FeatureHasher(n_features=10, input_type='string')\n",
    "f = h.transform(raw_X=temp)"
   ]
  },
  {
   "cell_type": "code",
   "execution_count": 25,
   "metadata": {},
   "outputs": [
    {
     "name": "stdout",
     "output_type": "stream",
     "text": [
      "Porcentaje de dispersidad: 41.19389201181815 %\n"
     ]
    }
   ],
   "source": [
    "print(\"Porcentaje de dispersidad: \" + str((f.nnz/(f.shape[0] * f.shape[1]))*100) + \" %\")"
   ]
  },
  {
   "cell_type": "code",
   "execution_count": 26,
   "metadata": {
    "collapsed": true
   },
   "outputs": [],
   "source": [
    "data = pd.concat([data,pd.DataFrame(f.todense())],axis=1)\n",
    "data.drop(labels=column_labels,axis=1,inplace=True)"
   ]
  },
  {
   "cell_type": "code",
   "execution_count": 27,
   "metadata": {
    "scrolled": true
   },
   "outputs": [
    {
     "data": {
      "text/plain": [
       "duration                            int64\n",
       "start_date                          int64\n",
       "end_date                            int64\n",
       "max_temperature_f                 float64\n",
       "mean_temperature_f                float64\n",
       "min_temperature_f                 float64\n",
       "max_dew_point_f                   float64\n",
       "mean_dew_point_f                  float64\n",
       "min_dew_point_f                   float64\n",
       "max_humidity                      float64\n",
       "mean_humidity                     float64\n",
       "min_humidity                      float64\n",
       "max_sea_level_pressure_inches     float64\n",
       "mean_sea_level_pressure_inches    float64\n",
       "min_sea_level_pressure_inches     float64\n",
       "max_visibility_miles              float64\n",
       "mean_visibility_miles             float64\n",
       "min_visibility_miles              float64\n",
       "max_wind_Speed_mph                float64\n",
       "mean_wind_speed_mph               float64\n",
       "max_gust_speed_mph                float64\n",
       "precipitation_inches              float64\n",
       "cloud_cover                       float64\n",
       "wind_dir_degrees                  float64\n",
       "0                                 float64\n",
       "1                                 float64\n",
       "2                                 float64\n",
       "3                                 float64\n",
       "4                                 float64\n",
       "5                                 float64\n",
       "6                                 float64\n",
       "7                                 float64\n",
       "8                                 float64\n",
       "9                                 float64\n",
       "dtype: object"
      ]
     },
     "execution_count": 27,
     "metadata": {},
     "output_type": "execute_result"
    }
   ],
   "source": [
    "# Verificamos que sean todos numericos\n",
    "data.dtypes"
   ]
  },
  {
   "cell_type": "code",
   "execution_count": 28,
   "metadata": {
    "collapsed": true
   },
   "outputs": [],
   "source": [
    "#data = data.dropna(how='any').reset_index(drop=True)"
   ]
  },
  {
   "cell_type": "code",
   "execution_count": 29,
   "metadata": {},
   "outputs": [
    {
     "name": "stdout",
     "output_type": "stream",
     "text": [
      "Cantidad de muestras en train set: 548986\n"
     ]
    }
   ],
   "source": [
    "print (\"Cantidad de muestras en train set: \"+str(data.shape[0]))"
   ]
  },
  {
   "cell_type": "code",
   "execution_count": 30,
   "metadata": {
    "collapsed": true
   },
   "outputs": [],
   "source": [
    "# Separamos y de x\n",
    "target_values = data['duration']\n",
    "data.drop(labels='duration', axis=1, inplace=True)"
   ]
  },
  {
   "cell_type": "markdown",
   "metadata": {},
   "source": [
    "### Test Set"
   ]
  },
  {
   "cell_type": "code",
   "execution_count": 31,
   "metadata": {
    "collapsed": true
   },
   "outputs": [],
   "source": [
    "temp = []\n",
    "column_labels = ['start_station_id','end_station_id','subscription_type','city_zip_code','events']\n",
    "\n",
    "for row in trip_test.loc[:,column_labels].iterrows():\n",
    "    index, value = row\n",
    "    for i in range(len(value)):\n",
    "        value[i] = str(value[i])\n",
    "    temp.append(value.tolist())"
   ]
  },
  {
   "cell_type": "code",
   "execution_count": 32,
   "metadata": {
    "collapsed": true
   },
   "outputs": [],
   "source": [
    "h = FeatureHasher(n_features=10, input_type='string')\n",
    "f = h.transform(raw_X=temp)"
   ]
  },
  {
   "cell_type": "code",
   "execution_count": 33,
   "metadata": {
    "collapsed": true
   },
   "outputs": [],
   "source": [
    "trip_test = pd.concat([trip_test,pd.DataFrame(f.todense())],axis=1)\n",
    "trip_test.drop(labels=column_labels,axis=1,inplace=True)"
   ]
  },
  {
   "cell_type": "code",
   "execution_count": 34,
   "metadata": {},
   "outputs": [
    {
     "data": {
      "text/plain": [
       "id                                  int64\n",
       "start_date                          int64\n",
       "end_date                            int64\n",
       "max_temperature_f                 float64\n",
       "mean_temperature_f                float64\n",
       "min_temperature_f                 float64\n",
       "max_dew_point_f                   float64\n",
       "mean_dew_point_f                  float64\n",
       "min_dew_point_f                   float64\n",
       "max_humidity                      float64\n",
       "mean_humidity                     float64\n",
       "min_humidity                      float64\n",
       "max_sea_level_pressure_inches     float64\n",
       "mean_sea_level_pressure_inches    float64\n",
       "min_sea_level_pressure_inches     float64\n",
       "max_visibility_miles              float64\n",
       "mean_visibility_miles             float64\n",
       "min_visibility_miles              float64\n",
       "max_wind_Speed_mph                float64\n",
       "mean_wind_speed_mph               float64\n",
       "max_gust_speed_mph                float64\n",
       "precipitation_inches              float64\n",
       "cloud_cover                       float64\n",
       "wind_dir_degrees                  float64\n",
       "0                                 float64\n",
       "1                                 float64\n",
       "2                                 float64\n",
       "3                                 float64\n",
       "4                                 float64\n",
       "5                                 float64\n",
       "6                                 float64\n",
       "7                                 float64\n",
       "8                                 float64\n",
       "9                                 float64\n",
       "dtype: object"
      ]
     },
     "execution_count": 34,
     "metadata": {},
     "output_type": "execute_result"
    }
   ],
   "source": [
    "trip_test.dtypes"
   ]
  },
  {
   "cell_type": "code",
   "execution_count": 35,
   "metadata": {
    "collapsed": true
   },
   "outputs": [],
   "source": [
    "ids = trip_test['id']\n",
    "trip_test.drop(labels=['id'], axis=1, inplace=True)"
   ]
  },
  {
   "cell_type": "markdown",
   "metadata": {},
   "source": [
    "# Missing Values "
   ]
  },
  {
   "cell_type": "code",
   "execution_count": 36,
   "metadata": {},
   "outputs": [
    {
     "name": "stdout",
     "output_type": "stream",
     "text": [
      "Imputer took %.2f seconds 759.0693426132202\n"
     ]
    }
   ],
   "source": [
    "imp = preprocessing.Imputer(missing_values='NaN', strategy='most_frequent', axis=0)\n",
    "\n",
    "start = time()\n",
    "\n",
    "trip_test = imp.fit_transform(trip_test)\n",
    "\n",
    "data = imp.fit_transform(data)\n",
    "\n",
    "print (\"Imputer took %.2f seconds\",(time() - start))"
   ]
  },
  {
   "cell_type": "markdown",
   "metadata": {},
   "source": [
    "# Feature Engineering "
   ]
  },
  {
   "cell_type": "code",
   "execution_count": null,
   "metadata": {
    "collapsed": true
   },
   "outputs": [],
   "source": [
    "clf = RandomForestClassifier(n_jobs=1)\n",
    "clf.fit(data, target_values)"
   ]
  },
  {
   "cell_type": "code",
   "execution_count": null,
   "metadata": {
    "collapsed": true
   },
   "outputs": [],
   "source": [
    "importances = clf.feature_importances_\n",
    "sorted_idx = np.argsort(importances)"
   ]
  },
  {
   "cell_type": "code",
   "execution_count": null,
   "metadata": {
    "collapsed": true
   },
   "outputs": [],
   "source": [
    "plt.barh(importances[sorted_idx], aling='center')\n",
    "plt.yticks(data.columns[sorted_idx])\n",
    "plt.xlabel('Relative Importace')\n",
    "plt.ylabel('Variable Importance')\n",
    "plt.show()"
   ]
  },
  {
   "cell_type": "markdown",
   "metadata": {},
   "source": [
    "# Data Standarization"
   ]
  },
  {
   "cell_type": "markdown",
   "metadata": {},
   "source": [
    "[scaler normaliza test y train set de la misma manera.](http://scikit-learn.org/stable/modules/preprocessing.html)"
   ]
  },
  {
   "cell_type": "code",
   "execution_count": 55,
   "metadata": {},
   "outputs": [
    {
     "data": {
      "text/plain": [
       "StandardScaler(copy=True, with_mean=True, with_std=True)"
      ]
     },
     "execution_count": 55,
     "metadata": {},
     "output_type": "execute_result"
    }
   ],
   "source": [
    "scaler = preprocessing.StandardScaler().fit(data)\n",
    "scaler"
   ]
  },
  {
   "cell_type": "code",
   "execution_count": 56,
   "metadata": {
    "collapsed": true
   },
   "outputs": [],
   "source": [
    "data_stand = scaler.transform(data) # devuelve una matriz"
   ]
  },
  {
   "cell_type": "code",
   "execution_count": 57,
   "metadata": {
    "collapsed": true
   },
   "outputs": [],
   "source": [
    "trip_test_stand = scaler.transform(trip_test)"
   ]
  },
  {
   "cell_type": "markdown",
   "metadata": {},
   "source": [
    "# Data Normalization"
   ]
  },
  {
   "cell_type": "code",
   "execution_count": 153,
   "metadata": {
    "collapsed": true
   },
   "outputs": [],
   "source": [
    "data_norm = (data - data.mean()) / (data.max() - data.min())\n",
    "trip_test_norm = (trip_test - trip_test.mean()) / (trip_test.max() - trip_test.min())"
   ]
  },
  {
   "cell_type": "markdown",
   "metadata": {},
   "source": [
    "# Dimension Reduction"
   ]
  },
  {
   "cell_type": "markdown",
   "metadata": {},
   "source": [
    "## SVD"
   ]
  },
  {
   "cell_type": "code",
   "execution_count": null,
   "metadata": {
    "collapsed": true
   },
   "outputs": [],
   "source": [
    "u,s,v = np.linalg.svd(data,full_matrices=0)"
   ]
  },
  {
   "cell_type": "markdown",
   "metadata": {},
   "source": [
    "## Energía de la matriz"
   ]
  },
  {
   "cell_type": "code",
   "execution_count": null,
   "metadata": {
    "collapsed": true,
    "scrolled": false
   },
   "outputs": [],
   "source": [
    "plt.figure(figsize=(8,8))\n",
    "plt.xlabel(\"# valor singular\")\n",
    "plt.ylabel('Valor singular')\n",
    "plt.title(\"Energia de la matriz\")\n",
    "plt.plot(s)\n",
    "plt.show()"
   ]
  },
  {
   "cell_type": "markdown",
   "metadata": {},
   "source": [
    "Vemos un codo en x = 5"
   ]
  },
  {
   "cell_type": "markdown",
   "metadata": {},
   "source": [
    "# Aproximation error"
   ]
  },
  {
   "cell_type": "code",
   "execution_count": null,
   "metadata": {
    "collapsed": true,
    "scrolled": false
   },
   "outputs": [],
   "source": [
    "dim = 5\n",
    "closeness = np.isclose(np.dot(np.dot(u[:,0:dim],np.diag(s)[0:dim,0:dim]),v[0:dim,:]),data,atol=0.1,rtol=0.1)\n",
    "print (str((closeness.sum()/(closeness.shape[0]*closeness.shape[1])*100).round(2)) + \" %\")"
   ]
  },
  {
   "cell_type": "markdown",
   "metadata": {},
   "source": [
    "# Truncated SVD\n",
    "\n",
    "[...it can work with scipy.sparse matrices efficiently.](http://scikit-learn.org/stable/modules/generated/sklearn.decomposition.TruncatedSVD.html)"
   ]
  },
  {
   "cell_type": "code",
   "execution_count": 126,
   "metadata": {
    "collapsed": true
   },
   "outputs": [],
   "source": [
    "svd = TruncatedSVD(n_components=7, n_iter=7, random_state=42)\n",
    "truncated_svd_aprox = svd.fit_transform(data)"
   ]
  },
  {
   "cell_type": "markdown",
   "metadata": {},
   "source": [
    "# KNN "
   ]
  },
  {
   "cell_type": "code",
   "execution_count": 127,
   "metadata": {
    "collapsed": true
   },
   "outputs": [],
   "source": [
    "reduced_data = truncated_svd_aprox"
   ]
  },
  {
   "cell_type": "code",
   "execution_count": 128,
   "metadata": {
    "collapsed": true
   },
   "outputs": [],
   "source": [
    "reduced_test = svd.fit_transform(trip_test)"
   ]
  },
  {
   "cell_type": "code",
   "execution_count": null,
   "metadata": {
    "collapsed": true
   },
   "outputs": [],
   "source": [
    "k_neighbors = np.array([40])\n",
    "metrics = ['manhattan']\n",
    "KNN_cv_scores = np.zeros(shape=(len(k_neighbors),len(metrics)))\n",
    "\n",
    "for i,k in enumerate(k_neighbors):\n",
    "    for j,metric in enumerate(metrics):\n",
    "        \n",
    "        knn = neighbors.KNeighborsRegressor(n_neighbors=k, metric=metric, weights = 'distance',n_jobs=-1)\n",
    "        scores = cross_val_score(knn, reduced_data, target_values, cv=10, scoring='neg_mean_squared_error')\n",
    "        KNN_cv_scores[i][j] = scores.mean()"
   ]
  },
  {
   "cell_type": "code",
   "execution_count": null,
   "metadata": {
    "collapsed": true
   },
   "outputs": [],
   "source": [
    "KNN_cv_scores.round(2)"
   ]
  },
  {
   "cell_type": "markdown",
   "metadata": {},
   "source": [
    "knn con data normalization ,truncatedSVD, k = 20 --> array([[-5351858.19, -5360234.74]])\n",
    "\n",
    "knn con data normalization ,SVD, k = 40 --> array([[-5253803.39, -5260328.7 ]])\n",
    "\n",
    "knn con data standarization ,truncatedSVD (7 dim), k = 40 --> array([[-4737871.4 , -4733945.79]])\n",
    "\n",
    "knn con data standarization ,truncatedSVD (10 dim), k = 40 --> array([[-4491750.19, -4483791.72]]) <-------------\n",
    "\n",
    "knn con data standarization ,SVD, k = 40 --> array([[-5066280.98, -5021462.32]])"
   ]
  },
  {
   "cell_type": "code",
   "execution_count": null,
   "metadata": {
    "collapsed": true,
    "scrolled": true
   },
   "outputs": [],
   "source": [
    "KNN_cv_scores = np.array([[-6134361.15, -6079000.66],\n",
    "\t\t\t\t\t  [-5351858.19, -5360234.74],\n",
    "\t\t\t\t\t  [-5096953.65, -5095805.17],\n",
    "\t\t\t\t\t  [-4982807.73, -4969350.65],\n",
    "\t\t\t\t\t  [-4907901.23, -4890164.21],\n",
    "\t\t\t\t\t  [-4852908.1 , -4834866.28],\n",
    "\t\t\t\t\t  [-4817307.43, -4797754.1 ],\n",
    "\t\t\t\t\t  [-4790579.12, -4769114.32],\n",
    "\t\t\t\t\t  [-4767948.63, -4745718.41],\n",
    "\t\t\t\t\t  [-4751342.63, -4727356.28],\n",
    "\t\t\t\t\t  [-4739709.84, -4711076.88],\n",
    "\t\t\t\t\t  [-4726830.06, -4696665.8 ],\n",
    "\t\t\t\t\t  [-4715715.18, -4687716.97],\n",
    "\t\t\t\t\t  [-4706229.36, -4678451.76],\n",
    "\t\t\t\t\t  [-4697689.8 , -4670741.08],\n",
    "\t\t\t\t\t  [-4691308.05, -4665357.65],\n",
    "\t\t\t\t\t  [-4684562.35, -4659308.18],\n",
    "\t\t\t\t\t  [-4677509.1 , -4653394.41],\n",
    "\t\t\t\t\t  [-4672237.78, -4648805.1 ],\n",
    "\t\t\t\t\t  [-4667755.94, -4644264.32],\n",
    "\t\t\t\t\t  [-4662907.25, -4640719.22],\n",
    "\t\t\t\t\t  [-4658321.77, -4637249.78],\n",
    "\t\t\t\t\t  [-4654066.51, -4632933.27],\n",
    "\t\t\t\t\t  [-4650221.86, -4629486.34],\n",
    "\t\t\t\t\t  [-4646538.86, -4627016.1 ],\n",
    "\t\t\t\t\t  [-4642953.85, -4623886.01],\n",
    "\t\t\t\t\t  [-4639515.33, -4621242.79],\n",
    "\t\t\t\t\t  [-4636040.7 , -4618465.53],\n",
    "\t\t\t\t\t  [-4632803.81, -4615791.91],\n",
    "\t\t\t\t\t  [-4629935.04, -4613384.22],\n",
    "\t\t\t\t\t  [-4626602.03, -4611437.69],\n",
    "\t\t\t\t\t  [-4623721.83, -4608700.33],\n",
    "\t\t\t\t\t  [-4620566.86, -4606371.71],\n",
    "\t\t\t\t\t  [-4617386.36, -4604447.74],\n",
    "\t\t\t\t\t  [-4614419.37, -4603139.35],\n",
    "\t\t\t\t\t  [-4611734.2 , -4601562.83],\n",
    "\t\t\t\t\t  [-4609026.51, -4600178.79],\n",
    "\t\t\t\t\t  [-4607345.74, -4598160.78],\n",
    "\t\t\t\t\t  [-4605116.73, -4596688.19],\n",
    "\t\t\t\t\t  [-4603376.65, -4595194.93],\n",
    "\t\t\t\t\t  [-4601587.53, -4593121.06],\n",
    "\t\t\t\t\t  [-4600001.43, -4591552.04],\n",
    "\t\t\t\t\t  [-4598164.87, -4589910.62],\n",
    "\t\t\t\t\t  [-4596167.67, -4588453.26],\n",
    "\t\t\t\t\t  [-4594644.11, -4587628.87],\n",
    "\t\t\t\t\t  [-4593058.82, -4586432.97],\n",
    "\t\t\t\t\t  [-4591440.79, -4585359.34],\n",
    "\t\t\t\t\t  [-4590444.87, -4584486.15],\n",
    "\t\t\t\t\t  [-4588931.37, -4583458.19],\n",
    "\t\t\t\t\t  [-4587514.33, -4582651.52],\n",
    "\t\t\t\t\t  [-4585932.58, -4581528.13],\n",
    "\t\t\t\t\t  [-4584639.75, -4580836.93],\n",
    "\t\t\t\t\t  [-4583219.7 , -4579824.95],\n",
    "\t\t\t\t\t  [-4582349.66, -4579051.76],\n",
    "\t\t\t\t\t  [-4581703.28, -4578455.81],\n",
    "\t\t\t\t\t  [-4580664.6 , -4577890.98],\n",
    "\t\t\t\t\t  [-4579859.66, -4577140.71],\n",
    "\t\t\t\t\t  [-4578952.79, -4576545.1 ],\n",
    "\t\t\t\t\t  [-4578190.6 , -4576011.88],\n",
    "\t\t\t\t\t  [-4577508.68, -4575313.46],\n",
    "\t\t\t\t\t  [-4576812.1 , -4574810.81],\n",
    "\t\t\t\t\t  [-4576117.07, -4574246.79],\n",
    "\t\t\t\t\t  [-4575456.42, -4573528.77],\n",
    "\t\t\t\t\t  [-4575079.77, -4572995.22],\n",
    "\t\t\t\t\t  [-4574456.42, -4572555.19],\n",
    "\t\t\t\t\t  [-4573733.31, -4572173.41],\n",
    "\t\t\t\t\t  [-4572835.86, -4571679.54],\n",
    "\t\t\t\t\t  [-4571944.24, -4571347.05],\n",
    "\t\t\t\t\t  [-4571243.67, -4570827.76],\n",
    "\t\t\t\t\t  [-4570673.91, -4570314.32],\n",
    "\t\t\t\t\t  [-4570125.56, -4569726.02],\n",
    "\t\t\t\t\t  [-4569402.35, -4569275.26],\n",
    "\t\t\t\t\t  [-4568853.66, -4568817.24],\n",
    "\t\t\t\t\t  [-4568299.57, -4568358.15],\n",
    "\t\t\t\t\t  [-4567749.82, -4567980.21],\n",
    "\t\t\t\t\t  [-4567306.32, -4567479.81],\n",
    "\t\t\t\t\t  [-4566973.99, -4567107.05],\n",
    "\t\t\t\t\t  [-4566390.23, -4566979.09],\n",
    "\t\t\t\t\t  [-4566209.39, -4566688.21],\n",
    "\t\t\t\t\t  [-4565677.62, -4565677.62]])\n",
    "\n",
    "KNN_cv_scores.max()"
   ]
  },
  {
   "cell_type": "code",
   "execution_count": null,
   "metadata": {
    "collapsed": true,
    "scrolled": false
   },
   "outputs": [],
   "source": [
    "plt.figure(figsize=(15,8))\n",
    "plt.plot(KNN_cv_scores[:,1])\n",
    "plt.title(\"Error de KNN\")\n",
    "plt.xlabel(\"k\")\n",
    "plt.ylabel(\"neg_mean_squared_error\")\n",
    "plt.show()"
   ]
  },
  {
   "cell_type": "code",
   "execution_count": null,
   "metadata": {
    "collapsed": true,
    "scrolled": false
   },
   "outputs": [],
   "source": [
    "# print (np.array(KNN_cv_scores).round(2)\n",
    "\n",
    "# Estos prints están mal\n",
    "\n",
    "print (\"Best MSE: \" + str(np.array(KNN_cv_scores).round(2).max()))\n",
    "print (\"Index of best MSE: \" + str (np.array(KNN_cv_scores).round(2).argmax(axis=0)))\n",
    "print (\"Best k: \" + str(k_neighbors[KNN_cv_scores.round(2).argmax(axis=1)[0]]) )\n",
    "print (\"Best metric: \" + str(metrics[KNN_cv_scores.round(2).argmax(axis=1)[1]] ) )"
   ]
  },
  {
   "cell_type": "markdown",
   "metadata": {},
   "source": [
    "# Bagging KNN "
   ]
  },
  {
   "cell_type": "code",
   "execution_count": null,
   "metadata": {
    "collapsed": true
   },
   "outputs": [],
   "source": [
    "KNN = neighbors.KNeighborsRegressor(n_neighbors=40, metric='manhattan', weights = 'distance', n_jobs=-1)\n",
    "bagging = BaggingRegressor(KNN, n_estimators=20, oob_score=True, n_jobs=-1, max_samples=1.0)"
   ]
  },
  {
   "cell_type": "code",
   "execution_count": null,
   "metadata": {
    "collapsed": true
   },
   "outputs": [],
   "source": [
    "start = time()\n",
    "bagging.fit(reduced_data, target_values)\n",
    "print(\"bagging with knn took %.2f seconds\" % (time() - start))"
   ]
  },
  {
   "cell_type": "code",
   "execution_count": null,
   "metadata": {
    "collapsed": true
   },
   "outputs": [],
   "source": [
    "bagging.oob_score_"
   ]
  },
  {
   "cell_type": "markdown",
   "metadata": {},
   "source": [
    "# Decision Tree Regressor"
   ]
  },
  {
   "cell_type": "code",
   "execution_count": null,
   "metadata": {
    "collapsed": true
   },
   "outputs": [],
   "source": [
    "possible_depth = np.array(range(10,1001,10))"
   ]
  },
  {
   "cell_type": "code",
   "execution_count": null,
   "metadata": {
    "collapsed": true
   },
   "outputs": [],
   "source": [
    "cv_scores = []\n",
    "\n",
    "for current_depth in possible_depth:\n",
    "    \n",
    "    regr_1 = DecisionTreeRegressor(max_depth=current_depth)\n",
    "    scores = cross_val_score(regr_1, data, target_values, cv=10, scoring='neg_mean_squared_error')\n",
    "    DTR_cv_scores.append(scores.mean())"
   ]
  },
  {
   "cell_type": "code",
   "execution_count": null,
   "metadata": {
    "collapsed": true
   },
   "outputs": [],
   "source": [
    "print (\"Best MSE: \" + str(np.array(cv_scores).round(2).max()))\n",
    "print (\"Index of best MSE: \" + str (np.array(cv_scores).round(2).argmax()))\n",
    "print (\"Best depth: \" + str(possible_depth[np.array(cv_scores).round(2).argmax()]))"
   ]
  },
  {
   "cell_type": "code",
   "execution_count": null,
   "metadata": {
    "collapsed": true
   },
   "outputs": [],
   "source": [
    "plt.figure(figsize=(15,8))\n",
    "plt.scatter(x=range(len(y_1)),y=y_1)\n",
    "plt.show()"
   ]
  },
  {
   "cell_type": "code",
   "execution_count": null,
   "metadata": {
    "collapsed": true
   },
   "outputs": [],
   "source": [
    "plt.figure(figsize=(15,8))\n",
    "plt.ylim(0,531240)\n",
    "plt.scatter(x=range(len(Y_test)),y=Y_test)"
   ]
  },
  {
   "cell_type": "markdown",
   "metadata": {},
   "source": [
    "# Random Forest Regressor"
   ]
  },
  {
   "cell_type": "code",
   "execution_count": null,
   "metadata": {
    "collapsed": true
   },
   "outputs": [],
   "source": [
    "parameters = {\n",
    "                'max_depth':[5,6,7,8,9,10],\n",
    "                'max_features':[1,2,3,5,7]\n",
    "}"
   ]
  },
  {
   "cell_type": "code",
   "execution_count": null,
   "metadata": {
    "collapsed": true
   },
   "outputs": [],
   "source": [
    "regr_2 = RandomForestRegressor(n_estimators=50, oob_score=True)"
   ]
  },
  {
   "cell_type": "code",
   "execution_count": null,
   "metadata": {
    "collapsed": true
   },
   "outputs": [],
   "source": [
    "grid_search = GridSearchCV(regr_2, param_grid=parameters, n_jobs=-1, scoring='mean_squared_error')"
   ]
  },
  {
   "cell_type": "code",
   "execution_count": null,
   "metadata": {
    "collapsed": true
   },
   "outputs": [],
   "source": [
    "start = time()\n",
    "grid_search.fit(data, target_values)"
   ]
  },
  {
   "cell_type": "code",
   "execution_count": null,
   "metadata": {
    "collapsed": true
   },
   "outputs": [],
   "source": [
    "print(\"GridSearchCV took %.2f seconds for %d candidate parameter settings.\"\n",
    "      % (time() - start, len(grid_search.cv_results_['params'])))\n",
    "print(\"Best score: \", grid_search.best_score_ , \"Best parameters setting: \",grid_search.cv_results_['params'][grid_search.best_index_])"
   ]
  },
  {
   "cell_type": "markdown",
   "metadata": {},
   "source": [
    "# Bayesian Ridge Regression"
   ]
  },
  {
   "cell_type": "code",
   "execution_count": 121,
   "metadata": {
    "collapsed": true
   },
   "outputs": [],
   "source": [
    "lambda1_values = [1.e-1,1.e-2,1.e-3,1.e-4]\n",
    "lambda2_values = [1.e-7,1.e-8,1.e-9,1.e-10]\n",
    "BRR_scores = np.zeros((len(lambda1_values),len(lambda2_values)))\n",
    "\n",
    "for i,lambda1 in enumerate(lambda1_values):\n",
    "    for j, lambda2 in enumerate(lambda2_values):\n",
    "        \n",
    "        bayesian_regression = BayesianRidge(lambda_1=lambda1, lambda_2=lambda2)\n",
    "        scores = cross_val_score(bayesian_regression, data, target_values, cv=10, scoring='neg_mean_squared_error')\n",
    "        BRR_scores[i][j] = scores.mean()"
   ]
  },
  {
   "cell_type": "code",
   "execution_count": 119,
   "metadata": {},
   "outputs": [
    {
     "data": {
      "text/plain": [
       "array([[-671.48378628, -671.48378647, -671.48378656, -671.4837865 ],\n",
       "       [-671.48378649, -671.48378631, -671.4837863 , -671.48378622],\n",
       "       [-671.48378654, -671.48378628, -671.48378626, -671.48378601],\n",
       "       [-671.48378628, -671.4837862 , -671.48378651, -671.48378612]])"
      ]
     },
     "execution_count": 119,
     "metadata": {},
     "output_type": "execute_result"
    }
   ],
   "source": [
    "BRR_scores"
   ]
  },
  {
   "cell_type": "code",
   "execution_count": 120,
   "metadata": {},
   "outputs": [
    {
     "data": {
      "text/plain": [
       "-671.48378600770479"
      ]
     },
     "execution_count": 120,
     "metadata": {},
     "output_type": "execute_result"
    }
   ],
   "source": [
    "bayesian_regression = BayesianRidge(lambda_1=1.e-9, lambda_2=1.e-10)\n",
    "scores = cross_val_score(bayesian_regression, data, target_values, cv=10, scoring='neg_mean_squared_error')\n",
    "scores.mean()"
   ]
  },
  {
   "cell_type": "markdown",
   "metadata": {},
   "source": [
    "n_iter = 400 --> -671.48378613510704"
   ]
  },
  {
   "cell_type": "code",
   "execution_count": null,
   "metadata": {
    "collapsed": true
   },
   "outputs": [],
   "source": [
    "BRR_scores"
   ]
  },
  {
   "cell_type": "code",
   "execution_count": 120,
   "metadata": {
    "collapsed": true
   },
   "outputs": [],
   "source": [
    "bayesian_bagging = BaggingRegressor(bayesian_regression, n_estimators=50, oob_score=True, n_jobs=-1, max_samples=0.5, max_features=1.0)"
   ]
  },
  {
   "cell_type": "code",
   "execution_count": 121,
   "metadata": {},
   "outputs": [
    {
     "name": "stdout",
     "output_type": "stream",
     "text": [
      "bagging with knn took 52.81 seconds\n"
     ]
    }
   ],
   "source": [
    "start = time()\n",
    "bayesian_bagging.fit(data, target_values)\n",
    "print(\"bagging with knn took %.2f seconds\" % (time() - start))"
   ]
  },
  {
   "cell_type": "code",
   "execution_count": 122,
   "metadata": {},
   "outputs": [
    {
     "data": {
      "text/plain": [
       "0.99985771964936176"
      ]
     },
     "execution_count": 122,
     "metadata": {},
     "output_type": "execute_result"
    }
   ],
   "source": [
    "bayesian_bagging.oob_score_"
   ]
  },
  {
   "cell_type": "markdown",
   "metadata": {},
   "source": [
    "# Linear Regression "
   ]
  },
  {
   "cell_type": "code",
   "execution_count": 39,
   "metadata": {},
   "outputs": [
    {
     "data": {
      "text/plain": [
       "-671.50056893158012"
      ]
     },
     "execution_count": 39,
     "metadata": {},
     "output_type": "execute_result"
    }
   ],
   "source": [
    "linear_regr = LinearRegression(fit_intercept=False, n_jobs=-1)\n",
    "scores = cross_val_score(linear_regr, data, target_values, cv=10, scoring='neg_mean_squared_error')\n",
    "scores.mean()"
   ]
  },
  {
   "cell_type": "markdown",
   "metadata": {},
   "source": [
    "# Elastic Net "
   ]
  },
  {
   "cell_type": "code",
   "execution_count": 91,
   "metadata": {},
   "outputs": [
    {
     "data": {
      "text/plain": [
       "-4446976.4323270833"
      ]
     },
     "execution_count": 91,
     "metadata": {},
     "output_type": "execute_result"
    }
   ],
   "source": [
    "EN_regr = ElasticNet(alpha=0.5, l1_ratio=0.7, max_iter=2000)\n",
    "scores = cross_val_score(EN_regr, data_stand, target_values, cv=10, scoring='neg_mean_squared_error')\n",
    "scores.mean()"
   ]
  },
  {
   "cell_type": "markdown",
   "metadata": {},
   "source": [
    "# Predictions "
   ]
  },
  {
   "cell_type": "code",
   "execution_count": 37,
   "metadata": {
    "collapsed": true
   },
   "outputs": [],
   "source": [
    "trips = pd.read_csv('data/trip.csv')\n",
    "original_values = trips.loc[trips.id.isin(ids), ['id','duration']]"
   ]
  },
  {
   "cell_type": "markdown",
   "metadata": {},
   "source": [
    "### Bayesian Ridge Regression"
   ]
  },
  {
   "cell_type": "code",
   "execution_count": 38,
   "metadata": {
    "collapsed": true
   },
   "outputs": [],
   "source": [
    "bayesian_regression = BayesianRidge()"
   ]
  },
  {
   "cell_type": "code",
   "execution_count": 39,
   "metadata": {},
   "outputs": [
    {
     "data": {
      "text/plain": [
       "BayesianRidge(alpha_1=1e-06, alpha_2=1e-06, compute_score=False, copy_X=True,\n",
       "       fit_intercept=True, lambda_1=1e-06, lambda_2=1e-06, n_iter=300,\n",
       "       normalize=False, tol=0.001, verbose=False)"
      ]
     },
     "execution_count": 39,
     "metadata": {},
     "output_type": "execute_result"
    }
   ],
   "source": [
    "bayesian_regression.fit(data, target_values)"
   ]
  },
  {
   "cell_type": "code",
   "execution_count": 40,
   "metadata": {
    "collapsed": true
   },
   "outputs": [],
   "source": [
    "bayesian_pred = bayesian_regression.predict(trip_test)"
   ]
  },
  {
   "cell_type": "code",
   "execution_count": 41,
   "metadata": {
    "collapsed": true
   },
   "outputs": [],
   "source": [
    "BRR_results = pd.DataFrame(data=bayesian_pred, index=ids )\n",
    "BRR_results.reset_index(inplace=True)\n",
    "BRR_results.columns = ['id', 'duration']\n",
    "\n",
    "df = pd.merge(BRR_results, original_values, on='id')"
   ]
  },
  {
   "cell_type": "code",
   "execution_count": 42,
   "metadata": {},
   "outputs": [
    {
     "data": {
      "text/plain": [
       "603.2153832996873"
      ]
     },
     "execution_count": 42,
     "metadata": {},
     "output_type": "execute_result"
    }
   ],
   "source": [
    "# MSE\n",
    "((df['duration_x'] - df['duration_y']) ** 2).mean(axis=0)"
   ]
  },
  {
   "cell_type": "code",
   "execution_count": 43,
   "metadata": {
    "collapsed": true
   },
   "outputs": [],
   "source": [
    "BRR_results.to_csv('BRR_results.csv', index=False)"
   ]
  },
  {
   "cell_type": "markdown",
   "metadata": {},
   "source": [
    "### Linear Regression"
   ]
  },
  {
   "cell_type": "code",
   "execution_count": 217,
   "metadata": {},
   "outputs": [],
   "source": [
    "linear_regr = LinearRegression(fit_intercept=False,n_jobs=-1)"
   ]
  },
  {
   "cell_type": "code",
   "execution_count": 218,
   "metadata": {},
   "outputs": [
    {
     "data": {
      "text/plain": [
       "LinearRegression(copy_X=True, fit_intercept=False, n_jobs=-1, normalize=False)"
      ]
     },
     "execution_count": 218,
     "metadata": {},
     "output_type": "execute_result"
    }
   ],
   "source": [
    "linear_regr.fit(data_norm, target_values)"
   ]
  },
  {
   "cell_type": "code",
   "execution_count": 219,
   "metadata": {},
   "outputs": [],
   "source": [
    "linear_pred = linear_regr.predict(trip_test_norm)"
   ]
  },
  {
   "cell_type": "code",
   "execution_count": 220,
   "metadata": {
    "collapsed": true
   },
   "outputs": [],
   "source": [
    "linear_results = pd.DataFrame(data=linear_pred, index=ids )\n",
    "linear_results.reset_index(inplace=True)\n",
    "linear_results.columns = ['id', 'duration']\n",
    "\n",
    "df = pd.merge(linear_results, original_values, on='id')"
   ]
  },
  {
   "cell_type": "code",
   "execution_count": 221,
   "metadata": {},
   "outputs": [
    {
     "data": {
      "text/plain": [
       "603.2261374993856"
      ]
     },
     "execution_count": 221,
     "metadata": {},
     "output_type": "execute_result"
    }
   ],
   "source": [
    "# MSE\n",
    "((df['duration_x'] - df['duration_y']) ** 2).mean(axis=0)"
   ]
  },
  {
   "cell_type": "markdown",
   "metadata": {},
   "source": [
    "### Linear Regression Bagging "
   ]
  },
  {
   "cell_type": "code",
   "execution_count": 195,
   "metadata": {
    "collapsed": true
   },
   "outputs": [],
   "source": [
    "linear_regr = LinearRegression(fit_intercept=False,n_jobs=-1)\n",
    "linear_bagging = BaggingRegressor(linear_regr, n_estimators=50, max_samples=1.0, n_jobs=-1)"
   ]
  },
  {
   "cell_type": "code",
   "execution_count": 196,
   "metadata": {},
   "outputs": [
    {
     "name": "stdout",
     "output_type": "stream",
     "text": [
      "fit took %.2f seconds 42.752437114715576\n"
     ]
    }
   ],
   "source": [
    "start = time()\n",
    "linear_bagging.fit(data_norm, target_values)\n",
    "print(\"fit took %.2f seconds\", (time() - start))"
   ]
  },
  {
   "cell_type": "code",
   "execution_count": 197,
   "metadata": {
    "collapsed": true
   },
   "outputs": [],
   "source": [
    "LRB_pred = linear_bagging.predict(trip_test_norm)"
   ]
  },
  {
   "cell_type": "code",
   "execution_count": 198,
   "metadata": {
    "collapsed": true
   },
   "outputs": [],
   "source": [
    "LRB_results = pd.DataFrame(data=LRB_pred, index=ids )\n",
    "LRB_results.reset_index(inplace=True)\n",
    "LRB_results.columns = ['id', 'duration']\n",
    "\n",
    "df = pd.merge(LRB_results, original_values, on='id')"
   ]
  },
  {
   "cell_type": "code",
   "execution_count": 199,
   "metadata": {},
   "outputs": [
    {
     "data": {
      "text/plain": [
       "603.2121270258898"
      ]
     },
     "execution_count": 199,
     "metadata": {},
     "output_type": "execute_result"
    }
   ],
   "source": [
    "# MSE\n",
    "((df['duration_x'] - df['duration_y']) ** 2).mean(axis=0)"
   ]
  },
  {
   "cell_type": "markdown",
   "metadata": {},
   "source": [
    "### Bayesian Ridge Regression Bagging"
   ]
  },
  {
   "cell_type": "code",
   "execution_count": 148,
   "metadata": {
    "collapsed": true
   },
   "outputs": [],
   "source": [
    "bayesian_regression = BayesianRidge(lambda_1=1.e-9, lambda_2=1.e-10)\n",
    "bayesian_bagging = BaggingRegressor(bayesian_regression, n_estimators=50, max_samples=1.0, n_jobs=-1)"
   ]
  },
  {
   "cell_type": "code",
   "execution_count": 149,
   "metadata": {},
   "outputs": [
    {
     "name": "stdout",
     "output_type": "stream",
     "text": [
      "fit took %.2f seconds 73.57496786117554\n"
     ]
    }
   ],
   "source": [
    "start = time()\n",
    "bayesian_bagging.fit(data, target_values)\n",
    "print(\"fit took %.2f seconds\", (time() - start))"
   ]
  },
  {
   "cell_type": "code",
   "execution_count": 150,
   "metadata": {
    "collapsed": true
   },
   "outputs": [],
   "source": [
    "BRRB_pred = bayesian_bagging.predict(trip_test)"
   ]
  },
  {
   "cell_type": "code",
   "execution_count": 151,
   "metadata": {
    "collapsed": true
   },
   "outputs": [],
   "source": [
    "BRRB_results = pd.DataFrame(data=BRRB_pred, index=ids )\n",
    "BRRB_results.reset_index(inplace=True)\n",
    "BRRB_results.columns = ['id', 'duration']\n",
    "\n",
    "df = pd.merge(BRRB_results, original_values, on='id')"
   ]
  },
  {
   "cell_type": "code",
   "execution_count": 152,
   "metadata": {},
   "outputs": [
    {
     "data": {
      "text/plain": [
       "603.2381337039145"
      ]
     },
     "execution_count": 152,
     "metadata": {},
     "output_type": "execute_result"
    }
   ],
   "source": [
    "# MSE\n",
    "((df['duration_x'] - df['duration_y']) ** 2).mean(axis=0)"
   ]
  },
  {
   "cell_type": "markdown",
   "metadata": {},
   "source": [
    "### KNN"
   ]
  },
  {
   "cell_type": "code",
   "execution_count": 129,
   "metadata": {
    "collapsed": true
   },
   "outputs": [],
   "source": [
    "KNN = neighbors.KNeighborsRegressor(n_neighbors=40, metric='manhattan', weights = 'distance', n_jobs=-1)"
   ]
  },
  {
   "cell_type": "code",
   "execution_count": 130,
   "metadata": {},
   "outputs": [
    {
     "data": {
      "text/plain": [
       "KNeighborsRegressor(algorithm='auto', leaf_size=30, metric='manhattan',\n",
       "          metric_params=None, n_jobs=-1, n_neighbors=40, p=2,\n",
       "          weights='distance')"
      ]
     },
     "execution_count": 130,
     "metadata": {},
     "output_type": "execute_result"
    }
   ],
   "source": [
    "KNN.fit(reduced_data, target_values)"
   ]
  },
  {
   "cell_type": "code",
   "execution_count": 131,
   "metadata": {
    "collapsed": true
   },
   "outputs": [],
   "source": [
    "KNN_pred = KNN.predict(reduced_test)"
   ]
  },
  {
   "cell_type": "code",
   "execution_count": 132,
   "metadata": {
    "collapsed": true
   },
   "outputs": [],
   "source": [
    "KNN_results = pd.DataFrame(data=KNN_pred, index=ids )\n",
    "KNN_results.reset_index(inplace=True)\n",
    "KNN_results.columns = ['id', 'duration']\n",
    "\n",
    "df = pd.merge(KNN_results, original_values, on='id')"
   ]
  },
  {
   "cell_type": "code",
   "execution_count": 133,
   "metadata": {},
   "outputs": [
    {
     "data": {
      "text/plain": [
       "42040308.24206249"
      ]
     },
     "execution_count": 133,
     "metadata": {},
     "output_type": "execute_result"
    }
   ],
   "source": [
    "# MSE\n",
    "((df['duration_x'] - df['duration_y']) ** 2).mean(axis=0)"
   ]
  },
  {
   "cell_type": "markdown",
   "metadata": {},
   "source": [
    "### Random Forest Regressor "
   ]
  },
  {
   "cell_type": "code",
   "execution_count": null,
   "metadata": {
    "collapsed": true
   },
   "outputs": [],
   "source": [
    "RFR = RandomForestRegressor(n_estimators=50, max_features=7, max_depth=8)"
   ]
  },
  {
   "cell_type": "code",
   "execution_count": null,
   "metadata": {
    "collapsed": true
   },
   "outputs": [],
   "source": [
    "RFR.fit(data, target_values)"
   ]
  },
  {
   "cell_type": "code",
   "execution_count": null,
   "metadata": {
    "collapsed": true
   },
   "outputs": [],
   "source": [
    "RFR_pred = RFR.predict(trip_test)"
   ]
  },
  {
   "cell_type": "code",
   "execution_count": null,
   "metadata": {
    "collapsed": true
   },
   "outputs": [],
   "source": [
    "RFR_results = pd.DataFrame(data=RFR_pred, index=ids )\n",
    "RFR_results.reset_index(inplace=True)\n",
    "RFR_results.columns = ['id', 'duration']\n",
    "\n",
    "df = pd.merge(RFR_results, original_values, on='id')"
   ]
  },
  {
   "cell_type": "code",
   "execution_count": null,
   "metadata": {
    "collapsed": true
   },
   "outputs": [],
   "source": [
    "# MSE\n",
    "((df['duration_x'] - df['duration_y']) ** 2).mean(axis=0)"
   ]
  },
  {
   "cell_type": "markdown",
   "metadata": {},
   "source": [
    "### Averaging"
   ]
  },
  {
   "cell_type": "code",
   "execution_count": 226,
   "metadata": {
    "collapsed": true
   },
   "outputs": [],
   "source": [
    "avg_results = pd.merge(LRB_results, BRRB_results, on='id')"
   ]
  },
  {
   "cell_type": "code",
   "execution_count": 227,
   "metadata": {
    "collapsed": true
   },
   "outputs": [],
   "source": [
    "avg_results['duration'] = pd.DataFrame(data=avg_results.loc[:, ['duration_x','duration_y']].mean(axis=1))\n",
    "avg_results.drop(labels=['duration_x','duration_y'], axis=1, inplace=True)"
   ]
  },
  {
   "cell_type": "code",
   "execution_count": 203,
   "metadata": {
    "collapsed": true
   },
   "outputs": [],
   "source": [
    "df = pd.merge(avg_results, original_values, on='id')"
   ]
  },
  {
   "cell_type": "code",
   "execution_count": 204,
   "metadata": {},
   "outputs": [
    {
     "data": {
      "text/plain": [
       "603.2239918213355"
      ]
     },
     "execution_count": 204,
     "metadata": {},
     "output_type": "execute_result"
    }
   ],
   "source": [
    "# MSE\n",
    "((df['duration_x'] - df['duration_y']) ** 2).mean(axis=0)"
   ]
  },
  {
   "cell_type": "markdown",
   "metadata": {
    "collapsed": true
   },
   "source": [
    "# Algorithm "
   ]
  },
  {
   "cell_type": "code",
   "execution_count": 282,
   "metadata": {
    "collapsed": true
   },
   "outputs": [],
   "source": [
    "# Python 2\n",
    "from __future__ import division\n",
    "\n",
    "# Dataframe\n",
    "import pandas as pd\n",
    "import numpy as np\n",
    "\n",
    "# Time measurement\n",
    "import datetime\n",
    "from time import time\n",
    "\n",
    "# The Hashing Trick\n",
    "from sklearn import preprocessing\n",
    "from sklearn.feature_extraction import FeatureHasher\n",
    "\n",
    "# Dimension Reduction\n",
    "from sklearn.decomposition import TruncatedSVD\n",
    "\n",
    "# ML\n",
    "from sklearn.ensemble import BaggingRegressor\n",
    "from sklearn.linear_model import BayesianRidge\n",
    "from sklearn.linear_model import LinearRegression\n",
    "\n",
    "\n",
    "def preprocess_data(stations, weather, train_trips, test_trips):\n",
    "\n",
    "    stations = pd.merge(stations, cities, on='city', how='left').loc[:, ['id', 'zip_code']]\n",
    "    stations.columns = ['start_station_id', 'city_zip_code']\n",
    "\n",
    "    train_trips = pd.merge(train_trips, stations, on='start_station_id', how='left')\n",
    "    train_trips['date'] = pd.to_datetime(train_trips.start_date.dt.date)\n",
    "    train_trips.start_date = train_trips.start_date.apply(lambda x: int((x - datetime.datetime(1994, 4, 29)).total_seconds()))\n",
    "    train_trips.end_date = train_trips.end_date.apply(lambda x: int((x - datetime.datetime(1994, 4, 29)).total_seconds()))\n",
    "\n",
    "    test_trips = pd.merge(test_trips, stations, on='start_station_id', how='left')\n",
    "    test_trips['date'] = pd.to_datetime(test_trips.start_date.dt.date)\n",
    "    test_trips.start_date = test_trips.start_date.apply(lambda x: int((x - datetime.datetime(1994, 4, 29)).total_seconds()))\n",
    "    test_trips.end_date = test_trips.end_date.apply(lambda x: int((x - datetime.datetime(1994, 4, 29)).total_seconds()))\n",
    "\n",
    "    weather.rename(columns={'zip_code': 'city_zip_code'}, inplace=True)\n",
    "    weather.precipitation_inches = pd.to_numeric(weather.precipitation_inches, errors='coerse')\n",
    "    weather.precipitation_inches.fillna(0, inplace=True)\n",
    "\n",
    "    train_data = pd.merge(train_trips, weather, on=['date', 'city_zip_code'], how='inner')\n",
    "    train_data.drop(labels=['id', 'start_station_name', 'end_station_name', 'date', 'zip_code', 'bike_id'], axis=1, inplace=True)\n",
    "\n",
    "    test_data = pd.merge(test_trips, weather, on=['date', 'city_zip_code'], how='inner')\n",
    "    test_data.drop(labels=['start_station_name', 'end_station_name', 'date', 'zip_code', 'bike_id'], axis=1, inplace=True)\n",
    "\n",
    "    return train_data, test_data\n",
    "\n",
    "\n",
    "def the_Hashing_Trick(data, column_labels):\n",
    "\n",
    "    temp = []\n",
    "\n",
    "    for row in data.loc[:, column_labels].iterrows():\n",
    "        index, value = row\n",
    "        for i in range(len(value)):\n",
    "            value[i] = str(value[i])\n",
    "        temp.append(value.tolist())\n",
    "\n",
    "    h = FeatureHasher(n_features=10, input_type='string')\n",
    "    f = h.transform(raw_X=temp)\n",
    "\n",
    "    data = pd.concat([data, pd.DataFrame(f.todense())], axis=1)\n",
    "    data.drop(labels=column_labels, axis=1, inplace=True)\n",
    "\n",
    "    return data\n",
    "\n",
    "\n",
    "def data_normalization(train_data, test_data):\n",
    "\n",
    "    data = (train_data - train_data.mean()) / (train_data.max() - train_data.min())\n",
    "\n",
    "    t_data = (test_data - test_data.mean()) / (test_data.max() - test_data.min())\n",
    "    \n",
    "    return data, t_data\n",
    "\n",
    "\n",
    "def reduce_dimentions_to(data, n_dimensions = 5):\n",
    "\n",
    "    svd = TruncatedSVD(n_components=n_dimensions, n_iter=7, random_state=42)\n",
    "\n",
    "    return svd.fit_transform(data)\n",
    "\n",
    "\n",
    "def impute_nan(data, strategy):\n",
    "\n",
    "    return preprocessing.Imputer(missing_values='NaN', strategy=strategy, axis=0).fit_transform(data)\n",
    "\n",
    "\n",
    "def train_bayesian_model(x, y):\n",
    "\n",
    "    bayesian_regression = BayesianRidge(lambda_1=1.e-9, lambda_2=1.e-10)\n",
    "\n",
    "    return BaggingRegressor(bayesian_regression, n_estimators=20, max_samples=0.5, n_jobs=-1).fit(x, y)\n",
    "\n",
    "\n",
    "def train_linear_model(x, y):\n",
    "\n",
    "    linear_regression = LinearRegression(fit_intercept=False,n_jobs=-1)\n",
    "\n",
    "    return BaggingRegressor(linear_regression, n_estimators=20, max_samples=1.0, n_jobs=-1).fit(x, y)\n",
    "\n",
    "\n",
    "#input\n",
    "stations = pd.read_csv('data/station.csv')\n",
    "weather = pd.read_csv('data/weather.csv', parse_dates=['date'], infer_datetime_format=True)\n",
    "cities = pd.read_csv('data/cities.csv')\n",
    "\n",
    "trip_train = pd.read_csv('data/trip_train.csv',  parse_dates=['start_date', 'end_date'], infer_datetime_format=True,low_memory=False)\n",
    "trip_test = pd.read_csv('data/trip_test.csv',  parse_dates=['start_date', 'end_date'], infer_datetime_format=True,low_memory=False)\n",
    "\n",
    "# Pre-processing\n",
    "train_set, test_set = preprocess_data(stations, weather, trip_train, trip_test)\n",
    "\n",
    "# Feature Hashing\n",
    "column_labels = ['start_station_id','end_station_id','subscription_type','city_zip_code','events']\n",
    "train_set = the_Hashing_Trick(train_set, column_labels)\n",
    "test_set = the_Hashing_Trick(test_set, column_labels)\n",
    "\n",
    "target_values = train_set['duration']\n",
    "train_set.drop(labels='duration', axis=1, inplace=True)\n",
    "\n",
    "ids = test_set['id']\n",
    "test_set.drop(labels=['id'], axis=1, inplace=True)\n",
    "\n",
    "# NaN Imputation\n",
    "train_set = impute_nan(train_set, 'most_frequent')\n",
    "test_set = impute_nan(test_set, 'most_frequent')\n",
    "\n",
    "# Data Normalization\n",
    "train_set_normalized, test_set_normalized = data_normalization(train_set, test_set)\n",
    "\n",
    "# Training\n",
    "bayesian_regressor = train_bayesian_model(train_set, target_values)\n",
    "linear_regressor = train_linear_model(train_set_normalized, target_values)\n",
    "\n",
    "# Predictions\n",
    "bayesian_pred = bayesian_regressor.predict(test_set)\n",
    "bayesian_results = pd.DataFrame(data=bayesian_pred, index=ids)\n",
    "bayesian_results.reset_index(inplace=True)\n",
    "bayesian_results.columns = ['id', 'duration']\n",
    "\n",
    "linear_pred = linear_regressor.predict(test_set_normalized)\n",
    "linear_results = pd.DataFrame(data=linear_pred, index=ids)\n",
    "linear_results.reset_index(inplace=True)\n",
    "linear_results.columns = ['id', 'duration']\n",
    "\n",
    "results = pd.merge(linear_results, bayesian_results, on='id')\n",
    "results['duration'] = pd.DataFrame(data=results.loc[:, ['duration_x','duration_y']].mean(axis=1))\n",
    "results.drop(labels=['duration_x','duration_y'], axis=1, inplace=True)\n",
    "\n",
    "results.to_csv('results.csv', index=False)"
   ]
  },
  {
   "cell_type": "code",
   "execution_count": null,
   "metadata": {
    "collapsed": true
   },
   "outputs": [],
   "source": []
  }
 ],
 "metadata": {
  "kernelspec": {
   "display_name": "Python 3",
   "language": "python",
   "name": "python3"
  },
  "language_info": {
   "codemirror_mode": {
    "name": "ipython",
    "version": 3
   },
   "file_extension": ".py",
   "mimetype": "text/x-python",
   "name": "python",
   "nbconvert_exporter": "python",
   "pygments_lexer": "ipython3",
   "version": "3.6.1"
  }
 },
 "nbformat": 4,
 "nbformat_minor": 2
}
